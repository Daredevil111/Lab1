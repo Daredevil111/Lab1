{
 "cells": [
  {
   "cell_type": "markdown",
   "metadata": {},
   "source": [
    "# Short Assessed Exercise\n",
    "# Level  7\n",
    "## Hansel Rodrigues\n",
    "## Student ID: 230603866\n",
    "## Version 1 (16 November 2023)\n",
    "\n"
   ]
  },
  {
   "cell_type": "markdown",
   "metadata": {},
   "source": [
    "## Summary of the Question \n",
    "\n",
    "Write a program that ...\n",
    "\n",
    "The program MUST be structured as a series of methods where the first method calls a series of others in turn. They will either get values and return results back to the first method, or take arguments and return calculated results or take arguments and print results. \n",
    "\n",
    "The first method uses the returned values to pass arguments to the next method."
   ]
  },
  {
   "cell_type": "markdown",
   "metadata": {},
   "source": [
    "## Justification that the program passes this level\n",
    "This is based on tick boxes at start of the question description for short program level 2\n",
    "I can \n",
    "- Write a literate version of the code.\n",
    "- EXPLAIN HOW YOUR PROGRAM WORKS \n",
    "- Use input instructions\n",
    "- Use assignment and variables\n",
    "- Use final variables to store literal values rather than values appearing through the code.\n",
    "- Define all variables inside methods\n",
    "- Use arithmetic expressions\n",
    "- Split code in to methods at least one of which takes arguments and returns a result\n",
    "- Make simple use of comments – at least the author’s name, student number and date and an explanation of what the program does overall"
   ]
  },
  {
   "cell_type": "markdown",
   "metadata": {},
   "source": [
    "## The literate program development"
   ]
  },
  {
   "cell_type": "markdown",
   "metadata": {},
   "source": [
    "### createCandidateRecords\n",
    "\n",
    "#### What it does\n",
    "This method helps create an election candidate record and stores the necessary information in the record.\n",
    "#### Implementation (how it works)\n",
    "It just checks if the votes entered are positive numbers and then stores the necessary information in the record.\n",
    "\n"
   ]
  },
  {
   "cell_type": "code",
   "execution_count": 20,
   "metadata": {},
   "outputs": [],
   "source": [
    "// record to store information about election candidate\n",
    "class ElectionCandidates\n",
    "{\n",
    "    String candidate_name;\n",
    "    String party_name;\n",
    "    int votes;\n",
    "    boolean winner;\n",
    "        \n",
    "} //END class ElectionCandidates\n",
    "\n",
    "// A method that helps create an election candidate record\n",
    "//\n",
    "public static void createCandidateRecords (ElectionCandidates candidate, String candidate_name, String party_name, int votes)\n",
    "{\n",
    "    // validates that the number of votes is not negative\n",
    "    while (votes < 0) \n",
    "    {\n",
    "        System.out.println(\"The input is invalid as the number of votes cannot be negative. Please enter only positive values\");\n",
    "        \n",
    "        votes = new Scanner (System.in).nextInt();\n",
    "    }\n",
    "    \n",
    "    candidate.candidate_name = candidate_name;\n",
    "    candidate.party_name = party_name;\n",
    "    candidate.votes = votes;\n",
    "    candidate.winner = false;\n",
    "    return; \n",
    "} //END createCandidateRecords\n",
    "\n"
   ]
  },
  {
   "cell_type": "markdown",
   "metadata": {},
   "source": [
    "#### Testing"
   ]
  },
  {
   "cell_type": "code",
   "execution_count": 21,
   "metadata": {},
   "outputs": [],
   "source": [
    "ElectionCandidates candidate = new ElectionCandidates();\n",
    "createCandidateRecords (candidate ,\"Hansel\", \"Tokyo Revengers\", 3);"
   ]
  },
  {
   "cell_type": "markdown",
   "metadata": {},
   "source": [
    "### candidateInformation\n",
    "\n",
    "#### What it does\n",
    "This method just asks the user for input for the necessary information.\n",
    "\n",
    "#### Implementation (how it works)\n",
    "It is just print statements that asks the user for input for each piece if information.\n",
    "\n",
    "\n"
   ]
  },
  {
   "cell_type": "code",
   "execution_count": 22,
   "metadata": {},
   "outputs": [],
   "source": [
    "// a method that asks the user to input the details of the election\n",
    "public static void candidateInformation (Scanner scanner, ElectionCandidates candidate)\n",
    "{\n",
    "    candidate.candidate_name = scanner.nextLine();\n",
    "    System.out.println(\"What party did they stand for? \");\n",
    "    candidate.party_name = scanner.nextLine();\n",
    "    System.out.println(\"How many votes did they gain? \");\n",
    "    candidate.votes = scanner.nextInt();\n",
    "    System.out.println(\"\\n \");\n",
    "    scanner.nextLine();\n",
    "    return;\n",
    "    \n",
    "} //END candidateInformation\n"
   ]
  },
  {
   "cell_type": "markdown",
   "metadata": {},
   "source": [
    "#### Testing"
   ]
  },
  {
   "cell_type": "code",
   "execution_count": 23,
   "metadata": {
    "jp-MarkdownHeadingCollapsed": true
   },
   "outputs": [
    {
     "name": "stdin",
     "output_type": "stream",
     "text": [
      " e\n"
     ]
    },
    {
     "name": "stdout",
     "output_type": "stream",
     "text": [
      "What party did they stand for? \n"
     ]
    },
    {
     "name": "stdin",
     "output_type": "stream",
     "text": [
      " er\n"
     ]
    },
    {
     "name": "stdout",
     "output_type": "stream",
     "text": [
      "How many votes did they gain? \n"
     ]
    },
    {
     "name": "stdin",
     "output_type": "stream",
     "text": [
      " 23\n"
     ]
    },
    {
     "name": "stdout",
     "output_type": "stream",
     "text": [
      "\n",
      " \n"
     ]
    }
   ],
   "source": [
    "Scanner scanner = new Scanner(System.in);\n",
    "ElectionCandidates candidate = new ElectionCandidates();\n",
    "candidateInformation (scanner, candidate);"
   ]
  },
  {
   "cell_type": "markdown",
   "metadata": {},
   "source": [
    "#### checkWinner \n",
    "\n",
    "#### What it does\n",
    "This method checks which candidate has more votes and returns that candidate as winner. It also has a draw condition.\n",
    "#### Implementation (how it works)\n",
    "This method just uses a series of if conditions to check which candidate has more votes and returns that candidate as winner through boolean logic.\n"
   ]
  },
  {
   "cell_type": "code",
   "execution_count": 24,
   "metadata": {},
   "outputs": [],
   "source": [
    "// A method that checks which candidate has more votes\n",
    "public static boolean checkWinner (ElectionCandidates candidate1, ElectionCandidates candidate2)\n",
    "{\n",
    "    if (candidate1.votes > candidate2.votes)\n",
    "    {\n",
    "        candidate1.winner = true;\n",
    "    }\n",
    "    else if (candidate2.votes > candidate1.votes)\n",
    "    {\n",
    "        candidate2.winner = true;\n",
    "    }\n",
    "    else\n",
    "    {\n",
    "        \n",
    "        boolean response = true;\n",
    "        return response;\n",
    "    }\n",
    "    return false;\n",
    "    \n",
    "    \n",
    "} //END checkWinner \n",
    "\n"
   ]
  },
  {
   "cell_type": "markdown",
   "metadata": {},
   "source": [
    "#### Testing"
   ]
  },
  {
   "cell_type": "code",
   "execution_count": 25,
   "metadata": {},
   "outputs": [
    {
     "data": {
      "text/plain": [
       "true"
      ]
     },
     "execution_count": 25,
     "metadata": {},
     "output_type": "execute_result"
    }
   ],
   "source": [
    "ElectionCandidates candidate1 = new ElectionCandidates();\n",
    "ElectionCandidates candidate2 = new ElectionCandidates();\n",
    "checkWinner (candidate1, candidate2);"
   ]
  },
  {
   "cell_type": "markdown",
   "metadata": {},
   "source": [
    "### winnerDetails\n",
    "\n",
    "#### What it does\n",
    "This method just outputs the winner of the election with the number of votes they win by and difference.\n",
    "#### Implementation (how it works)\n",
    "It is just two print statements that outputs the winner of the election, the number of votes they won by and the difference.\n"
   ]
  },
  {
   "cell_type": "code",
   "execution_count": 26,
   "metadata": {},
   "outputs": [],
   "source": [
    "// a method that displays the winner of the election with the number of votes and difference\n",
    "public static void winnerDetails (ElectionCandidates winner,ElectionCandidates candidate1, ElectionCandidates candidate2)\n",
    "{\n",
    "    System.out.println(winner.candidate_name + \" of \" + winner.party_name + \" is declared the winner with \" + winner.votes + \" votes.\");\n",
    "    System.out.println(\"They have a majority of \" +  Math.abs(candidate1.votes - candidate2.votes));\n",
    "    return;\n",
    "    \n",
    "} // END winnerDetails\n"
   ]
  },
  {
   "cell_type": "markdown",
   "metadata": {},
   "source": [
    "Testing"
   ]
  },
  {
   "cell_type": "code",
   "execution_count": 27,
   "metadata": {},
   "outputs": [
    {
     "name": "stdout",
     "output_type": "stream",
     "text": [
      "null of null is declared the winner with 0 votes.\n",
      "They have a majority of 0\n"
     ]
    }
   ],
   "source": [
    "ElectionCandidates candidate1 = new ElectionCandidates();\n",
    "ElectionCandidates candidate2 = new ElectionCandidates();\n",
    "ElectionCandidates winner = new ElectionCandidates();\n",
    "winnerDetails (winner, candidate1, candidate2);"
   ]
  },
  {
   "cell_type": "markdown",
   "metadata": {},
   "source": [
    "### theElection\n",
    "\n",
    "#### What it does\n",
    "This method just prints all the necessary information of the election by calling all the other methods.\n",
    "#### Implementation (how it works)\n",
    "It just calls calls all the other methods to determine the winner and there is also if conditions to check if the election is a draw."
   ]
  },
  {
   "cell_type": "code",
   "execution_count": 28,
   "metadata": {},
   "outputs": [],
   "source": [
    "// a method that calls all other methods to produce the neccessary output\n",
    "public static void theElection ()\n",
    "{\n",
    "    Scanner scanner = new Scanner (System.in);\n",
    "\n",
    "    ElectionCandidates candidate1 = new ElectionCandidates();\n",
    "    createCandidateRecords (candidate1, \"\", \"\", 0);\n",
    "    System.out.println(\"What is the name of the first candidate? \");\n",
    "    candidateInformation (scanner, candidate1);\n",
    "\n",
    "    ElectionCandidates candidate2 = new ElectionCandidates();\n",
    "    createCandidateRecords (candidate2, \"\", \"\", 0);\n",
    "    System.out.println(\"What is the name of the second candidate? \");\n",
    "    candidateInformation (scanner, candidate2);\n",
    "\n",
    "    boolean election_draw = checkWinner (candidate1, candidate2);\n",
    "    if (election_draw)\n",
    "    {\n",
    "        System.out.println(\"It is a draw. There will be a new election.\");\n",
    "    }\n",
    "    else\n",
    "    {\n",
    "        ElectionCandidates winner = candidate1.winner? candidate1: candidate2;\n",
    "        winnerDetails (winner, candidate1, candidate2);\n",
    "    }\n",
    "    return;\n",
    "} //END theElection"
   ]
  },
  {
   "cell_type": "code",
   "execution_count": 14,
   "metadata": {},
   "outputs": [
    {
     "name": "stdout",
     "output_type": "stream",
     "text": [
      "What is the name of the first candidate? \n"
     ]
    },
    {
     "name": "stdin",
     "output_type": "stream",
     "text": [
      " er\n"
     ]
    },
    {
     "name": "stdout",
     "output_type": "stream",
     "text": [
      "What party did they stand for? \n"
     ]
    },
    {
     "name": "stdin",
     "output_type": "stream",
     "text": [
      " wew\n"
     ]
    },
    {
     "name": "stdout",
     "output_type": "stream",
     "text": [
      "How many votes did they gain? \n"
     ]
    },
    {
     "name": "stdin",
     "output_type": "stream",
     "text": [
      " -4\n"
     ]
    },
    {
     "name": "stdout",
     "output_type": "stream",
     "text": [
      "\n",
      " \n",
      "What is the name of the second candidate? \n"
     ]
    },
    {
     "name": "stdin",
     "output_type": "stream",
     "text": [
      " 23\n"
     ]
    },
    {
     "name": "stdout",
     "output_type": "stream",
     "text": [
      "What party did they stand for? \n"
     ]
    },
    {
     "name": "stdin",
     "output_type": "stream",
     "text": [
      " sd\n"
     ]
    },
    {
     "name": "stdout",
     "output_type": "stream",
     "text": [
      "How many votes did they gain? \n"
     ]
    },
    {
     "name": "stdin",
     "output_type": "stream",
     "text": [
      " -1\n"
     ]
    },
    {
     "name": "stdout",
     "output_type": "stream",
     "text": [
      "\n",
      " \n",
      "23 of sd is declared the winner with -1 votes.\n",
      "They have a majority of 3\n"
     ]
    }
   ],
   "source": [
    "theElection ();"
   ]
  },
  {
   "cell_type": "markdown",
   "metadata": {},
   "source": [
    "### Running the program\n",
    "Run the following call to simulate running the complete program."
   ]
  },
  {
   "cell_type": "code",
   "execution_count": 31,
   "metadata": {},
   "outputs": [
    {
     "name": "stdout",
     "output_type": "stream",
     "text": [
      "What is the name of the first candidate? \n"
     ]
    },
    {
     "name": "stdin",
     "output_type": "stream",
     "text": [
      " Fotherington-Smythe\n"
     ]
    },
    {
     "name": "stdout",
     "output_type": "stream",
     "text": [
      "What party did they stand for? \n"
     ]
    },
    {
     "name": "stdin",
     "output_type": "stream",
     "text": [
      " The Greedy Party\n"
     ]
    },
    {
     "name": "stdout",
     "output_type": "stream",
     "text": [
      "How many votes did they gain? \n"
     ]
    },
    {
     "name": "stdin",
     "output_type": "stream",
     "text": [
      " 5221\n"
     ]
    },
    {
     "name": "stdout",
     "output_type": "stream",
     "text": [
      "\n",
      " \n",
      "What is the name of the second candidate? \n"
     ]
    },
    {
     "name": "stdin",
     "output_type": "stream",
     "text": [
      "  Smith\n"
     ]
    },
    {
     "name": "stdout",
     "output_type": "stream",
     "text": [
      "What party did they stand for? \n"
     ]
    },
    {
     "name": "stdin",
     "output_type": "stream",
     "text": [
      "  The Equality Party\n"
     ]
    },
    {
     "name": "stdout",
     "output_type": "stream",
     "text": [
      "How many votes did they gain? \n"
     ]
    },
    {
     "name": "stdin",
     "output_type": "stream",
     "text": [
      " 16457\n"
     ]
    },
    {
     "name": "stdout",
     "output_type": "stream",
     "text": [
      "\n",
      " \n",
      " Smith of  The Equality Party is declared the winner with 16457 votes.\n",
      "They have a majority of 11236\n"
     ]
    }
   ],
   "source": [
    "theElection ();"
   ]
  },
  {
   "cell_type": "markdown",
   "metadata": {},
   "source": [
    "## The complete program \n",
    "This version will only compile here. To run it copy it into a file called initials.java on your local computer and compile and run it there."
   ]
  },
  {
   "cell_type": "code",
   "execution_count": 29,
   "metadata": {},
   "outputs": [],
   "source": [
    "/* **********************\n",
    "  @author    Hansel Rodrigues\n",
    "  @SID       230603866\n",
    "  @date      16 November 2023\n",
    "  @version   1\n",
    "\n",
    "This is a  program that prints information about the result of an election where two candidates stand\n",
    "   ********************/\n",
    "\n",
    "// record to store information about election candidate\n",
    "class ElectionCandidates\n",
    "{\n",
    "    String candidate_name;\n",
    "    String party_name;\n",
    "    int votes;\n",
    "    boolean winner;\n",
    "        \n",
    "} //END class ElectionCandidates\n",
    "\n",
    "class ElectionResults\n",
    "{\n",
    "    public static void main (String [] a)\n",
    "    {\n",
    "        theElection ();\n",
    "        return;\n",
    "    } // END main\n",
    "    \n",
    "    // a method that calls all other methods to produce the neccessary output\n",
    "    public static void theElection ()\n",
    "    {\n",
    "        Scanner scanner = new Scanner (System.in);\n",
    "\n",
    "        ElectionCandidates candidate1 = new ElectionCandidates();\n",
    "        createCandidateRecords (candidate1, \"\", \"\", 0);\n",
    "        System.out.println(\"What is the name of the first candidate? \");\n",
    "        candidateInformation (scanner, candidate1);\n",
    "\n",
    "        ElectionCandidates candidate2 = new ElectionCandidates();\n",
    "        createCandidateRecords (candidate2, \"\", \"\", 0);\n",
    "        System.out.println(\"What is the name of the second candidate? \");\n",
    "        candidateInformation (scanner, candidate2);\n",
    "\n",
    "        boolean election_draw = checkWinner (candidate1, candidate2);\n",
    "        if (election_draw)\n",
    "        {\n",
    "            System.out.println(\"It is a draw. There will be a new election.\");\n",
    "        }\n",
    "        else\n",
    "        {\n",
    "            ElectionCandidates winner = candidate1.winner? candidate1: candidate2;\n",
    "            winnerDetails (winner, candidate1, candidate2);\n",
    "        }\n",
    "        return;\n",
    "    } //END theElection\n",
    "\n",
    "    // A method that helps create an election candidate record\n",
    "\n",
    "    public static void createCandidateRecords (ElectionCandidates candidate, String candidate_name, String party_name, int votes)\n",
    "    {\n",
    "        final int LOWEST_NUMBER_VOTES = 0;\n",
    "        // validates that the number of votes is not negative\n",
    "        while (votes < LOWEST_NUMBER_VOTES) \n",
    "        {\n",
    "            System.out.println(\"The input is invalid as the number of votes cannot be negative. Please enter only positive values\");\n",
    "        \n",
    "            votes = new Scanner (System.in).nextInt();\n",
    "        }\n",
    "    \n",
    "        candidate.candidate_name = candidate_name;\n",
    "        candidate.party_name = party_name;\n",
    "        candidate.votes = votes;\n",
    "        candidate.winner = false;\n",
    "        return; \n",
    "    } //END createCandidateRecords\n",
    "\n",
    "    // a method that asks the user to input the details of the election\n",
    "    public static void candidateInformation (Scanner scanner, ElectionCandidates candidate)\n",
    "    {\n",
    "        candidate.candidate_name = scanner.nextLine();\n",
    "        System.out.println(\"What party did they stand for? \");\n",
    "        candidate.party_name = scanner.nextLine();\n",
    "        System.out.println(\"How many votes did they gain? \");\n",
    "        candidate.votes = scanner.nextInt();\n",
    "        System.out.println(\"\\n \");\n",
    "        scanner.nextLine();\n",
    "        return;\n",
    "    \n",
    "    } //END candidateInformation\n",
    "\n",
    "    // A method that checks which candidate has more votes\n",
    "    public static boolean checkWinner (ElectionCandidates candidate1, ElectionCandidates candidate2)\n",
    "    {\n",
    "        if (candidate1.votes > candidate2.votes)\n",
    "        {\n",
    "            candidate1.winner = true;\n",
    "        }\n",
    "        else if (candidate2.votes > candidate1.votes)\n",
    "        {\n",
    "            candidate2.winner = true;\n",
    "        }\n",
    "        else\n",
    "        {\n",
    "        \n",
    "            boolean response = true;\n",
    "            return response;\n",
    "        }\n",
    "        return false;\n",
    "    \n",
    "    \n",
    "    } //END checkWinner\n",
    "\n",
    "    // a method that displays the winner of the election with the number of votes and difference\n",
    "    public static void winnerDetails (ElectionCandidates winner,ElectionCandidates candidate1, ElectionCandidates candidate2)\n",
    "    {\n",
    "        System.out.println(winner.candidate_name + \" of \" + winner.party_name + \" is declared the winner with \" + winner.votes + \" votes.\");\n",
    "        System.out.println(\"They have a majority of \" +  Math.abs(candidate1.votes - candidate2.votes));\n",
    "        return;\n",
    "    \n",
    "    } // END winnerDetails\n",
    "\n",
    "       \n",
    "} // END class ElectionResults\n"
   ]
  },
  {
   "cell_type": "code",
   "execution_count": 30,
   "metadata": {},
   "outputs": [
    {
     "name": "stdout",
     "output_type": "stream",
     "text": [
      "What is the name of the first candidate? \n"
     ]
    },
    {
     "name": "stdin",
     "output_type": "stream",
     "text": [
      " Fotherington-Smythe\n"
     ]
    },
    {
     "name": "stdout",
     "output_type": "stream",
     "text": [
      "What party did they stand for? \n"
     ]
    },
    {
     "name": "stdin",
     "output_type": "stream",
     "text": [
      " The Greedy Party\n"
     ]
    },
    {
     "name": "stdout",
     "output_type": "stream",
     "text": [
      "How many votes did they gain? \n"
     ]
    },
    {
     "name": "stdin",
     "output_type": "stream",
     "text": [
      " 5221\n"
     ]
    },
    {
     "name": "stdout",
     "output_type": "stream",
     "text": [
      "\n",
      " \n",
      "What is the name of the second candidate? \n"
     ]
    },
    {
     "name": "stdin",
     "output_type": "stream",
     "text": [
      " Smith\n"
     ]
    },
    {
     "name": "stdout",
     "output_type": "stream",
     "text": [
      "What party did they stand for? \n"
     ]
    },
    {
     "name": "stdin",
     "output_type": "stream",
     "text": [
      " The Equality Party\n"
     ]
    },
    {
     "name": "stdout",
     "output_type": "stream",
     "text": [
      "How many votes did they gain? \n"
     ]
    },
    {
     "name": "stdin",
     "output_type": "stream",
     "text": [
      " 16457\n"
     ]
    },
    {
     "name": "stdout",
     "output_type": "stream",
     "text": [
      "\n",
      " \n",
      "Smith of The Equality Party is declared the winner with 16457 votes.\n",
      "They have a majority of 11236\n"
     ]
    }
   ],
   "source": [
    "ElectionResults.main(null);"
   ]
  },
  {
   "cell_type": "markdown",
   "metadata": {},
   "source": [
    "**END OF LITERATE DOCUMENT**"
   ]
  }
 ],
 "metadata": {
  "kernelspec": {
   "display_name": "Java",
   "language": "java",
   "name": "java"
  },
  "language_info": {
   "codemirror_mode": "java",
   "file_extension": ".jshell",
   "mimetype": "text/x-java-source",
   "name": "Java",
   "pygments_lexer": "java",
   "version": "11.0.8+10-LTS"
  }
 },
 "nbformat": 4,
 "nbformat_minor": 4
}
