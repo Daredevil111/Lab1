{
 "cells": [
  {
   "cell_type": "markdown",
   "metadata": {},
   "source": [
    "# Miniproject Assessed Exercise\n",
    "# Level  4\n",
    "## Hansel Rodrigues\n",
    "## Student ID: 230603866\n",
    "## Version 1 (7 November 2023)\n",
    "\n",
    "\n"
   ]
  },
  {
   "cell_type": "markdown",
   "metadata": {},
   "source": [
    "## Summary of the Question \n",
    "\n",
    "Write a quiz procedural program where answers must be typed in by the player. The first question is worth one point. When the player gets an answer right, the points for the next \n",
    "question increase. However, if they get a question wrong the next question drops back to being worth only 1\r\n",
    "point.\n"
   ]
  },
  {
   "cell_type": "markdown",
   "metadata": {},
   "source": [
    "## Justification that the program passes this level\n",
    "This is based on tick boxes at start of the question description for miniproject program level 1\n",
    "- I can EXPLAIN HOW MY PROGRAM WORKS\n",
    "- I wrote this program myself\n",
    "- My program compiles and runs in JHUB\n",
    "- My program screen output and keyboard input\n",
    "    - in whatsYourName\n",
    "- My program includes methods doing a well-defined task and uses a sequence of method calls\n",
    "    - chattyHello and whatsYourName\n",
    "- My program include simple comments including my name, student number and date\n",
    "- I have written a literate version of the code\n",
    "    - documenting each method\n",
    "    - including a test plan for each method\n",
    "    - included a test plan for the whole program\n",
    "    - included a full version of the program at the end"
   ]
  },
  {
   "cell_type": "markdown",
   "metadata": {},
   "source": [
    "## The literate program development"
   ]
  },
  {
   "cell_type": "markdown",
   "metadata": {},
   "source": [
    "## quizRules\n",
    "\n",
    "#### What it does\n",
    "This method prints the rules of the quiz.\n",
    "\n",
    "#### Implementation (how it works)\n",
    "It is just a series of simple print statements."
   ]
  },
  {
   "cell_type": "code",
   "execution_count": 1,
   "metadata": {},
   "outputs": [],
   "source": [
    "// Print the rules for the quiz\n",
    "// \n",
    "public static void quizRules ()\n",
    "{\n",
    "     System.out.println(\"The following are the rules of the quiz: \");\n",
    "     System.out.println(\"1. The first question is worth 1 point.\");\n",
    "     System.out.println(\"2. For each question the player gets right the points increase for the next question.\");\n",
    "     System.out.println(\"3. The points are dropped back to 1 point each if the player gets a question wrong. \");\n",
    "    \n",
    "     return;\n",
    "} // END quizRules"
   ]
  },
  {
   "cell_type": "markdown",
   "metadata": {},
   "source": [
    "#### Testing"
   ]
  },
  {
   "cell_type": "code",
   "execution_count": 3,
   "metadata": {},
   "outputs": [
    {
     "name": "stdout",
     "output_type": "stream",
     "text": [
      "The following are the rules of the quiz: \n",
      "1. The first question is worth 1 point.\n",
      "2. For each question the player gets right the points increase for the next question.\n",
      "3. The points are dropped back to 1 point each if the player gets a question wrong. \n"
     ]
    }
   ],
   "source": [
    "quizRules ();"
   ]
  },
  {
   "cell_type": "markdown",
   "metadata": {},
   "source": [
    "### quizQuestions\n",
    "\n",
    "#### What it does\n",
    "This method asks the player questions for the quiz.\n",
    "\n",
    "#### Implementation (how it works)\n",
    "This method uses a series of if conditions to return the question corresponding to the question number.\n"
   ]
  },
  {
   "cell_type": "code",
   "execution_count": 4,
   "metadata": {},
   "outputs": [],
   "source": [
    "// Returns question corresponding to the question number.\n",
    "//\n",
    "public static String quizQuestions (int questionNumber)\n",
    "{\n",
    "    if (questionNumber == 0) \n",
    "    {\n",
    "        return \"What is the most spoken language in the world?\";\n",
    "    \n",
    "    }\n",
    "    if (questionNumber == 1)\n",
    "    {\n",
    "        return \"What is the biggest country in the world?\";\n",
    "    \n",
    "    }\n",
    "    else\n",
    "    {\n",
    "        return \"What is the smallest country in the world\";\n",
    "    \n",
    "    }\n",
    "    \n",
    "\n",
    "  \n",
    "} // END quizQuestions"
   ]
  },
  {
   "cell_type": "markdown",
   "metadata": {},
   "source": [
    "#### Testing"
   ]
  },
  {
   "cell_type": "code",
   "execution_count": 5,
   "metadata": {},
   "outputs": [
    {
     "data": {
      "text/plain": [
       "What is the smallest country in the world"
      ]
     },
     "execution_count": 5,
     "metadata": {},
     "output_type": "execute_result"
    }
   ],
   "source": [
    "quizQuestions (2);"
   ]
  },
  {
   "cell_type": "markdown",
   "metadata": {},
   "source": [
    "#### userAnswers\n",
    "\n",
    "#### What it does\n",
    "This method asks the player to enter the answers for each question and displays the players answers to the questions.\n",
    "\n",
    "#### Implementation (how it works)\n",
    "It uses a scanner to accept player's input, displays it alongside a print statement and returns it."
   ]
  },
  {
   "cell_type": "code",
   "execution_count": 11,
   "metadata": {},
   "outputs": [],
   "source": [
    "// Displays the user's answers to the questions of the quiz.\n",
    "//\n",
    "public static String userAnswers ()\n",
    "{\n",
    "    Scanner scanner = new Scanner (System.in);\n",
    "    System.out.println(\"Your answer is : \");\n",
    "    return scanner.nextLine();\n",
    "} // END userAnswers"
   ]
  },
  {
   "cell_type": "code",
   "execution_count": 12,
   "metadata": {},
   "outputs": [
    {
     "name": "stdout",
     "output_type": "stream",
     "text": [
      "Your answer is : \n"
     ]
    },
    {
     "name": "stdin",
     "output_type": "stream",
     "text": [
      " 12\n"
     ]
    },
    {
     "data": {
      "text/plain": [
       "12"
      ]
     },
     "execution_count": 12,
     "metadata": {},
     "output_type": "execute_result"
    }
   ],
   "source": [
    "userAnswers ();"
   ]
  },
  {
   "cell_type": "markdown",
   "metadata": {},
   "source": [
    "#### questionAnswers\n",
    "#### What it does\n",
    "This method returns the answers to the each question in the quiz.\n",
    "\n",
    "#### Implementation (how it works)\n",
    "This method checks the questions number using a series of if conditions and return the answers to each questions to compare with the user's answers in the quizMarking method."
   ]
  },
  {
   "cell_type": "code",
   "execution_count": 13,
   "metadata": {},
   "outputs": [],
   "source": [
    "// Returns answer to the question corresponding to the question number. \n",
    "//\n",
    "public static String quizAnswers (int questionNumber)\n",
    "{\n",
    "    if (questionNumber == 0)\n",
    "    {\n",
    "        return \"English\";\n",
    "    \n",
    "    }\n",
    "    if (questionNumber == 1)\n",
    "    {\n",
    "        return \"Russia\";\n",
    "    \n",
    "    }\n",
    "    else\n",
    "    {\n",
    "        return \"Vatican City\";\n",
    "    \n",
    "    }\n",
    "    \n",
    "\n",
    "  \n",
    "} // END quizAnswers"
   ]
  },
  {
   "cell_type": "code",
   "execution_count": 14,
   "metadata": {},
   "outputs": [
    {
     "data": {
      "text/plain": [
       "Vatican City"
      ]
     },
     "execution_count": 14,
     "metadata": {},
     "output_type": "execute_result"
    }
   ],
   "source": [
    "quizAnswers (2);"
   ]
  },
  {
   "cell_type": "markdown",
   "metadata": {},
   "source": [
    "#### quizMarking\n",
    "\n",
    "#### What it does\n",
    "It just compares the player's answers to the answers to the quiz.\n",
    "\n",
    "#### Implementation (how it works)\n",
    "It takes the user's answers and quiz answers as arguments and returns true or false depending on the answer (if player answer equals the quiz answer)."
   ]
  },
  {
   "cell_type": "code",
   "execution_count": 15,
   "metadata": {},
   "outputs": [],
   "source": [
    "// Checks if the player's answer is correct and returns true or false depending on the answer.\n",
    "//\n",
    "public static boolean quizMarking (String userAnswer, String correctAnswer)\n",
    "{\n",
    "    return userAnswer.equals(correctAnswer);\n",
    "     \n",
    "} // END quizMarking"
   ]
  },
  {
   "cell_type": "code",
   "execution_count": 16,
   "metadata": {},
   "outputs": [
    {
     "data": {
      "text/plain": [
       "false"
      ]
     },
     "execution_count": 16,
     "metadata": {},
     "output_type": "execute_result"
    }
   ],
   "source": [
    "quizMarking (\"english\", \"English\");"
   ]
  },
  {
   "cell_type": "markdown",
   "metadata": {},
   "source": [
    "### startQuiz \n",
    "\n",
    "#### What it does\n",
    "This method starts the quiz by displaying the quiz rules and then asking the quiz questions. This method calls all other methods (other than numberOfPlayers) necessary for the quiz to calculate the total score of a player. \n",
    "\n",
    "#### Implementation (how it works)\n",
    "It first calls quiz rules and then uses a for loop to go through each question and asks the player for input (answer to the question) by calling the user answers method. It then calls the quiz marking method and uses if conditions to check the user's answers to the answers to the question. It outputs the necessary statements depending on whether the user got it right and updates the total score and score for the next question each time the loop runs. The loop runs for a total of 3 (0-2) times as there are 3 questions and after the loop condition fails (3<3) the total score of the player is printed. Lastly, the total Score is returned so it can be displayed for each player later in the numberOfPlayers method. \n"
   ]
  },
  {
   "cell_type": "code",
   "execution_count": 17,
   "metadata": {},
   "outputs": [],
   "source": [
    "// starts the quiz for one player at a time.\n",
    "//\n",
    "public static int startQuiz ()\n",
    "{\n",
    "    quizRules();\n",
    "    int totalScore = 0;\n",
    "    int questionScore = 1;\n",
    "    \n",
    "    // loops through quiz questions\n",
    "    for (int i=0; i<3; i++)\n",
    "    {\n",
    "        System.out.println(\"The next question is worth \" + questionScore + \" point[s] \" + quizQuestions(i));\n",
    "        String userAnswer = userAnswers ();\n",
    "\n",
    "        //compares player's answer with the quiz answer and updates the score as necessary.\n",
    "        if (quizMarking(userAnswer, quizAnswers(i))) \n",
    "        {\n",
    "            System.out.println(\"Your answer is correct\");\n",
    "            totalScore = totalScore + questionScore;\n",
    "            questionScore = questionScore + 1;\n",
    "        } \n",
    "        else\n",
    "        {\n",
    "            System.out.println(\"Incorrect. The correct answer is \" + quizAnswers(i));\n",
    "            questionScore = 1;\n",
    "        }\n",
    "    } \n",
    "    \n",
    "    System.out.println(\"Your final score is : \" + totalScore);\n",
    "    \n",
    "    return totalScore;\n",
    "} // END startQuiz\n"
   ]
  },
  {
   "cell_type": "markdown",
   "metadata": {},
   "source": [
    "#### Testing"
   ]
  },
  {
   "cell_type": "code",
   "execution_count": 18,
   "metadata": {},
   "outputs": [
    {
     "name": "stdout",
     "output_type": "stream",
     "text": [
      "The following are the rules of the quiz: \n",
      "1. The first question is worth 1 point.\n",
      "2. For each question the player gets right the points increase for the next question.\n",
      "3. The points are dropped back to 1 point each if the player gets a question wrong. \n",
      "The next question is worth 1 point[s] What is the most spoken language in the world?\n",
      "Your answer is : \n"
     ]
    },
    {
     "name": "stdin",
     "output_type": "stream",
     "text": [
      " Englisj\n"
     ]
    },
    {
     "name": "stdout",
     "output_type": "stream",
     "text": [
      "Incorrect. The correct answer is English\n",
      "The next question is worth 1 point[s] What is the biggest country in the world?\n",
      "Your answer is : \n"
     ]
    },
    {
     "name": "stdin",
     "output_type": "stream",
     "text": [
      " Russia\n"
     ]
    },
    {
     "name": "stdout",
     "output_type": "stream",
     "text": [
      "Your answer is correct\n",
      "The next question is worth 2 point[s] What is the smallest country in the world\n",
      "Your answer is : \n"
     ]
    },
    {
     "name": "stdin",
     "output_type": "stream",
     "text": [
      " Vatican City\n"
     ]
    },
    {
     "name": "stdout",
     "output_type": "stream",
     "text": [
      "Your answer is correct\n",
      "Your final score is : 3\n"
     ]
    },
    {
     "data": {
      "text/plain": [
       "3"
      ]
     },
     "execution_count": 18,
     "metadata": {},
     "output_type": "execute_result"
    }
   ],
   "source": [
    "startQuiz ();"
   ]
  },
  {
   "cell_type": "markdown",
   "metadata": {},
   "source": [
    "#### numberOfPlayers\n",
    "\n",
    "#### What it does\n",
    "It just runs the quiz for each player and displays the player's number alongside the player's final score.\n",
    "\n",
    "#### Implementation (how it works)\n",
    "It just uses a for loop to call the startQuiz method and run the quiz for each player and displays each player's number alongside their score.\n"
   ]
  },
  {
   "cell_type": "code",
   "execution_count": 19,
   "metadata": {},
   "outputs": [],
   "source": [
    "// runs the quiz for 3 players and displays their final score alongside the player numbers.\n",
    "public static void numberOfPlayers ()\n",
    "{\n",
    "    final int no_of_players = 3;\n",
    "\n",
    "    //loops through the each player's quiz turns.\n",
    "    for (int j = 1; j <= no_of_players; j++)\n",
    "    {\n",
    "        System.out.println(\"Player \" + j);\n",
    "        int finalScore = startQuiz ();\n",
    "        System.out.println(\"Player \" + j + \"'s final score is \" + finalScore);\n",
    "            \n",
    "    }\n",
    "    return;\n",
    "    \n",
    "} //END numberOfPlayers"
   ]
  },
  {
   "cell_type": "code",
   "execution_count": 20,
   "metadata": {},
   "outputs": [
    {
     "name": "stdout",
     "output_type": "stream",
     "text": [
      "Player 1\n",
      "The following are the rules of the quiz: \n",
      "1. The first question is worth 1 point.\n",
      "2. For each question the player gets right the points increase for the next question.\n",
      "3. The points are dropped back to 1 point each if the player gets a question wrong. \n",
      "The next question is worth 1 point[s] What is the most spoken language in the world?\n",
      "Your answer is : \n"
     ]
    },
    {
     "name": "stdin",
     "output_type": "stream",
     "text": [
      " English\n"
     ]
    },
    {
     "name": "stdout",
     "output_type": "stream",
     "text": [
      "Your answer is correct\n",
      "The next question is worth 2 point[s] What is the biggest country in the world?\n",
      "Your answer is : \n"
     ]
    },
    {
     "name": "stdin",
     "output_type": "stream",
     "text": [
      " Russia\n"
     ]
    },
    {
     "name": "stdout",
     "output_type": "stream",
     "text": [
      "Your answer is correct\n",
      "The next question is worth 3 point[s] What is the smallest country in the world\n",
      "Your answer is : \n"
     ]
    },
    {
     "name": "stdin",
     "output_type": "stream",
     "text": [
      " Vatican City\n"
     ]
    },
    {
     "name": "stdout",
     "output_type": "stream",
     "text": [
      "Your answer is correct\n",
      "Your final score is : 6\n",
      "Player 1's final score is 6\n",
      "Player 2\n",
      "The following are the rules of the quiz: \n",
      "1. The first question is worth 1 point.\n",
      "2. For each question the player gets right the points increase for the next question.\n",
      "3. The points are dropped back to 1 point each if the player gets a question wrong. \n",
      "The next question is worth 1 point[s] What is the most spoken language in the world?\n",
      "Your answer is : \n"
     ]
    },
    {
     "name": "stdin",
     "output_type": "stream",
     "text": [
      " s\n"
     ]
    },
    {
     "name": "stdout",
     "output_type": "stream",
     "text": [
      "Incorrect. The correct answer is English\n",
      "The next question is worth 1 point[s] What is the biggest country in the world?\n",
      "Your answer is : \n"
     ]
    },
    {
     "name": "stdin",
     "output_type": "stream",
     "text": [
      " Russia\n"
     ]
    },
    {
     "name": "stdout",
     "output_type": "stream",
     "text": [
      "Your answer is correct\n",
      "The next question is worth 2 point[s] What is the smallest country in the world\n",
      "Your answer is : \n"
     ]
    },
    {
     "name": "stdin",
     "output_type": "stream",
     "text": [
      " Vatican City\n"
     ]
    },
    {
     "name": "stdout",
     "output_type": "stream",
     "text": [
      "Your answer is correct\n",
      "Your final score is : 3\n",
      "Player 2's final score is 3\n",
      "Player 3\n",
      "The following are the rules of the quiz: \n",
      "1. The first question is worth 1 point.\n",
      "2. For each question the player gets right the points increase for the next question.\n",
      "3. The points are dropped back to 1 point each if the player gets a question wrong. \n",
      "The next question is worth 1 point[s] What is the most spoken language in the world?\n",
      "Your answer is : \n"
     ]
    },
    {
     "name": "stdin",
     "output_type": "stream",
     "text": [
      " English\n"
     ]
    },
    {
     "name": "stdout",
     "output_type": "stream",
     "text": [
      "Your answer is correct\n",
      "The next question is worth 2 point[s] What is the biggest country in the world?\n",
      "Your answer is : \n"
     ]
    },
    {
     "name": "stdin",
     "output_type": "stream",
     "text": [
      " s\n"
     ]
    },
    {
     "name": "stdout",
     "output_type": "stream",
     "text": [
      "Incorrect. The correct answer is Russia\n",
      "The next question is worth 1 point[s] What is the smallest country in the world\n",
      "Your answer is : \n"
     ]
    },
    {
     "name": "stdin",
     "output_type": "stream",
     "text": [
      " Vatican City\n"
     ]
    },
    {
     "name": "stdout",
     "output_type": "stream",
     "text": [
      "Your answer is correct\n",
      "Your final score is : 2\n",
      "Player 3's final score is 2\n"
     ]
    }
   ],
   "source": [
    "numberOfPlayers ();"
   ]
  },
  {
   "cell_type": "markdown",
   "metadata": {},
   "source": [
    "### Running the program\n",
    "Run the following call to simulate running the complete program."
   ]
  },
  {
   "cell_type": "code",
   "execution_count": 21,
   "metadata": {},
   "outputs": [
    {
     "name": "stdout",
     "output_type": "stream",
     "text": [
      "Player 1\n",
      "The following are the rules of the quiz: \n",
      "1. The first question is worth 1 point.\n",
      "2. For each question the player gets right the points increase for the next question.\n",
      "3. The points are dropped back to 1 point each if the player gets a question wrong. \n",
      "The next question is worth 1 point[s] What is the most spoken language in the world?\n",
      "Your answer is : \n"
     ]
    },
    {
     "name": "stdin",
     "output_type": "stream",
     "text": [
      " English\n"
     ]
    },
    {
     "name": "stdout",
     "output_type": "stream",
     "text": [
      "Your answer is correct\n",
      "The next question is worth 2 point[s] What is the biggest country in the world?\n",
      "Your answer is : \n"
     ]
    },
    {
     "name": "stdin",
     "output_type": "stream",
     "text": [
      " russia\n"
     ]
    },
    {
     "name": "stdout",
     "output_type": "stream",
     "text": [
      "Incorrect. The correct answer is Russia\n",
      "The next question is worth 1 point[s] What is the smallest country in the world\n",
      "Your answer is : \n"
     ]
    },
    {
     "name": "stdin",
     "output_type": "stream",
     "text": [
      " Vatican City\n"
     ]
    },
    {
     "name": "stdout",
     "output_type": "stream",
     "text": [
      "Your answer is correct\n",
      "Your final score is : 2\n",
      "Player 1's final score is 2\n",
      "Player 2\n",
      "The following are the rules of the quiz: \n",
      "1. The first question is worth 1 point.\n",
      "2. For each question the player gets right the points increase for the next question.\n",
      "3. The points are dropped back to 1 point each if the player gets a question wrong. \n",
      "The next question is worth 1 point[s] What is the most spoken language in the world?\n",
      "Your answer is : \n"
     ]
    },
    {
     "name": "stdin",
     "output_type": "stream",
     "text": [
      " 2\n"
     ]
    },
    {
     "name": "stdout",
     "output_type": "stream",
     "text": [
      "Incorrect. The correct answer is English\n",
      "The next question is worth 1 point[s] What is the biggest country in the world?\n",
      "Your answer is : \n"
     ]
    },
    {
     "name": "stdin",
     "output_type": "stream",
     "text": [
      " 3\n"
     ]
    },
    {
     "name": "stdout",
     "output_type": "stream",
     "text": [
      "Incorrect. The correct answer is Russia\n",
      "The next question is worth 1 point[s] What is the smallest country in the world\n",
      "Your answer is : \n"
     ]
    },
    {
     "name": "stdin",
     "output_type": "stream",
     "text": [
      " 4\n"
     ]
    },
    {
     "name": "stdout",
     "output_type": "stream",
     "text": [
      "Incorrect. The correct answer is Vatican City\n",
      "Your final score is : 0\n",
      "Player 2's final score is 0\n",
      "Player 3\n",
      "The following are the rules of the quiz: \n",
      "1. The first question is worth 1 point.\n",
      "2. For each question the player gets right the points increase for the next question.\n",
      "3. The points are dropped back to 1 point each if the player gets a question wrong. \n",
      "The next question is worth 1 point[s] What is the most spoken language in the world?\n",
      "Your answer is : \n"
     ]
    },
    {
     "name": "stdin",
     "output_type": "stream",
     "text": [
      " Rus\n"
     ]
    },
    {
     "name": "stdout",
     "output_type": "stream",
     "text": [
      "Incorrect. The correct answer is English\n",
      "The next question is worth 1 point[s] What is the biggest country in the world?\n",
      "Your answer is : \n"
     ]
    },
    {
     "name": "stdin",
     "output_type": "stream",
     "text": [
      " d\n"
     ]
    },
    {
     "name": "stdout",
     "output_type": "stream",
     "text": [
      "Incorrect. The correct answer is Russia\n",
      "The next question is worth 1 point[s] What is the smallest country in the world\n",
      "Your answer is : \n"
     ]
    },
    {
     "name": "stdin",
     "output_type": "stream",
     "text": [
      " Vatican City\n"
     ]
    },
    {
     "name": "stdout",
     "output_type": "stream",
     "text": [
      "Your answer is correct\n",
      "Your final score is : 1\n",
      "Player 3's final score is 1\n"
     ]
    }
   ],
   "source": [
    "numberOfPlayers ();"
   ]
  },
  {
   "cell_type": "markdown",
   "metadata": {},
   "source": [
    "## The complete program \n",
    "This version will only compile here. To run it copy it into a file called initials.java on your local computer and compile and run it there."
   ]
  },
  {
   "cell_type": "code",
   "execution_count": 24,
   "metadata": {},
   "outputs": [],
   "source": [
    "/* **********************\n",
    "  @author    Hansel Rodrigues\n",
    "  @SID       230603866\n",
    "  @date      7 November 2023\n",
    "  @version   1\n",
    "\n",
    "    Miniproject Level 4\n",
    "    A short answer quiz .\n",
    "   ****************************************/\n",
    "\n",
    "class Quiz\n",
    "{\n",
    "    public static void main (String [] a)\n",
    "    {\n",
    "        numberOfPlayers ();\n",
    "        return;\n",
    "    } // END main\n",
    "    // runs the quiz for 3 players and displays their final score alongside the player numbers.\n",
    "    public static void numberOfPlayers ()\n",
    "    {\n",
    "        final int no_of_players = 3;\n",
    "\n",
    "        //loops through the each player's quiz turns.\n",
    "        for (int j = 1; j <= no_of_players; j++)\n",
    "        {\n",
    "            System.out.println(\"Player \" + j);\n",
    "            int finalScore = startQuiz ();\n",
    "            System.out.println(\"Player \" + j + \"'s final score is \" + finalScore);\n",
    "            \n",
    "        }\n",
    "        return;\n",
    "    \n",
    "    } //END numberOfPlayers\n",
    "\n",
    "    // starts the quiz for one player at a time.\n",
    "    //\n",
    "    public static int startQuiz ()\n",
    "    {\n",
    "        quizRules();\n",
    "        int totalScore = 0;\n",
    "        int questionScore = 1;\n",
    "    \n",
    "        // loops through quiz questions\n",
    "        for (int i=0; i<3; i++)\n",
    "        {\n",
    "            System.out.println(\"The next question is worth \" + questionScore + \" point[s] \" + quizQuestions(i));\n",
    "            String userAnswer = userAnswers ();\n",
    "\n",
    "            //compares player's answer with the quiz answer and updates the score as necessary.\n",
    "            if (quizMarking(userAnswer, quizAnswers(i))) \n",
    "            {\n",
    "                System.out.println(\"Your answer is correct\");\n",
    "                totalScore = totalScore + questionScore;\n",
    "                questionScore = questionScore + 1;\n",
    "            } \n",
    "            else\n",
    "            {\n",
    "                System.out.println(\"Incorrect. The correct answer is \" + quizAnswers(i));\n",
    "                questionScore = 1;\n",
    "            }\n",
    "        } \n",
    "    \n",
    "        System.out.println(\"Your final score is : \" + totalScore);\n",
    "    \n",
    "        return totalScore;\n",
    "    } // END startQuiz\n",
    "\n",
    "    \n",
    "    \n",
    "    // Prints the rules of the quiz.\n",
    "\n",
    "    public static void quizRules ()\n",
    "    {\n",
    "         System.out.println(\"The following are the rules of the quiz: \");\n",
    "         System.out.println(\"1. The first question is worth 1 point.\");\n",
    "         System.out.println(\"2. For each question the player gets right the points increase for the next question.\");\n",
    "         System.out.println(\"3. The points are dropped back to 1 point each if the player gets a question wrong. \");\n",
    "    \n",
    "         return;\n",
    "    } // END quizRules\n",
    "    \n",
    "    \n",
    "    // Returns question corresponding to the question number.\n",
    "    //\n",
    "    public static String quizQuestions (int questionNumber)\n",
    "    {\n",
    "        if (questionNumber == 0) \n",
    "        {\n",
    "            return \"What is the most spoken language in the world?\";\n",
    "    \n",
    "        }\n",
    "        if (questionNumber == 1)\n",
    "        {\n",
    "            return \"What is the biggest country in the world?\";\n",
    "    \n",
    "        }\n",
    "        else\n",
    "        {\n",
    "            return \"What is the smallest country in the world\";\n",
    "    \n",
    "        }\n",
    "    \n",
    "\n",
    "  \n",
    "    } // END quizQuestions\n",
    "\n",
    "    // Displays the user's answers to the questions of the quiz.\n",
    "    //\n",
    "    public static String userAnswers ()\n",
    "    {\n",
    "        Scanner scanner = new Scanner (System.in);\n",
    "        System.out.println(\"Your answer is : \");\n",
    "        return scanner.nextLine();\n",
    "    } // END userAnswers\n",
    "\n",
    "    // Returns answer to the question corresponding to the question number. \n",
    "    //\n",
    "    public static String quizAnswers (int questionNumber)\n",
    "    {\n",
    "        if (questionNumber == 0)\n",
    "        {\n",
    "            return \"English\";\n",
    "    \n",
    "        }\n",
    "        if (questionNumber == 1)\n",
    "        {\n",
    "            return \"Russia\";\n",
    "    \n",
    "        }\n",
    "        else\n",
    "        {\n",
    "            return \"Vatican City\";\n",
    "    \n",
    "        }\n",
    "    \n",
    "    } // END quizAnswers\n",
    "\n",
    "    // Checks if the player's answer is correct and returns true or false depending on the answer.\n",
    "    //\n",
    "    public static boolean quizMarking (String userAnswer, String correctAnswer)\n",
    "    {\n",
    "        return userAnswer.equals(correctAnswer);\n",
    "     \n",
    "    } // END quizMarking\n",
    "\n",
    "    \n",
    "} // END class Quiz\n"
   ]
  },
  {
   "cell_type": "code",
   "execution_count": null,
   "metadata": {},
   "outputs": [],
   "source": []
  },
  {
   "cell_type": "code",
   "execution_count": 25,
   "metadata": {},
   "outputs": [
    {
     "name": "stdout",
     "output_type": "stream",
     "text": [
      "Player 1\n",
      "The following are the rules of the quiz: \n",
      "1. The first question is worth 1 point.\n",
      "2. For each question the player gets right the points increase for the next question.\n",
      "3. The points are dropped back to 1 point each if the player gets a question wrong. \n",
      "The next question is worth 1 point[s] What is the most spoken language in the world?\n",
      "Your answer is : \n"
     ]
    },
    {
     "name": "stdin",
     "output_type": "stream",
     "text": [
      " English\n"
     ]
    },
    {
     "name": "stdout",
     "output_type": "stream",
     "text": [
      "Your answer is correct\n",
      "The next question is worth 2 point[s] What is the biggest country in the world?\n",
      "Your answer is : \n"
     ]
    },
    {
     "name": "stdin",
     "output_type": "stream",
     "text": [
      " Russia\n"
     ]
    },
    {
     "name": "stdout",
     "output_type": "stream",
     "text": [
      "Your answer is correct\n",
      "The next question is worth 3 point[s] What is the smallest country in the world\n",
      "Your answer is : \n"
     ]
    },
    {
     "name": "stdin",
     "output_type": "stream",
     "text": [
      " Ethiopia\n"
     ]
    },
    {
     "name": "stdout",
     "output_type": "stream",
     "text": [
      "Incorrect. The correct answer is Vatican City\n",
      "Your final score is : 3\n",
      "Player 1's final score is 3\n",
      "Player 2\n",
      "The following are the rules of the quiz: \n",
      "1. The first question is worth 1 point.\n",
      "2. For each question the player gets right the points increase for the next question.\n",
      "3. The points are dropped back to 1 point each if the player gets a question wrong. \n",
      "The next question is worth 1 point[s] What is the most spoken language in the world?\n",
      "Your answer is : \n"
     ]
    },
    {
     "name": "stdin",
     "output_type": "stream",
     "text": [
      " English\n"
     ]
    },
    {
     "name": "stdout",
     "output_type": "stream",
     "text": [
      "Your answer is correct\n",
      "The next question is worth 2 point[s] What is the biggest country in the world?\n",
      "Your answer is : \n"
     ]
    },
    {
     "name": "stdin",
     "output_type": "stream",
     "text": [
      " Russia\n"
     ]
    },
    {
     "name": "stdout",
     "output_type": "stream",
     "text": [
      "Your answer is correct\n",
      "The next question is worth 3 point[s] What is the smallest country in the world\n",
      "Your answer is : \n"
     ]
    },
    {
     "name": "stdin",
     "output_type": "stream",
     "text": [
      " Vatican City\n"
     ]
    },
    {
     "name": "stdout",
     "output_type": "stream",
     "text": [
      "Your answer is correct\n",
      "Your final score is : 6\n",
      "Player 2's final score is 6\n",
      "Player 3\n",
      "The following are the rules of the quiz: \n",
      "1. The first question is worth 1 point.\n",
      "2. For each question the player gets right the points increase for the next question.\n",
      "3. The points are dropped back to 1 point each if the player gets a question wrong. \n",
      "The next question is worth 1 point[s] What is the most spoken language in the world?\n",
      "Your answer is : \n"
     ]
    },
    {
     "name": "stdin",
     "output_type": "stream",
     "text": [
      " a\n"
     ]
    },
    {
     "name": "stdout",
     "output_type": "stream",
     "text": [
      "Incorrect. The correct answer is English\n",
      "The next question is worth 1 point[s] What is the biggest country in the world?\n",
      "Your answer is : \n"
     ]
    },
    {
     "name": "stdin",
     "output_type": "stream",
     "text": [
      " a\n"
     ]
    },
    {
     "name": "stdout",
     "output_type": "stream",
     "text": [
      "Incorrect. The correct answer is Russia\n",
      "The next question is worth 1 point[s] What is the smallest country in the world\n",
      "Your answer is : \n"
     ]
    },
    {
     "name": "stdin",
     "output_type": "stream",
     "text": [
      " a\n"
     ]
    },
    {
     "name": "stdout",
     "output_type": "stream",
     "text": [
      "Incorrect. The correct answer is Vatican City\n",
      "Your final score is : 0\n",
      "Player 3's final score is 0\n"
     ]
    }
   ],
   "source": [
    "Quiz.main(null);"
   ]
  },
  {
   "cell_type": "markdown",
   "metadata": {},
   "source": [
    "**END OF LITERATE DOCUMENT**"
   ]
  }
 ],
 "metadata": {
  "kernelspec": {
   "display_name": "Java",
   "language": "java",
   "name": "java"
  },
  "language_info": {
   "codemirror_mode": "java",
   "file_extension": ".jshell",
   "mimetype": "text/x-java-source",
   "name": "Java",
   "pygments_lexer": "java",
   "version": "11.0.8+10-LTS"
  }
 },
 "nbformat": 4,
 "nbformat_minor": 4
}
