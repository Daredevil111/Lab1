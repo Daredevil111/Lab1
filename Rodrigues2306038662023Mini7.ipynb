{
 "cells": [
  {
   "cell_type": "markdown",
   "metadata": {},
   "source": [
    "# Miniproject Assessed Exercise\n",
    "# Level  7\n",
    "## Hansel Rodrigues\n",
    "## Student ID: 230603866\n",
    "## Version 1 (4 December 2023)\n",
    "\n",
    "\n"
   ]
  },
  {
   "cell_type": "markdown",
   "metadata": {},
   "source": [
    "## Summary of the Question \n",
    "\n",
    "Write a quiz procedural program where answers must be typed in by the player. The first question is worth one point. When the player gets an answer right, the points for the next \n",
    "question increase. However, if they get a question wrong the next question drops back to being worth only 1\r\n",
    "point.\n"
   ]
  },
  {
   "cell_type": "markdown",
   "metadata": {},
   "source": [
    "## Justification that the program passes this level\n",
    "This is based on tick boxes at start of the question description for miniproject program level 1\n",
    "- I can EXPLAIN HOW MY PROGRAM WORKS\n",
    "- I wrote this program myself\n",
    "- My program compiles and runs in JHUB\n",
    "- My program screen output and keyboard input\n",
    "    - in whatsYourName\n",
    "- My program includes methods doing a well-defined task and uses a sequence of method calls\n",
    "    - chattyHello and whatsYourName\n",
    "- My program include simple comments including my name, student number and date\n",
    "- I have written a literate version of the code\n",
    "    - documenting each method\n",
    "    - including a test plan for each method\n",
    "    - included a test plan for the whole program\n",
    "    - included a full version of the program at the end"
   ]
  },
  {
   "cell_type": "markdown",
   "metadata": {},
   "source": [
    "## The literate program development"
   ]
  },
  {
   "cell_type": "markdown",
   "metadata": {},
   "source": [
    "## Question\n",
    "\n",
    "#### What it does\n",
    "This is a record class for question\n",
    "\n",
    "#### Implementation (how it works)\n",
    "It is a class with 2 string variables (questionText and questionAnswer)."
   ]
  },
  {
   "cell_type": "code",
   "execution_count": 2,
   "metadata": {},
   "outputs": [],
   "source": [
    "class Question\n",
    "{\n",
    "    String questionText;\n",
    "    String questionAnswer;\n",
    "} //END class Question\n"
   ]
  },
  {
   "cell_type": "markdown",
   "metadata": {},
   "source": [
    "## quizRules\n",
    "\n",
    "#### What it does\n",
    "This method prints the rules of the quiz.\n",
    "\n",
    "#### Implementation (how it works)\n",
    "It is just a series of simple print statements."
   ]
  },
  {
   "cell_type": "code",
   "execution_count": 3,
   "metadata": {},
   "outputs": [],
   "source": [
    "// Print the rules for the quiz\n",
    "// \n",
    "public static void quizRules ()\n",
    "{\n",
    "     System.out.println(\"The following are the rules of the quiz: \");\n",
    "     System.out.println(\"1. The first question is worth 1 point.\");\n",
    "     System.out.println(\"2. For each question the player gets right the points increase for the next question.\");\n",
    "     System.out.println(\"3. The points are dropped back to 1 point each if the player gets a question wrong. \");\n",
    "    \n",
    "     return;\n",
    "} // END quizRules"
   ]
  },
  {
   "cell_type": "markdown",
   "metadata": {},
   "source": [
    "#### Testing"
   ]
  },
  {
   "cell_type": "code",
   "execution_count": 4,
   "metadata": {},
   "outputs": [
    {
     "name": "stdout",
     "output_type": "stream",
     "text": [
      "The following are the rules of the quiz: \n",
      "1. The first question is worth 1 point.\n",
      "2. For each question the player gets right the points increase for the next question.\n",
      "3. The points are dropped back to 1 point each if the player gets a question wrong. \n"
     ]
    }
   ],
   "source": [
    "quizRules ();"
   ]
  },
  {
   "cell_type": "markdown",
   "metadata": {},
   "source": [
    "#### userAnswers\n",
    "\n",
    "#### What it does\n",
    "This method asks the player to enter the answers for each question and displays the players answers to the questions.\n",
    "\n",
    "#### Implementation (how it works)\n",
    "It uses a scanner to accept player's input, displays it alongside a print statement and returns it."
   ]
  },
  {
   "cell_type": "code",
   "execution_count": 5,
   "metadata": {},
   "outputs": [],
   "source": [
    "// Displays the user's answers to the questions of the quiz.\n",
    "//\n",
    "public static String userAnswers ()\n",
    "{\n",
    "    Scanner scanner = new Scanner (System.in);\n",
    "    System.out.println(\"Your answer is : \");\n",
    "    return scanner.nextLine();\n",
    "} // END userAnswers"
   ]
  },
  {
   "cell_type": "code",
   "execution_count": 6,
   "metadata": {},
   "outputs": [
    {
     "name": "stdout",
     "output_type": "stream",
     "text": [
      "Your answer is : \n"
     ]
    },
    {
     "name": "stdin",
     "output_type": "stream",
     "text": [
      " dwe\n"
     ]
    },
    {
     "data": {
      "text/plain": [
       "dwe"
      ]
     },
     "execution_count": 6,
     "metadata": {},
     "output_type": "execute_result"
    }
   ],
   "source": [
    "userAnswers ();"
   ]
  },
  {
   "cell_type": "markdown",
   "metadata": {},
   "source": [
    "#### quizMarking\n",
    "\n",
    "#### What it does\n",
    "It just compares the player's answers to the answers to the quiz.\n",
    "\n",
    "#### Implementation (how it works)\n",
    "It takes the user's answers and quiz answers as arguments and returns true or false depending on the answer (if player answer equals the quiz answer)."
   ]
  },
  {
   "cell_type": "code",
   "execution_count": 7,
   "metadata": {},
   "outputs": [],
   "source": [
    "// Checks if the player's answer is correct and returns true or false depending on the answer.\n",
    "//\n",
    "public static boolean quizMarking (String userAnswer, String correctAnswer)\n",
    "{\n",
    "    return userAnswer.equals(correctAnswer);\n",
    "     \n",
    "} // END quizMarking"
   ]
  },
  {
   "cell_type": "code",
   "execution_count": 8,
   "metadata": {},
   "outputs": [
    {
     "data": {
      "text/plain": [
       "false"
      ]
     },
     "execution_count": 8,
     "metadata": {},
     "output_type": "execute_result"
    }
   ],
   "source": [
    "quizMarking (\"english\", \"English\");"
   ]
  },
  {
   "cell_type": "markdown",
   "metadata": {},
   "source": [
    "## quizRecord\n",
    "\n",
    "#### What it does\n",
    "This method just sets the values of questionText and Answer to the fields of the record class.\n",
    "\n",
    "#### Implementation (how it works)\n",
    "It is just giving a copy of the values stored in questionText and questionAnswer to the field of the record."
   ]
  },
  {
   "cell_type": "code",
   "execution_count": 9,
   "metadata": {},
   "outputs": [],
   "source": [
    "// a method that sets up quiz Record\n",
    " public static void quizRecord (Question questionRecord, String questionText, String questionAnswer)\n",
    "{\n",
    "    questionRecord.questionText = questionText;\n",
    "    questionRecord.questionAnswer = questionAnswer;\n",
    "    return;\n",
    "} //END quizRecord"
   ]
  },
  {
   "cell_type": "code",
   "execution_count": 10,
   "metadata": {},
   "outputs": [],
   "source": [
    "Question questionRecord = new Question();\n",
    "String questionText = \"\";\n",
    "String questionAnswer = \"\";\n",
    "quizRecord (questionRecord, questionText, questionAnswer);"
   ]
  },
  {
   "cell_type": "markdown",
   "metadata": {},
   "source": [
    "### startQuiz \n",
    "\n",
    "#### What it does\n",
    "This method starts the quiz by displaying the quiz rules and then asking the quiz questions. This method calls all other methods (other than numberOfPlayers) necessary for the quiz to calculate the total score of a player. \n",
    "\n",
    "#### Implementation (how it works)\n",
    "It first calls quiz rules and then uses a for loop to go through each question and asks the player for input (answer to the question) by calling the user answers method. It then calls the quiz marking method and uses if conditions to check the user's answers to the answers to the question. It outputs the necessary statements depending on whether the user got it right and updates the total score and score for the next question each time the loop runs. The loop runs for a total of 3 (0-2) times as there are 3 questions and after the loop condition fails (3<3) the total score of the player is printed. Records and arrays are used to help access information throughout the code and lastly the final score of the player is displayed.\n"
   ]
  },
  {
   "cell_type": "code",
   "execution_count": 54,
   "metadata": {},
   "outputs": [],
   "source": [
    "\n",
    "// starts the quiz for one player at a time.\n",
    "//\n",
    "public static void startQuiz (int[] scores, int[] questionPoints, int playerNumber, Question[] questionRecords)\n",
    "{\n",
    "    quizRules();\n",
    "    int totalScore = 0;\n",
    "    int questionScore = 1;\n",
    "    // loops through quiz questions\n",
    "    for (int i=0; i<3; i++)\n",
    "    {\n",
    "        questionPoints[i] = questionScore; \n",
    "        System.out.println(\"The next question is worth \" + questionPoints[i] + \" point[s] \");\n",
    "        System.out.println(questionRecords[i].questionText);\n",
    "        System.out.println(\"\\n\");\n",
    "        String userAnswer = userAnswers ();\n",
    "        //compares player's answer with the quiz answer and updates the score as necessary.\n",
    "        if (quizMarking(userAnswer, questionRecords[i].questionAnswer)) \n",
    "        {\n",
    "            System.out.println(\"Your answer is correct\");\n",
    "            scores[playerNumber] = scores[playerNumber] + questionScore;\n",
    "            questionScore = questionScore + 1;\n",
    "        } \n",
    "        else\n",
    "        {\n",
    "            System.out.println(\"Incorrect. The correct answer is \" + questionRecords[i].questionAnswer);\n",
    "            questionScore = 1;\n",
    "        }\n",
    "     \n",
    "\n",
    "        \n",
    "    } \n",
    "\n",
    "    System.out.println(\"\\n\");\n",
    "    System.out.println(\"Player \" + (playerNumber + 1) + \"'s final score is \" + scores[playerNumber]);\n",
    "    System.out.println(\"\\n\");\n",
    "    return;\n",
    "} // END startQuiz"
   ]
  },
  {
   "cell_type": "markdown",
   "metadata": {},
   "source": [
    "#### Testing"
   ]
  },
  {
   "cell_type": "code",
   "execution_count": 3,
   "metadata": {},
   "outputs": [],
   "source": [
    "final int playerNumber = 0;\n",
    "final int questionNumber = 0;\n",
    "int[] scores = {1,2,3};\n",
    "int[] questionPoints = {1,2,3};\n",
    "int no_of_questions = 3;\n",
    "Question[] questionRecords = new Question[no_of_questions];\n",
    "startQuiz (scores, questionPoints, playerNumber, questionRecords);"
   ]
  },
  {
   "cell_type": "markdown",
   "metadata": {},
   "source": [
    "#### numberOfPlayers\n",
    "\n",
    "#### What it does\n",
    "It just runs the quiz for each player and stores the record of the questions and answers.\n",
    "\n",
    "#### Implementation (how it works)\n",
    "It just uses a for loop to call the startQuiz method and run the quiz for each player and displays each player's number alongside their score. It also calls quiz record to update the questions and answers for each record field to help compare to the user answer later in the start quiz method.\n"
   ]
  },
  {
   "cell_type": "code",
   "execution_count": 15,
   "metadata": {},
   "outputs": [],
   "source": [
    "// runs the quiz for 3 players and displays their final score alongside the player numbers.\n",
    "public static void numberOfPlayers ()\n",
    "{\n",
    "    final int no_of_players = 3;\n",
    "    final int no_of_questions = 3;\n",
    "    final int question_no = 0;\n",
    "    int[] scores = new int[no_of_players];\n",
    "    int[] questionPoints = new int[no_of_questions];\n",
    "    Question[] questionRecords = new Question[no_of_questions];\n",
    "   \n",
    "    for (int i=0; i<3; i++)\n",
    "    {\n",
    "        questionRecords[i]= new Question ();\n",
    "    }\n",
    "\n",
    "    quizRecord(questionRecords[0], \"What is the most spoken language in the world?\", \"English\");\n",
    "    quizRecord(questionRecords[1], \"What is the biggest country in the world?\", \"Russia\");\n",
    "    quizRecord(questionRecords[2], \"What is the smallest country in the world?\", \"Vatican City\");\n",
    "\n",
    "    //loops through the each player's quiz turns.\n",
    "    for (int player_no = 1; player_no <= no_of_players; player_no++)\n",
    "    {\n",
    "        System.out.println(\"Player \" + player_no);\n",
    "        startQuiz (scores, questionPoints, player_no - 1, questionRecords);\n",
    "        \n",
    "        \n",
    "    }\n",
    "    return;\n",
    "\n",
    "} //END numberOfPlayers"
   ]
  },
  {
   "cell_type": "code",
   "execution_count": 16,
   "metadata": {},
   "outputs": [
    {
     "name": "stdout",
     "output_type": "stream",
     "text": [
      "Player 1\n",
      "The following are the rules of the quiz: \n",
      "1. The first question is worth 1 point.\n",
      "2. For each question the player gets right the points increase for the next question.\n",
      "3. The points are dropped back to 1 point each if the player gets a question wrong. \n",
      "The next question is worth 1 point[s] \n",
      "What is the most spoken language in the world?\n",
      "\n",
      "\n",
      "Your answer is : \n"
     ]
    },
    {
     "name": "stdin",
     "output_type": "stream",
     "text": [
      " English\n"
     ]
    },
    {
     "name": "stdout",
     "output_type": "stream",
     "text": [
      "Your answer is correct\n",
      "The next question is worth 2 point[s] \n",
      "What is the biggest country in the world?\n",
      "\n",
      "\n",
      "Your answer is : \n"
     ]
    },
    {
     "name": "stdin",
     "output_type": "stream",
     "text": [
      " Russia\n"
     ]
    },
    {
     "name": "stdout",
     "output_type": "stream",
     "text": [
      "Your answer is correct\n",
      "The next question is worth 3 point[s] \n",
      "What is the smallest country in the world?\n",
      "\n",
      "\n",
      "Your answer is : \n"
     ]
    },
    {
     "name": "stdin",
     "output_type": "stream",
     "text": [
      " Vatican City\n"
     ]
    },
    {
     "name": "stdout",
     "output_type": "stream",
     "text": [
      "Your answer is correct\n",
      "\n",
      "\n",
      "Player 1's final score is 6\n",
      "\n",
      "\n",
      "Player 2\n",
      "The following are the rules of the quiz: \n",
      "1. The first question is worth 1 point.\n",
      "2. For each question the player gets right the points increase for the next question.\n",
      "3. The points are dropped back to 1 point each if the player gets a question wrong. \n",
      "The next question is worth 1 point[s] \n",
      "What is the most spoken language in the world?\n",
      "\n",
      "\n",
      "Your answer is : \n"
     ]
    },
    {
     "name": "stdin",
     "output_type": "stream",
     "text": [
      " sdfd\n"
     ]
    },
    {
     "name": "stdout",
     "output_type": "stream",
     "text": [
      "Incorrect. The correct answer is English\n",
      "The next question is worth 1 point[s] \n",
      "What is the biggest country in the world?\n",
      "\n",
      "\n",
      "Your answer is : \n"
     ]
    },
    {
     "name": "stdin",
     "output_type": "stream",
     "text": [
      " dfd\n"
     ]
    },
    {
     "name": "stdout",
     "output_type": "stream",
     "text": [
      "Incorrect. The correct answer is Russia\n",
      "The next question is worth 1 point[s] \n",
      "What is the smallest country in the world?\n",
      "\n",
      "\n",
      "Your answer is : \n"
     ]
    },
    {
     "name": "stdin",
     "output_type": "stream",
     "text": [
      " dfd\n"
     ]
    },
    {
     "name": "stdout",
     "output_type": "stream",
     "text": [
      "Incorrect. The correct answer is Vatican City\n",
      "\n",
      "\n",
      "Player 2's final score is 0\n",
      "\n",
      "\n",
      "Player 3\n",
      "The following are the rules of the quiz: \n",
      "1. The first question is worth 1 point.\n",
      "2. For each question the player gets right the points increase for the next question.\n",
      "3. The points are dropped back to 1 point each if the player gets a question wrong. \n",
      "The next question is worth 1 point[s] \n",
      "What is the most spoken language in the world?\n",
      "\n",
      "\n",
      "Your answer is : \n"
     ]
    },
    {
     "name": "stdin",
     "output_type": "stream",
     "text": [
      " English\n"
     ]
    },
    {
     "name": "stdout",
     "output_type": "stream",
     "text": [
      "Your answer is correct\n",
      "The next question is worth 2 point[s] \n",
      "What is the biggest country in the world?\n",
      "\n",
      "\n",
      "Your answer is : \n"
     ]
    },
    {
     "name": "stdin",
     "output_type": "stream",
     "text": [
      " sds\n"
     ]
    },
    {
     "name": "stdout",
     "output_type": "stream",
     "text": [
      "Incorrect. The correct answer is Russia\n",
      "The next question is worth 1 point[s] \n",
      "What is the smallest country in the world?\n",
      "\n",
      "\n",
      "Your answer is : \n"
     ]
    },
    {
     "name": "stdin",
     "output_type": "stream",
     "text": [
      " Vatican City\n"
     ]
    },
    {
     "name": "stdout",
     "output_type": "stream",
     "text": [
      "Your answer is correct\n",
      "\n",
      "\n",
      "Player 3's final score is 2\n",
      "\n",
      "\n"
     ]
    }
   ],
   "source": [
    "numberOfPlayers ();"
   ]
  },
  {
   "cell_type": "markdown",
   "metadata": {},
   "source": [
    "## loadQuestions\n",
    "\n",
    "#### What it does\n",
    "This method just loads questions from a file and displays them before starting the quiz for the file.\n",
    "\n",
    "#### Implementation (how it works)\n",
    "It uses I/O file operations to read the file and displays each question in it with a for loop."
   ]
  },
  {
   "cell_type": "code",
   "execution_count": 17,
   "metadata": {},
   "outputs": [],
   "source": [
    "// method to load questions from a file\n",
    "public static void loadQuestions(String fileName) throws IOException \n",
    "{\n",
    "    BufferedReader inputStream = new BufferedReader(new FileReader(fileName));\n",
    "    final int no_of_questions = 3;\n",
    "    System.out.println(\"A quiz will be created from the first 3 questions\");\n",
    "    Question[] fileQuestions = new Question[no_of_questions];\n",
    "\n",
    "    // reads questions and answers from the file\n",
    "    for (int i = 0; i < no_of_questions; i++) {\n",
    "        fileQuestions[i] = new Question();\n",
    "        fileQuestions[i].questionText = inputStream.readLine();\n",
    "        fileQuestions[i].questionAnswer = inputStream.readLine();\n",
    "    }\n",
    "    inputStream.close();\n",
    "    \n",
    "    // Display loaded questions\n",
    "    System.out.println(\"Loaded Questions:\");\n",
    "    for (int i = 0; i < fileQuestions.length; i++) \n",
    "    {\n",
    "        System.out.println(\"Question \" + i + \" \" + fileQuestions[i].questionText);\n",
    "        \n",
    "    }\n",
    "    // sets up quiz\n",
    "    final int no_of_players = 3;\n",
    "    int[] scores = new int[no_of_players];\n",
    "    int[] questionPoints = new int[no_of_questions];\n",
    "    for (int player_no = 1; player_no <= no_of_players; player_no++)\n",
    "    {\n",
    "        System.out.println(\"Player \" + player_no);\n",
    "        startQuiz (scores, questionPoints, player_no - 1,  fileQuestions);\n",
    "        \n",
    "        \n",
    "    }\n",
    "    return;\n",
    "\n",
    "        \n",
    "} // END loadQuestions"
   ]
  },
  {
   "cell_type": "code",
   "execution_count": 18,
   "metadata": {},
   "outputs": [
    {
     "name": "stdin",
     "output_type": "stream",
     "text": [
      " question.txt\n"
     ]
    },
    {
     "name": "stdout",
     "output_type": "stream",
     "text": [
      "A quiz will be created from the first 3 questions\n",
      "Loaded Questions:\n",
      "Question 0 null\n",
      "Question 1 null\n",
      "Question 2 null\n",
      "Player 1\n",
      "The following are the rules of the quiz: \n",
      "1. The first question is worth 1 point.\n",
      "2. For each question the player gets right the points increase for the next question.\n",
      "3. The points are dropped back to 1 point each if the player gets a question wrong. \n",
      "The next question is worth 1 point[s] \n",
      "null\n",
      "\n",
      "\n",
      "Your answer is : \n"
     ]
    },
    {
     "name": "stdin",
     "output_type": "stream",
     "text": [
      " fdfd\n"
     ]
    },
    {
     "name": "stdout",
     "output_type": "stream",
     "text": [
      "Incorrect. The correct answer is null\n",
      "The next question is worth 1 point[s] \n",
      "null\n",
      "\n",
      "\n",
      "Your answer is : \n"
     ]
    },
    {
     "name": "stdin",
     "output_type": "stream",
     "text": [
      " dfdf\n"
     ]
    },
    {
     "name": "stdout",
     "output_type": "stream",
     "text": [
      "Incorrect. The correct answer is null\n",
      "The next question is worth 1 point[s] \n",
      "null\n",
      "\n",
      "\n",
      "Your answer is : \n"
     ]
    },
    {
     "name": "stdin",
     "output_type": "stream",
     "text": [
      " dfd\n"
     ]
    },
    {
     "name": "stdout",
     "output_type": "stream",
     "text": [
      "Incorrect. The correct answer is null\n",
      "\n",
      "\n",
      "Player 1's final score is 0\n",
      "\n",
      "\n",
      "Player 2\n",
      "The following are the rules of the quiz: \n",
      "1. The first question is worth 1 point.\n",
      "2. For each question the player gets right the points increase for the next question.\n",
      "3. The points are dropped back to 1 point each if the player gets a question wrong. \n",
      "The next question is worth 1 point[s] \n",
      "null\n",
      "\n",
      "\n",
      "Your answer is : \n"
     ]
    },
    {
     "name": "stdin",
     "output_type": "stream",
     "text": [
      " dfd\n"
     ]
    },
    {
     "name": "stdout",
     "output_type": "stream",
     "text": [
      "Incorrect. The correct answer is null\n",
      "The next question is worth 1 point[s] \n",
      "null\n",
      "\n",
      "\n",
      "Your answer is : \n"
     ]
    },
    {
     "name": "stdin",
     "output_type": "stream",
     "text": [
      " dfd\n"
     ]
    },
    {
     "name": "stdout",
     "output_type": "stream",
     "text": [
      "Incorrect. The correct answer is null\n",
      "The next question is worth 1 point[s] \n",
      "null\n",
      "\n",
      "\n",
      "Your answer is : \n"
     ]
    },
    {
     "name": "stdin",
     "output_type": "stream",
     "text": [
      " dfd\n"
     ]
    },
    {
     "name": "stdout",
     "output_type": "stream",
     "text": [
      "Incorrect. The correct answer is null\n",
      "\n",
      "\n",
      "Player 2's final score is 0\n",
      "\n",
      "\n",
      "Player 3\n",
      "The following are the rules of the quiz: \n",
      "1. The first question is worth 1 point.\n",
      "2. For each question the player gets right the points increase for the next question.\n",
      "3. The points are dropped back to 1 point each if the player gets a question wrong. \n",
      "The next question is worth 1 point[s] \n",
      "null\n",
      "\n",
      "\n",
      "Your answer is : \n"
     ]
    },
    {
     "name": "stdin",
     "output_type": "stream",
     "text": [
      " dfd\n"
     ]
    },
    {
     "name": "stdout",
     "output_type": "stream",
     "text": [
      "Incorrect. The correct answer is null\n",
      "The next question is worth 1 point[s] \n",
      "null\n",
      "\n",
      "\n",
      "Your answer is : \n"
     ]
    },
    {
     "name": "stdin",
     "output_type": "stream",
     "text": [
      " dfd\n"
     ]
    },
    {
     "name": "stdout",
     "output_type": "stream",
     "text": [
      "Incorrect. The correct answer is null\n",
      "The next question is worth 1 point[s] \n",
      "null\n",
      "\n",
      "\n",
      "Your answer is : \n"
     ]
    },
    {
     "name": "stdin",
     "output_type": "stream",
     "text": [
      " dfd\n"
     ]
    },
    {
     "name": "stdout",
     "output_type": "stream",
     "text": [
      "Incorrect. The correct answer is null\n",
      "\n",
      "\n",
      "Player 3's final score is 0\n",
      "\n",
      "\n"
     ]
    }
   ],
   "source": [
    "Scanner scanner = new Scanner (System.in);\n",
    "String fileName = scanner.nextLine();\n",
    "loadQuestions(fileName);"
   ]
  },
  {
   "cell_type": "markdown",
   "metadata": {},
   "source": [
    "## saveQuestions\n",
    "\n",
    "#### What it does\n",
    "This method just saves the question sets created in a file.\n",
    "\n",
    "#### Implementation (how it works)\n",
    "It uses I/O file operations to print the questions and answers in a file and saves it."
   ]
  },
  {
   "cell_type": "code",
   "execution_count": 58,
   "metadata": {},
   "outputs": [],
   "source": [
    "// methods that helps in saving questions to a file\n",
    "public static void saveQuestions(String fileName, Question[] fileQuestions) throws IOException {\n",
    "    PrintWriter outputStream = new PrintWriter(new FileWriter(fileName));\n",
    "    \n",
    "\n",
    "    for (int i = 0; i < fileQuestions.length; i++) {\n",
    "        outputStream.println(fileQuestions[i].questionText);\n",
    "        outputStream.println(fileQuestions[i].questionAnswer);\n",
    "    }\n",
    "    outputStream.close();\n",
    "\n",
    "    System.out.println(\"Questions saved to \" + fileName);\n",
    "    chooseQuestionSet();\n",
    "    return;\n",
    "\n",
    "    \n",
    "} //END saveQuestions\n"
   ]
  },
  {
   "cell_type": "code",
   "execution_count": 8,
   "metadata": {},
   "outputs": [
    {
     "name": "stdin",
     "output_type": "stream",
     "text": [
      " f\n"
     ]
    }
   ],
   "source": [
    "Scanner scanner = new Scanner(System.in);\n",
    "String fileName = scanner.nextLine();\n",
    "int no_of_questions = 3;\n",
    "Question[] fileQuestions = new Question[no_of_questions];\n",
    "saveQuestions(fileName, fileQuestions);"
   ]
  },
  {
   "cell_type": "markdown",
   "metadata": {},
   "source": [
    "## saveQuestions\n",
    "\n",
    "#### What it does\n",
    "This method just asks for the noOfQuestions and converts the string to an integer and returns it.\n",
    "\n",
    "#### Implementation (how it works)\n",
    "It uses I/O file operations to print the questions and answers in a file and saves it."
   ]
  },
  {
   "cell_type": "code",
   "execution_count": 25,
   "metadata": {},
   "outputs": [],
   "source": [
    "// method that gets number of questions from the user  \n",
    "public static int get_number_questions()\n",
    "{\n",
    "    Scanner scanner = new Scanner (System.in);\n",
    "    int noOfQuestions = Integer.parseInt(scanner.nextLine());\n",
    "    return noOfQuestions;\n",
    "} // END get_number_questions"
   ]
  },
  {
   "cell_type": "code",
   "execution_count": 26,
   "metadata": {},
   "outputs": [
    {
     "name": "stdin",
     "output_type": "stream",
     "text": [
      " 21\n"
     ]
    },
    {
     "data": {
      "text/plain": [
       "21"
      ]
     },
     "execution_count": 26,
     "metadata": {},
     "output_type": "execute_result"
    }
   ],
   "source": [
    "get_number_questions();"
   ]
  },
  {
   "cell_type": "markdown",
   "metadata": {},
   "source": [
    "## createNewQuestionSet\n",
    "\n",
    "#### What it does\n",
    "This method just creates a new set of questions and answers and calls the saveQuestions method to save the questions and answers in a file.\n",
    "\n",
    "#### Implementation (how it works)\n",
    "It uses a for loop to ask each question and answer and stores it in a array in the record and lastly calls the saveQuestions method to save the questions and answers in a file."
   ]
  },
  {
   "cell_type": "code",
   "execution_count": 23,
   "metadata": {},
   "outputs": [],
   "source": [
    "// method that creates a set of questions\n",
    "public static int createNewQuestionSet() throws IOException {\n",
    "    Scanner scanner = new Scanner(System.in);\n",
    "\n",
    "    System.out.println(\"Enter the number of questions in the new set: \");\n",
    "    int no_of_questions = get_number_questions();\n",
    "\n",
    "    Question[] newQuestions = new Question[no_of_questions];\n",
    "\n",
    "    for (int i = 0; i < no_of_questions; i++) {\n",
    "        newQuestions[i] = new Question();\n",
    "        System.out.println(\"Enter question \" + (i + 1) + \": \");\n",
    "        newQuestions[i].questionText = scanner.nextLine();\n",
    "        System.out.println(\"Enter the answer for question \" + (i + 1) + \": \");\n",
    "        newQuestions[i].questionAnswer = scanner.nextLine();\n",
    "    }\n",
    "\n",
    "    System.out.println(\"Enter a file name to save the new question set: \");\n",
    "    String newFileName = scanner.nextLine();\n",
    "    saveQuestions(newFileName, newQuestions);\n",
    "    return no_of_questions;\n",
    "} //END createNewQuestionSet"
   ]
  },
  {
   "cell_type": "code",
   "execution_count": 27,
   "metadata": {},
   "outputs": [
    {
     "name": "stdout",
     "output_type": "stream",
     "text": [
      "Enter the number of questions in the new set: \n"
     ]
    },
    {
     "name": "stdin",
     "output_type": "stream",
     "text": [
      " 2\n"
     ]
    },
    {
     "name": "stdout",
     "output_type": "stream",
     "text": [
      "Enter question 1: \n"
     ]
    },
    {
     "name": "stdin",
     "output_type": "stream",
     "text": [
      " what is the largest planet in the solar system?\n"
     ]
    },
    {
     "name": "stdout",
     "output_type": "stream",
     "text": [
      "Enter the answer for question 1: \n"
     ]
    },
    {
     "name": "stdin",
     "output_type": "stream",
     "text": [
      " Jupiter\n"
     ]
    },
    {
     "name": "stdout",
     "output_type": "stream",
     "text": [
      "Enter question 2: \n"
     ]
    },
    {
     "name": "stdin",
     "output_type": "stream",
     "text": [
      " What is the closest planet to the sun?\n"
     ]
    },
    {
     "name": "stdout",
     "output_type": "stream",
     "text": [
      "Enter the answer for question 2: \n"
     ]
    },
    {
     "name": "stdin",
     "output_type": "stream",
     "text": [
      " Mercury\n"
     ]
    },
    {
     "name": "stdout",
     "output_type": "stream",
     "text": [
      "Enter a file name to save the new question set: \n"
     ]
    },
    {
     "name": "stdin",
     "output_type": "stream",
     "text": [
      " How many planets are there in the solar system?\n"
     ]
    },
    {
     "name": "stdout",
     "output_type": "stream",
     "text": [
      "Questions saved to How many planets are there in the solar system?\n",
      "Choose which set of questions you would like to answer: \n",
      "1. Default Questions\n",
      "2. Questions loaded from a file\n",
      "3. Create a new set of questions\n"
     ]
    },
    {
     "name": "stdin",
     "output_type": "stream",
     "text": [
      " 2\n"
     ]
    },
    {
     "name": "stdout",
     "output_type": "stream",
     "text": [
      "Enter File Name: \n"
     ]
    },
    {
     "name": "stdin",
     "output_type": "stream",
     "text": [
      " question.txt\n"
     ]
    },
    {
     "name": "stdout",
     "output_type": "stream",
     "text": [
      "A quiz will be created from the first 3 questions\n",
      "Loaded Questions:\n",
      "Question 0 null\n",
      "Question 1 null\n",
      "Question 2 null\n",
      "Player 1\n",
      "The following are the rules of the quiz: \n",
      "1. The first question is worth 1 point.\n",
      "2. For each question the player gets right the points increase for the next question.\n",
      "3. The points are dropped back to 1 point each if the player gets a question wrong. \n",
      "The next question is worth 1 point[s] \n",
      "null\n",
      "\n",
      "\n",
      "Your answer is : \n"
     ]
    },
    {
     "name": "stdin",
     "output_type": "stream",
     "text": [
      " d\n"
     ]
    },
    {
     "name": "stdout",
     "output_type": "stream",
     "text": [
      "Incorrect. The correct answer is null\n",
      "The next question is worth 1 point[s] \n",
      "null\n",
      "\n",
      "\n",
      "Your answer is : \n"
     ]
    },
    {
     "name": "stdin",
     "output_type": "stream",
     "text": [
      " sds\n"
     ]
    },
    {
     "name": "stdout",
     "output_type": "stream",
     "text": [
      "Incorrect. The correct answer is null\n",
      "The next question is worth 1 point[s] \n",
      "null\n",
      "\n",
      "\n",
      "Your answer is : \n"
     ]
    },
    {
     "name": "stdin",
     "output_type": "stream",
     "text": [
      " sds\n"
     ]
    },
    {
     "name": "stdout",
     "output_type": "stream",
     "text": [
      "Incorrect. The correct answer is null\n",
      "\n",
      "\n",
      "Player 1's final score is 0\n",
      "\n",
      "\n",
      "Player 2\n",
      "The following are the rules of the quiz: \n",
      "1. The first question is worth 1 point.\n",
      "2. For each question the player gets right the points increase for the next question.\n",
      "3. The points are dropped back to 1 point each if the player gets a question wrong. \n",
      "The next question is worth 1 point[s] \n",
      "null\n",
      "\n",
      "\n",
      "Your answer is : \n"
     ]
    },
    {
     "name": "stdin",
     "output_type": "stream",
     "text": [
      " sd\n"
     ]
    },
    {
     "name": "stdout",
     "output_type": "stream",
     "text": [
      "Incorrect. The correct answer is null\n",
      "The next question is worth 1 point[s] \n",
      "null\n",
      "\n",
      "\n",
      "Your answer is : \n"
     ]
    },
    {
     "name": "stdin",
     "output_type": "stream",
     "text": [
      " sds\n"
     ]
    },
    {
     "name": "stdout",
     "output_type": "stream",
     "text": [
      "Incorrect. The correct answer is null\n",
      "The next question is worth 1 point[s] \n",
      "null\n",
      "\n",
      "\n",
      "Your answer is : \n"
     ]
    },
    {
     "name": "stdin",
     "output_type": "stream",
     "text": [
      " sd\n"
     ]
    },
    {
     "name": "stdout",
     "output_type": "stream",
     "text": [
      "Incorrect. The correct answer is null\n",
      "\n",
      "\n",
      "Player 2's final score is 0\n",
      "\n",
      "\n",
      "Player 3\n",
      "The following are the rules of the quiz: \n",
      "1. The first question is worth 1 point.\n",
      "2. For each question the player gets right the points increase for the next question.\n",
      "3. The points are dropped back to 1 point each if the player gets a question wrong. \n",
      "The next question is worth 1 point[s] \n",
      "null\n",
      "\n",
      "\n",
      "Your answer is : \n"
     ]
    },
    {
     "name": "stdin",
     "output_type": "stream",
     "text": [
      " wew\n"
     ]
    },
    {
     "name": "stdout",
     "output_type": "stream",
     "text": [
      "Incorrect. The correct answer is null\n",
      "The next question is worth 1 point[s] \n",
      "null\n",
      "\n",
      "\n",
      "Your answer is : \n"
     ]
    },
    {
     "name": "stdin",
     "output_type": "stream",
     "text": [
      " wew\n"
     ]
    },
    {
     "name": "stdout",
     "output_type": "stream",
     "text": [
      "Incorrect. The correct answer is null\n",
      "The next question is worth 1 point[s] \n",
      "null\n",
      "\n",
      "\n",
      "Your answer is : \n"
     ]
    },
    {
     "name": "stdin",
     "output_type": "stream",
     "text": [
      " wew\n"
     ]
    },
    {
     "name": "stdout",
     "output_type": "stream",
     "text": [
      "Incorrect. The correct answer is null\n",
      "\n",
      "\n",
      "Player 3's final score is 0\n",
      "\n",
      "\n"
     ]
    },
    {
     "data": {
      "text/plain": [
       "2"
      ]
     },
     "execution_count": 27,
     "metadata": {},
     "output_type": "execute_result"
    }
   ],
   "source": [
    "createNewQuestionSet ();"
   ]
  },
  {
   "cell_type": "markdown",
   "metadata": {},
   "source": [
    "## chooseQuestionSet\n",
    "\n",
    "#### What it does\n",
    "This method gives the user the option to either take a quiz on default questions or questions loaded from a file. It even gives them the option to create a new file with new questions and answers to play the file quiz.\n",
    "\n",
    "#### Implementation (how it works)\n",
    "It uses a series of if conditions to ask the user whether he/she wants to play default quiz, file quiz or wants to create a quiz."
   ]
  },
  {
   "cell_type": "code",
   "execution_count": 28,
   "metadata": {},
   "outputs": [],
   "source": [
    "//method to choose questionSet\n",
    "public static void chooseQuestionSet() throws IOException \n",
    "{\n",
    "    Scanner scanner = new Scanner(System.in);\n",
    "    System.out.println(\"Choose which set of questions you would like to answer: \");\n",
    "    System.out.println(\"1. Default Questions\");\n",
    "    System.out.println(\"2. Questions loaded from a file\");\n",
    "    System.out.println(\"3. Create a new set of questions\");\n",
    "    String input = scanner.nextLine();\n",
    "    int selection = Integer.parseInt(input);\n",
    "\n",
    "    if (selection == 2) {\n",
    "        System.out.println(\"Enter File Name: \");\n",
    "        String fileName = scanner.nextLine();\n",
    "        loadQuestions(fileName);\n",
    "    }\n",
    "    else if (selection == 3)\n",
    "    {\n",
    "        createNewQuestionSet();\n",
    "       \n",
    "    }\n",
    "    \n",
    "    else {\n",
    "        numberOfPlayers();\n",
    "    }\n",
    "} //END chooseQuestionSet()"
   ]
  },
  {
   "cell_type": "code",
   "execution_count": 29,
   "metadata": {},
   "outputs": [
    {
     "name": "stdout",
     "output_type": "stream",
     "text": [
      "Choose which set of questions you would like to answer: \n",
      "1. Default Questions\n",
      "2. Questions loaded from a file\n",
      "3. Create a new set of questions\n"
     ]
    },
    {
     "name": "stdin",
     "output_type": "stream",
     "text": [
      " 2\n"
     ]
    },
    {
     "name": "stdout",
     "output_type": "stream",
     "text": [
      "Enter File Name: \n"
     ]
    },
    {
     "name": "stdin",
     "output_type": "stream",
     "text": [
      " question.txt\n"
     ]
    },
    {
     "name": "stdout",
     "output_type": "stream",
     "text": [
      "A quiz will be created from the first 3 questions\n",
      "Loaded Questions:\n",
      "Question 0 null\n",
      "Question 1 null\n",
      "Question 2 null\n",
      "Player 1\n",
      "The following are the rules of the quiz: \n",
      "1. The first question is worth 1 point.\n",
      "2. For each question the player gets right the points increase for the next question.\n",
      "3. The points are dropped back to 1 point each if the player gets a question wrong. \n",
      "The next question is worth 1 point[s] \n",
      "null\n",
      "\n",
      "\n",
      "Your answer is : \n"
     ]
    },
    {
     "name": "stdin",
     "output_type": "stream",
     "text": [
      " swds\n"
     ]
    },
    {
     "name": "stdout",
     "output_type": "stream",
     "text": [
      "Incorrect. The correct answer is null\n",
      "The next question is worth 1 point[s] \n",
      "null\n",
      "\n",
      "\n",
      "Your answer is : \n"
     ]
    },
    {
     "name": "stdin",
     "output_type": "stream",
     "text": [
      " sds\n"
     ]
    },
    {
     "name": "stdout",
     "output_type": "stream",
     "text": [
      "Incorrect. The correct answer is null\n",
      "The next question is worth 1 point[s] \n",
      "null\n",
      "\n",
      "\n",
      "Your answer is : \n"
     ]
    },
    {
     "name": "stdin",
     "output_type": "stream",
     "text": [
      " sds\n"
     ]
    },
    {
     "name": "stdout",
     "output_type": "stream",
     "text": [
      "Incorrect. The correct answer is null\n",
      "\n",
      "\n",
      "Player 1's final score is 0\n",
      "\n",
      "\n",
      "Player 2\n",
      "The following are the rules of the quiz: \n",
      "1. The first question is worth 1 point.\n",
      "2. For each question the player gets right the points increase for the next question.\n",
      "3. The points are dropped back to 1 point each if the player gets a question wrong. \n",
      "The next question is worth 1 point[s] \n",
      "null\n",
      "\n",
      "\n",
      "Your answer is : \n"
     ]
    },
    {
     "name": "stdin",
     "output_type": "stream",
     "text": [
      " sdsd\n"
     ]
    },
    {
     "name": "stdout",
     "output_type": "stream",
     "text": [
      "Incorrect. The correct answer is null\n",
      "The next question is worth 1 point[s] \n",
      "null\n",
      "\n",
      "\n",
      "Your answer is : \n"
     ]
    },
    {
     "name": "stdin",
     "output_type": "stream",
     "text": [
      " sds\n"
     ]
    },
    {
     "name": "stdout",
     "output_type": "stream",
     "text": [
      "Incorrect. The correct answer is null\n",
      "The next question is worth 1 point[s] \n",
      "null\n",
      "\n",
      "\n",
      "Your answer is : \n"
     ]
    },
    {
     "name": "stdin",
     "output_type": "stream",
     "text": [
      " sds\n"
     ]
    },
    {
     "name": "stdout",
     "output_type": "stream",
     "text": [
      "Incorrect. The correct answer is null\n",
      "\n",
      "\n",
      "Player 2's final score is 0\n",
      "\n",
      "\n",
      "Player 3\n",
      "The following are the rules of the quiz: \n",
      "1. The first question is worth 1 point.\n",
      "2. For each question the player gets right the points increase for the next question.\n",
      "3. The points are dropped back to 1 point each if the player gets a question wrong. \n",
      "The next question is worth 1 point[s] \n",
      "null\n",
      "\n",
      "\n",
      "Your answer is : \n"
     ]
    },
    {
     "name": "stdin",
     "output_type": "stream",
     "text": [
      " sds\n"
     ]
    },
    {
     "name": "stdout",
     "output_type": "stream",
     "text": [
      "Incorrect. The correct answer is null\n",
      "The next question is worth 1 point[s] \n",
      "null\n",
      "\n",
      "\n",
      "Your answer is : \n"
     ]
    },
    {
     "name": "stdin",
     "output_type": "stream",
     "text": [
      " sds\n"
     ]
    },
    {
     "name": "stdout",
     "output_type": "stream",
     "text": [
      "Incorrect. The correct answer is null\n",
      "The next question is worth 1 point[s] \n",
      "null\n",
      "\n",
      "\n",
      "Your answer is : \n"
     ]
    },
    {
     "name": "stdin",
     "output_type": "stream",
     "text": [
      " sds\n"
     ]
    },
    {
     "name": "stdout",
     "output_type": "stream",
     "text": [
      "Incorrect. The correct answer is null\n",
      "\n",
      "\n",
      "Player 3's final score is 0\n",
      "\n",
      "\n"
     ]
    }
   ],
   "source": [
    "chooseQuestionSet();"
   ]
  },
  {
   "cell_type": "markdown",
   "metadata": {},
   "source": [
    "### Running the program\n",
    "Run the following call to simulate running the complete program."
   ]
  },
  {
   "cell_type": "code",
   "execution_count": 74,
   "metadata": {},
   "outputs": [
    {
     "name": "stdout",
     "output_type": "stream",
     "text": [
      "Choose which set of questions you would like to answer: \n",
      "1. Default Questions\n",
      "2. Questions loaded from a file\n",
      "3. Create a new set of questions\n"
     ]
    },
    {
     "name": "stdin",
     "output_type": "stream",
     "text": [
      " 1\n"
     ]
    },
    {
     "name": "stdout",
     "output_type": "stream",
     "text": [
      "Player 1\n",
      "The following are the rules of the quiz: \n",
      "1. The first question is worth 1 point.\n",
      "2. For each question the player gets right the points increase for the next question.\n",
      "3. The points are dropped back to 1 point each if the player gets a question wrong. \n",
      "The next question is worth 1 point[s] \n",
      "What is the most spoken language in the world?\n",
      "\n",
      "\n",
      "Your answer is : \n"
     ]
    },
    {
     "name": "stdin",
     "output_type": "stream",
     "text": [
      " English\n"
     ]
    },
    {
     "name": "stdout",
     "output_type": "stream",
     "text": [
      "Your answer is correct\n",
      "The next question is worth 2 point[s] \n",
      "What is the biggest country in the world?\n",
      "\n",
      "\n",
      "Your answer is : \n"
     ]
    },
    {
     "name": "stdin",
     "output_type": "stream",
     "text": [
      " Russia\n"
     ]
    },
    {
     "name": "stdout",
     "output_type": "stream",
     "text": [
      "Your answer is correct\n",
      "The next question is worth 3 point[s] \n",
      "What is the smallest country in the world?\n",
      "\n",
      "\n",
      "Your answer is : \n"
     ]
    },
    {
     "name": "stdin",
     "output_type": "stream",
     "text": [
      " Vatican City\n"
     ]
    },
    {
     "name": "stdout",
     "output_type": "stream",
     "text": [
      "Your answer is correct\n",
      "\n",
      "\n",
      "Player 1's final score is 6\n",
      "\n",
      "\n",
      "Player 2\n",
      "The following are the rules of the quiz: \n",
      "1. The first question is worth 1 point.\n",
      "2. For each question the player gets right the points increase for the next question.\n",
      "3. The points are dropped back to 1 point each if the player gets a question wrong. \n",
      "The next question is worth 1 point[s] \n",
      "What is the most spoken language in the world?\n",
      "\n",
      "\n",
      "Your answer is : \n"
     ]
    },
    {
     "name": "stdin",
     "output_type": "stream",
     "text": [
      " sd\n"
     ]
    },
    {
     "name": "stdout",
     "output_type": "stream",
     "text": [
      "Incorrect. The correct answer is English\n",
      "The next question is worth 1 point[s] \n",
      "What is the biggest country in the world?\n",
      "\n",
      "\n",
      "Your answer is : \n"
     ]
    },
    {
     "name": "stdin",
     "output_type": "stream",
     "text": [
      " sd\n"
     ]
    },
    {
     "name": "stdout",
     "output_type": "stream",
     "text": [
      "Incorrect. The correct answer is Russia\n",
      "The next question is worth 1 point[s] \n",
      "What is the smallest country in the world?\n",
      "\n",
      "\n",
      "Your answer is : \n"
     ]
    },
    {
     "name": "stdin",
     "output_type": "stream",
     "text": [
      " sd\n"
     ]
    },
    {
     "name": "stdout",
     "output_type": "stream",
     "text": [
      "Incorrect. The correct answer is Vatican City\n",
      "\n",
      "\n",
      "Player 2's final score is 0\n",
      "\n",
      "\n",
      "Player 3\n",
      "The following are the rules of the quiz: \n",
      "1. The first question is worth 1 point.\n",
      "2. For each question the player gets right the points increase for the next question.\n",
      "3. The points are dropped back to 1 point each if the player gets a question wrong. \n",
      "The next question is worth 1 point[s] \n",
      "What is the most spoken language in the world?\n",
      "\n",
      "\n",
      "Your answer is : \n"
     ]
    },
    {
     "name": "stdin",
     "output_type": "stream",
     "text": [
      " English\n"
     ]
    },
    {
     "name": "stdout",
     "output_type": "stream",
     "text": [
      "Your answer is correct\n",
      "The next question is worth 2 point[s] \n",
      "What is the biggest country in the world?\n",
      "\n",
      "\n",
      "Your answer is : \n"
     ]
    },
    {
     "name": "stdin",
     "output_type": "stream",
     "text": [
      " sd\n"
     ]
    },
    {
     "name": "stdout",
     "output_type": "stream",
     "text": [
      "Incorrect. The correct answer is Russia\n",
      "The next question is worth 1 point[s] \n",
      "What is the smallest country in the world?\n",
      "\n",
      "\n",
      "Your answer is : \n"
     ]
    },
    {
     "name": "stdin",
     "output_type": "stream",
     "text": [
      " Vatican City\n"
     ]
    },
    {
     "name": "stdout",
     "output_type": "stream",
     "text": [
      "Your answer is correct\n",
      "\n",
      "\n",
      "Player 3's final score is 2\n",
      "\n",
      "\n"
     ]
    }
   ],
   "source": [
    "chooseQuestionSet ();"
   ]
  },
  {
   "cell_type": "markdown",
   "metadata": {},
   "source": [
    "## The complete program \n",
    "This version will only compile here. To run it copy it into a file called initials.java on your local computer and compile and run it there."
   ]
  },
  {
   "cell_type": "code",
   "execution_count": 1,
   "metadata": {},
   "outputs": [],
   "source": [
    "/* **********************\n",
    "  @author    Hansel Rodrigues\n",
    "  @SID       230603866\n",
    "  @date      4 December 2023\n",
    "  @version   1\n",
    "\n",
    "    Miniproject Level 7\n",
    "    A short answer quiz .\n",
    "   ****************************************/\n",
    "class Question\n",
    "{\n",
    "    String questionText;\n",
    "    String questionAnswer;\n",
    "} //END class Question\n",
    "class Quiz\n",
    "{\n",
    "    public static void main (String [] a) throws IOException\n",
    "    {\n",
    "        chooseQuestionSet();\n",
    "        return;\n",
    "    } // END main\n",
    "\n",
    "    //method to choose questionSet\n",
    "    public static void chooseQuestionSet() throws IOException \n",
    "    {\n",
    "        Scanner scanner = new Scanner(System.in);\n",
    "        System.out.println(\"Choose which set of questions you would like to answer: \");\n",
    "        System.out.println(\"1. Default Questions\");\n",
    "        System.out.println(\"2. Questions loaded from a file\");\n",
    "        System.out.println(\"3. Create a new set of questions\");\n",
    "        String input = scanner.nextLine();\n",
    "        int selection = Integer.parseInt(input);\n",
    "\n",
    "        if (selection == 2) {\n",
    "            System.out.println(\"Enter File Name: \");\n",
    "            String fileName = scanner.nextLine();\n",
    "            loadQuestions(fileName);\n",
    "        }\n",
    "        else if (selection == 3)\n",
    "        {\n",
    "            createNewQuestionSet();\n",
    "           \n",
    "        }\n",
    "        \n",
    "        else {\n",
    "            numberOfPlayers();\n",
    "        }\n",
    "    } //END chooseQuestionSet()\n",
    "\n",
    "    // method to load questions from a file\n",
    "    public static void loadQuestions(String fileName) throws IOException \n",
    "    {\n",
    "        BufferedReader inputStream = new BufferedReader(new FileReader(fileName));\n",
    "        final int no_of_questions = 3;\n",
    "        System.out.println(\"A quiz will be created from the first 3 questions\");\n",
    "        Question[] fileQuestions = new Question[no_of_questions];\n",
    "\n",
    "        // reads questions and answers from the file\n",
    "        for (int i = 0; i < no_of_questions; i++) {\n",
    "            fileQuestions[i] = new Question();\n",
    "            fileQuestions[i].questionText = inputStream.readLine();\n",
    "            fileQuestions[i].questionAnswer = inputStream.readLine();\n",
    "        }\n",
    "        inputStream.close();\n",
    "        \n",
    "        // Display loaded questions\n",
    "        System.out.println(\"Loaded Questions:\");\n",
    "        for (int i = 0; i < fileQuestions.length; i++) \n",
    "        {\n",
    "            System.out.println(\"Question \" + i + \" \" + fileQuestions[i].questionText);\n",
    "            \n",
    "        }\n",
    "        // sets up quiz\n",
    "        final int no_of_players = 3;\n",
    "        int[] scores = new int[no_of_players];\n",
    "        int[] questionPoints = new int[no_of_questions];\n",
    "        for (int player_no = 1; player_no <= no_of_players; player_no++)\n",
    "        {\n",
    "            System.out.println(\"Player \" + player_no);\n",
    "            startQuiz (scores, questionPoints, player_no - 1,  fileQuestions);\n",
    "            \n",
    "            \n",
    "        }\n",
    "        return;\n",
    "\n",
    "            \n",
    "    } // END loadQuestions\n",
    "       \n",
    "    // methods that helps in saving questions to a file\n",
    "    public static void saveQuestions(String fileName, Question[] fileQuestions) throws IOException {\n",
    "        PrintWriter outputStream = new PrintWriter(new FileWriter(fileName));\n",
    "        \n",
    "\n",
    "        for (int i = 0; i < fileQuestions.length; i++) {\n",
    "            outputStream.println(fileQuestions[i].questionText);\n",
    "            outputStream.println(fileQuestions[i].questionAnswer);\n",
    "        }\n",
    "        outputStream.close();\n",
    "\n",
    "        System.out.println(\"Questions saved to \" + fileName);\n",
    "        chooseQuestionSet();\n",
    "        return;\n",
    "\n",
    "        \n",
    "    } //END saveQuestions\n",
    "    \n",
    "    // method that gets number of questions from the user  \n",
    "    public static int get_number_questions()\n",
    "    {\n",
    "        Scanner scanner = new Scanner (System.in);\n",
    "        int noOfQuestions = Integer.parseInt(scanner.nextLine());\n",
    "        return noOfQuestions;\n",
    "    } // END get_number_questions\n",
    "    \n",
    "    // method that creates a set of questions\n",
    "    public static int createNewQuestionSet() throws IOException {\n",
    "        Scanner scanner = new Scanner(System.in);\n",
    "\n",
    "        System.out.println(\"Enter the number of questions in the new set: \");\n",
    "        int no_of_questions = get_number_questions();\n",
    "\n",
    "        Question[] newQuestions = new Question[no_of_questions];\n",
    "\n",
    "        for (int i = 0; i < no_of_questions; i++) \n",
    "        {\n",
    "        \n",
    "            newQuestions[i] = new Question();\n",
    "            System.out.println(\"Enter question \" + (i + 1) + \": \");\n",
    "            newQuestions[i].questionText = scanner.nextLine();\n",
    "            System.out.println(\"Enter the answer for question \" + (i + 1) + \": \");\n",
    "            newQuestions[i].questionAnswer = scanner.nextLine();\n",
    "            \n",
    "        }\n",
    "\n",
    "        System.out.println(\"Enter a file name to save the new question set: \");\n",
    "        String newFileName = scanner.nextLine();\n",
    "        saveQuestions(newFileName, newQuestions);\n",
    "        return no_of_questions;\n",
    "    } //END createNewQuestionSet\n",
    "    \n",
    "    // runs the quiz for 3 players and displays their final score alongside the player numbers.\n",
    "    public static void numberOfPlayers ()\n",
    "    {\n",
    "        final int no_of_players = 3;\n",
    "        final int no_of_questions = 3;\n",
    "        final int question_no = 0;\n",
    "        int[] scores = new int[no_of_players];\n",
    "        int[] questionPoints = new int[no_of_questions];\n",
    "        Question[] questionRecords = new Question[no_of_questions];\n",
    "       \n",
    "        for (int i=0; i<3; i++)\n",
    "        {\n",
    "            questionRecords[i]= new Question ();\n",
    "        }\n",
    "\n",
    "        quizRecord(questionRecords[0], \"What is the most spoken language in the world?\", \"English\");\n",
    "        quizRecord(questionRecords[1], \"What is the biggest country in the world?\", \"Russia\");\n",
    "        quizRecord(questionRecords[2], \"What is the smallest country in the world?\", \"Vatican City\");\n",
    "\n",
    "        //loops through the each player's quiz turns.\n",
    "        for (int player_no = 1; player_no <= no_of_players; player_no++)\n",
    "        {\n",
    "            System.out.println(\"Player \" + player_no);\n",
    "            startQuiz (scores, questionPoints, player_no - 1, questionRecords);\n",
    "            \n",
    "            \n",
    "        }\n",
    "        return;\n",
    "    \n",
    "    } //END numberOfPlayers\n",
    "\n",
    "    // a method that sets up quiz Record\n",
    "     public static void quizRecord (Question questionRecord, String questionText, String questionAnswer)\n",
    "    {\n",
    "        questionRecord.questionText = questionText;\n",
    "        questionRecord.questionAnswer = questionAnswer;\n",
    "        return;\n",
    "    } //END quizRecord\n",
    "\n",
    "    // starts the quiz for one player at a time.\n",
    "    //\n",
    "    public static void startQuiz (int[] scores, int[] questionPoints, int playerNumber, Question[] questionRecords)\n",
    "    {\n",
    "        quizRules();\n",
    "        int totalScore = 0;\n",
    "        int questionScore = 1;\n",
    "        // loops through quiz questions\n",
    "        for (int i=0; i<3; i++)\n",
    "        {\n",
    "            questionPoints[i] = questionScore; \n",
    "            System.out.println(\"The next question is worth \" + questionPoints[i] + \" point[s] \");\n",
    "            System.out.println(questionRecords[i].questionText);\n",
    "            System.out.println(\"\\n\");\n",
    "            String userAnswer = userAnswers ();\n",
    "            //compares player's answer with the quiz answer and updates the score as necessary.\n",
    "            if (quizMarking(userAnswer, questionRecords[i].questionAnswer)) \n",
    "            {\n",
    "                System.out.println(\"Your answer is correct\");\n",
    "                scores[playerNumber] = scores[playerNumber] + questionScore;\n",
    "                questionScore = questionScore + 1;\n",
    "            } \n",
    "            else\n",
    "            {\n",
    "                System.out.println(\"Incorrect. The correct answer is \" + questionRecords[i].questionAnswer);\n",
    "                questionScore = 1;\n",
    "            }\n",
    "         \n",
    "\n",
    "            \n",
    "        } \n",
    "    \n",
    "        System.out.println(\"\\n\");\n",
    "        System.out.println(\"Player \" + (playerNumber + 1) + \"'s final score is \" + scores[playerNumber]);\n",
    "        System.out.println(\"\\n\");\n",
    "        return;\n",
    "    } // END startQuiz\n",
    "\n",
    "    \n",
    "    \n",
    "    // Prints the rules of the quiz.\n",
    "\n",
    "    public static void quizRules ()\n",
    "    {\n",
    "         System.out.println(\"The following are the rules of the quiz: \");\n",
    "         System.out.println(\"1. The first question is worth 1 point.\");\n",
    "         System.out.println(\"2. For each question the player gets right the points increase for the next question.\");\n",
    "         System.out.println(\"3. The points are dropped back to 1 point each if the player gets a question wrong. \");\n",
    "         System.out.println(\"\\n\");\n",
    "         return;\n",
    "    } // END quizRules\n",
    "    \n",
    "\n",
    "    // Displays the user's answers to the questions of the quiz.\n",
    "    //\n",
    "    public static String userAnswers ()\n",
    "    {\n",
    "        Scanner scanner = new Scanner (System.in);\n",
    "        System.out.println(\"Your answer is : \");\n",
    "        return scanner.nextLine();\n",
    "    } // END userAnswers\n",
    "\n",
    "\n",
    "    // Checks if the player's answer is correct and returns true or false depending on the answer.\n",
    "    //\n",
    "    public static boolean quizMarking (String userAnswer, String correctAnswer)\n",
    "    {\n",
    "        return userAnswer.equals(correctAnswer);\n",
    "     \n",
    "    } // END quizMarking\n",
    "\n",
    "    \n",
    "} // END class Quiz\n"
   ]
  },
  {
   "cell_type": "code",
   "execution_count": 2,
   "metadata": {},
   "outputs": [
    {
     "name": "stdout",
     "output_type": "stream",
     "text": [
      "Choose which set of questions you would like to answer: \n",
      "1. Default Questions\n",
      "2. Questions loaded from a file\n",
      "3. Create a new set of questions\n"
     ]
    },
    {
     "name": "stdin",
     "output_type": "stream",
     "text": [
      " 2\n"
     ]
    },
    {
     "name": "stdout",
     "output_type": "stream",
     "text": [
      "Enter File Name: \n"
     ]
    },
    {
     "name": "stdin",
     "output_type": "stream",
     "text": [
      " question.txt\n"
     ]
    },
    {
     "name": "stdout",
     "output_type": "stream",
     "text": [
      "A quiz will be created from the first 3 questions\n",
      "Loaded Questions:\n",
      "Question 0 what is the largest planet in the solar system?\n",
      "Question 1 What is the closest planet to the sun?\n",
      "Question 2 how many planets are there in the solar system?\n",
      "Player 1\n",
      "The following are the rules of the quiz: \n",
      "1. The first question is worth 1 point.\n",
      "2. For each question the player gets right the points increase for the next question.\n",
      "3. The points are dropped back to 1 point each if the player gets a question wrong. \n",
      "\n",
      "\n",
      "The next question is worth 1 point[s] \n",
      "what is the largest planet in the solar system?\n",
      "\n",
      "\n",
      "Your answer is : \n"
     ]
    },
    {
     "name": "stdin",
     "output_type": "stream",
     "text": [
      " Jupiter\n"
     ]
    },
    {
     "name": "stdout",
     "output_type": "stream",
     "text": [
      "Your answer is correct\n",
      "The next question is worth 2 point[s] \n",
      "What is the closest planet to the sun?\n",
      "\n",
      "\n",
      "Your answer is : \n"
     ]
    },
    {
     "name": "stdin",
     "output_type": "stream",
     "text": [
      " Mercury\n"
     ]
    },
    {
     "name": "stdout",
     "output_type": "stream",
     "text": [
      "Your answer is correct\n",
      "The next question is worth 3 point[s] \n",
      "how many planets are there in the solar system?\n",
      "\n",
      "\n",
      "Your answer is : \n"
     ]
    },
    {
     "name": "stdin",
     "output_type": "stream",
     "text": [
      " 8\n"
     ]
    },
    {
     "name": "stdout",
     "output_type": "stream",
     "text": [
      "Your answer is correct\n",
      "\n",
      "\n",
      "Player 1's final score is 6\n",
      "\n",
      "\n",
      "Player 2\n",
      "The following are the rules of the quiz: \n",
      "1. The first question is worth 1 point.\n",
      "2. For each question the player gets right the points increase for the next question.\n",
      "3. The points are dropped back to 1 point each if the player gets a question wrong. \n",
      "\n",
      "\n",
      "The next question is worth 1 point[s] \n",
      "what is the largest planet in the solar system?\n",
      "\n",
      "\n",
      "Your answer is : \n"
     ]
    },
    {
     "name": "stdin",
     "output_type": "stream",
     "text": [
      " sds\n"
     ]
    },
    {
     "name": "stdout",
     "output_type": "stream",
     "text": [
      "Incorrect. The correct answer is Jupiter\n",
      "The next question is worth 1 point[s] \n",
      "What is the closest planet to the sun?\n",
      "\n",
      "\n",
      "Your answer is : \n"
     ]
    },
    {
     "name": "stdin",
     "output_type": "stream",
     "text": [
      " sds\n"
     ]
    },
    {
     "name": "stdout",
     "output_type": "stream",
     "text": [
      "Incorrect. The correct answer is Mercury\n",
      "The next question is worth 1 point[s] \n",
      "how many planets are there in the solar system?\n",
      "\n",
      "\n",
      "Your answer is : \n"
     ]
    },
    {
     "name": "stdin",
     "output_type": "stream",
     "text": [
      " sds\n"
     ]
    },
    {
     "name": "stdout",
     "output_type": "stream",
     "text": [
      "Incorrect. The correct answer is 8\n",
      "\n",
      "\n",
      "Player 2's final score is 0\n",
      "\n",
      "\n",
      "Player 3\n",
      "The following are the rules of the quiz: \n",
      "1. The first question is worth 1 point.\n",
      "2. For each question the player gets right the points increase for the next question.\n",
      "3. The points are dropped back to 1 point each if the player gets a question wrong. \n",
      "\n",
      "\n",
      "The next question is worth 1 point[s] \n",
      "what is the largest planet in the solar system?\n",
      "\n",
      "\n",
      "Your answer is : \n"
     ]
    },
    {
     "name": "stdin",
     "output_type": "stream",
     "text": [
      " sd\n"
     ]
    },
    {
     "name": "stdout",
     "output_type": "stream",
     "text": [
      "Incorrect. The correct answer is Jupiter\n",
      "The next question is worth 1 point[s] \n",
      "What is the closest planet to the sun?\n",
      "\n",
      "\n",
      "Your answer is : \n"
     ]
    },
    {
     "name": "stdin",
     "output_type": "stream",
     "text": [
      " sds\n"
     ]
    },
    {
     "name": "stdout",
     "output_type": "stream",
     "text": [
      "Incorrect. The correct answer is Mercury\n",
      "The next question is worth 1 point[s] \n",
      "how many planets are there in the solar system?\n",
      "\n",
      "\n",
      "Your answer is : \n"
     ]
    },
    {
     "name": "stdin",
     "output_type": "stream",
     "text": [
      " sds\n"
     ]
    },
    {
     "name": "stdout",
     "output_type": "stream",
     "text": [
      "Incorrect. The correct answer is 8\n",
      "\n",
      "\n",
      "Player 3's final score is 0\n",
      "\n",
      "\n"
     ]
    }
   ],
   "source": [
    "Quiz.main(null);"
   ]
  },
  {
   "cell_type": "markdown",
   "metadata": {},
   "source": [
    "**END OF LITERATE DOCUMENT**"
   ]
  }
 ],
 "metadata": {
  "kernelspec": {
   "display_name": "Java",
   "language": "java",
   "name": "java"
  },
  "language_info": {
   "codemirror_mode": "java",
   "file_extension": ".jshell",
   "mimetype": "text/x-java-source",
   "name": "Java",
   "pygments_lexer": "java",
   "version": "11.0.8+10-LTS"
  }
 },
 "nbformat": 4,
 "nbformat_minor": 4
}
