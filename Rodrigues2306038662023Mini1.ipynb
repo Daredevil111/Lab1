{
 "cells": [
  {
   "cell_type": "markdown",
   "metadata": {},
   "source": [
    "# Miniproject Assessed Exercise\n",
    "# Level  1\n",
    "## Hansel Rodrigues\n",
    "## Student ID: 230603866\n",
    "## Version 1 (3 October 2023)\n",
    "\n",
    "\n"
   ]
  },
  {
   "cell_type": "markdown",
   "metadata": {},
   "source": [
    "## Summary of the Question \n",
    "\n",
    "Write a short answer quiz program.\n"
   ]
  },
  {
   "cell_type": "markdown",
   "metadata": {},
   "source": [
    "## Justification that the program passes this level\n",
    "This is based on tick boxes at start of the question description for miniproject program level 1\n",
    "- I can EXPLAIN HOW MY PROGRAM WORKS\n",
    "- I wrote this program myself\n",
    "- My program compiles and runs in JHUB\n",
    "- My program screen output and keyboard input\n",
    "    - in whatsYourName\n",
    "- My program includes methods doing a well-defined task and uses a sequence of method calls\n",
    "    - chattyHello and whatsYourName\n",
    "- My program include simple comments including my name, student number and date\n",
    "- I have written a literate version of the code\n",
    "    - documenting each method\n",
    "    - including a test plan for each method\n",
    "    - included a test plan for the whole program\n",
    "    - included a full version of the program at the end"
   ]
  },
  {
   "cell_type": "markdown",
   "metadata": {},
   "source": [
    "## The literate program development"
   ]
  },
  {
   "cell_type": "markdown",
   "metadata": {},
   "source": [
    "## quizRules\n",
    "\n",
    "#### What it does\n",
    "This method prints the rules of the quiz.\n",
    "\n",
    "#### Implementation (how it works)\n",
    "It is just a series of simple print statements."
   ]
  },
  {
   "cell_type": "code",
   "execution_count": 1,
   "metadata": {},
   "outputs": [],
   "source": [
    "// Print a chatbot hello message\n",
    "//\n",
    "public static void quizRules ()\n",
    "{\n",
    "     System.out.println(\"The following are the rules of the quiz: \");\n",
    "     System.out.println(\"1. The first question is worth 1 point.\");\n",
    "     System.out.println(\"2. For each question the player gets right the points increase for the next question.\");\n",
    "     System.out.println(\"3. The points are dropped back to 1 point each if the player gets a question wrong. \");\n",
    "    \n",
    "     return;\n",
    "} // END quizRules"
   ]
  },
  {
   "cell_type": "markdown",
   "metadata": {},
   "source": [
    "#### Testing"
   ]
  },
  {
   "cell_type": "code",
   "execution_count": 2,
   "metadata": {},
   "outputs": [
    {
     "name": "stdout",
     "output_type": "stream",
     "text": [
      "The following are the rules of the quiz: \n",
      "1. The first question is worth 1 point.\n",
      "2. For each question the player gets right the points increase for the next question.\n",
      "3. The points are dropped back to 1 point each if the player gets a question wrong. \n"
     ]
    }
   ],
   "source": [
    "quizRules ();"
   ]
  },
  {
   "cell_type": "markdown",
   "metadata": {},
   "source": [
    "### quizQuestions\n",
    "\n",
    "#### What it does\n",
    "This method asks the users questions \n",
    "\n",
    "#### Implementation (how it works)\n",
    "It uses a scanner to do input, reads in a single line of input and stores it in variable name to be printed later.\n"
   ]
  },
  {
   "cell_type": "code",
   "execution_count": 18,
   "metadata": {},
   "outputs": [],
   "source": [
    "// Asks the users name then greets them by name\n",
    "//\n",
    "public static void quizQuestions ()\n",
    "{\n",
    "     String response;\n",
    "     Scanner scanner = new Scanner(System.in);\n",
    "     System.out.println(\"What is the most spoken language in the world?\");\n",
    "     response = scanner.nextLine();\n",
    "     System.out.println(\"The correct answer is English\");\n",
    "     return;\n",
    "} // END quizQuestions"
   ]
  },
  {
   "cell_type": "markdown",
   "metadata": {},
   "source": [
    "#### Testing"
   ]
  },
  {
   "cell_type": "code",
   "execution_count": 25,
   "metadata": {},
   "outputs": [
    {
     "name": "stdout",
     "output_type": "stream",
     "text": [
      "What is the most spoken language in the world?\n"
     ]
    },
    {
     "name": "stdin",
     "output_type": "stream",
     "text": [
      " English\n"
     ]
    },
    {
     "name": "stdout",
     "output_type": "stream",
     "text": [
      "The correct answer is English\n"
     ]
    }
   ],
   "source": [
    "quizQuestions ();"
   ]
  },
  {
   "cell_type": "markdown",
   "metadata": {},
   "source": [
    "### startQuiz \n",
    "\n",
    "#### What it does\n",
    "This method starts the quiz by displaying the quiz rules and the asking the quiz questions.\n",
    "\n",
    "#### Implementation (how it works)\n",
    "It first calls quiz rules and then quiz questions.\n"
   ]
  },
  {
   "cell_type": "code",
   "execution_count": 16,
   "metadata": {},
   "outputs": [],
   "source": [
    "// starts the quiz\n",
    "//\n",
    "public static void startQuiz ()\n",
    "{\n",
    "     quizRules();\n",
    "     quizQuestions();\n",
    "     return;\n",
    "} // END ChatbotLevel1\n"
   ]
  },
  {
   "cell_type": "markdown",
   "metadata": {},
   "source": [
    "#### Testing"
   ]
  },
  {
   "cell_type": "code",
   "execution_count": 17,
   "metadata": {},
   "outputs": [
    {
     "name": "stdout",
     "output_type": "stream",
     "text": [
      "The following are the rules of the quiz: \n",
      "1. The first question is worth 1 point.\n",
      "2. For each question the player gets right the points increase for the next question.\n",
      "3. The points are dropped back to 1 point each if the player gets a question wrong. \n",
      "What is the most spoken language in the world?\n"
     ]
    },
    {
     "name": "stdin",
     "output_type": "stream",
     "text": [
      " English\n"
     ]
    }
   ],
   "source": [
    "startQuiz ();"
   ]
  },
  {
   "cell_type": "markdown",
   "metadata": {},
   "source": [
    "### Running the program\n",
    "Run the following call to simulate running the complete program."
   ]
  },
  {
   "cell_type": "code",
   "execution_count": null,
   "metadata": {},
   "outputs": [],
   "source": [
    "ChatbotLevel1 ();"
   ]
  },
  {
   "cell_type": "markdown",
   "metadata": {},
   "source": [
    "## The complete program \n",
    "This version will only compile here. To run it copy it into a file called initials.java on your local computer and compile and run it there."
   ]
  },
  {
   "cell_type": "code",
   "execution_count": 26,
   "metadata": {},
   "outputs": [],
   "source": [
    "/* **********************\n",
    "  @author    Hansel Rodrigues\n",
    "  @SID       230603866\n",
    "  @date      26 September 2023\n",
    "  @version   1\n",
    "\n",
    "    Miniproject Level 1\n",
    "    A short answer quiz .\n",
    "   ****************************************/\n",
    "\n",
    "class Quiz\n",
    "{\n",
    "    public static void main (String [] a)\n",
    "    {\n",
    "        startQuiz();\n",
    "        return;\n",
    "    } // END main\n",
    "    \n",
    "    // Prints the rules of the quiz.\n",
    "\n",
    "    public static void quizRules ()\n",
    "    {\n",
    "         System.out.println(\"The following are the rules of the quiz: \");\n",
    "         System.out.println(\"1. The first question is worth 1 point.\");\n",
    "         System.out.println(\"2. For each question the player gets right the points increase for the next question.\");\n",
    "         System.out.println(\"3. The points are dropped back to 1 point each if the player gets a question wrong. \");\n",
    "    \n",
    "         return;\n",
    "    } // END quizRules\n",
    "    \n",
    "    \n",
    "    // Asks the user questions\n",
    "\n",
    "    public static void quizQuestions ()\n",
    "    {\n",
    "         String response;\n",
    "         Scanner scanner = new Scanner(System.in);\n",
    "         System.out.println(\"What is the most spoken language in the world?\");\n",
    "         response = scanner.nextLine();\n",
    "         System.out.println(\"The correct answer is English\");\n",
    "         return;\n",
    "   } // END quizQuestions\n",
    "    \n",
    "    \n",
    "    // starts the quiz  \n",
    "    public static void startQuiz ()\n",
    "    {\n",
    "         quizRules();\n",
    "         quizQuestions();\n",
    "         return;\n",
    "    } // END startQuiz\n",
    "\n",
    "} // END class Quiz\n"
   ]
  },
  {
   "cell_type": "code",
   "execution_count": 27,
   "metadata": {},
   "outputs": [
    {
     "name": "stdout",
     "output_type": "stream",
     "text": [
      "The following are the rules of the quiz: \n",
      "1. The first question is worth 1 point.\n",
      "2. For each question the player gets right the points increase for the next question.\n",
      "3. The points are dropped back to 1 point each if the player gets a question wrong. \n",
      "What is the most spoken language in the world?\n"
     ]
    },
    {
     "name": "stdin",
     "output_type": "stream",
     "text": [
      " English\n"
     ]
    },
    {
     "name": "stdout",
     "output_type": "stream",
     "text": [
      "The correct answer is English\n"
     ]
    }
   ],
   "source": [
    "Quiz.main(null);"
   ]
  },
  {
   "cell_type": "markdown",
   "metadata": {},
   "source": [
    "**END OF LITERATE DOCUMENT**"
   ]
  }
 ],
 "metadata": {
  "kernelspec": {
   "display_name": "Java",
   "language": "java",
   "name": "java"
  },
  "language_info": {
   "codemirror_mode": "java",
   "file_extension": ".jshell",
   "mimetype": "text/x-java-source",
   "name": "Java",
   "pygments_lexer": "java",
   "version": "11.0.8+10-LTS"
  }
 },
 "nbformat": 4,
 "nbformat_minor": 4
}
