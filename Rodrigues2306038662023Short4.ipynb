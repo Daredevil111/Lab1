{
 "cells": [
  {
   "cell_type": "markdown",
   "metadata": {},
   "source": [
    "# Short Assessed Exercise\n",
    "# Level  4\n",
    "## Hansel Rodrigues\n",
    "## Student ID: 230603866\n",
    "## Version 1 (17 October 2023)\n",
    "\n"
   ]
  },
  {
   "cell_type": "markdown",
   "metadata": {},
   "source": [
    "## Summary of the Question \n",
    "\n",
    "Write a program that ...\n",
    "\n",
    "The program MUST be structured as a series of methods where the first method calls a series of others in turn. They will either get values and return results back to the first method, or take arguments and return calculated results or take arguments and print results. \n",
    "\n",
    "The first method uses the returned values to pass arguments to the next method."
   ]
  },
  {
   "cell_type": "markdown",
   "metadata": {},
   "source": [
    "## Justification that the program passes this level\n",
    "This is based on tick boxes at start of the question description for short program level 2\n",
    "I can \n",
    "- Write a literate version of the code.\n",
    "- EXPLAIN HOW YOUR PROGRAM WORKS \n",
    "- Use input instructions\n",
    "- Use assignment and variables\n",
    "- Use final variables to store literal values rather than values appearing through the code.\n",
    "- Define all variables inside methods\n",
    "- Use arithmetic expressions\n",
    "- Split code in to methods at least one of which takes arguments and returns a result\n",
    "- Make simple use of comments – at least the author’s name, student number and date and an explanation of what the program does overall"
   ]
  },
  {
   "cell_type": "markdown",
   "metadata": {},
   "source": [
    "## The literate program development"
   ]
  },
  {
   "cell_type": "markdown",
   "metadata": {},
   "source": [
    "### waterSamples\n",
    "\n",
    "#### What it does\n",
    "This method asks the user for 5 samples and outputs the highest value, average value and whether the water quality is good, sufficient or poor. \n",
    "\n",
    "#### Implementation (how it works)\n",
    "The for loop runs for 5 times and therefore asks the user for 5 samples. The highest level of pollution is then calculated by comparing each user input by the following user input (each water sample) and then if the new water sample has a higher value than the existing one, the new water sample becomes the highest level of pollution until 5 loops are complete or another water sample exceeds its current value. The average is calculated through another method and the water quality is checked through if conditions to determine if the quality is good, sufficient or poor.Lastly, all the necessary outputs are printed using print statements (average pollution, highest level of pollution and water quality) .\n",
    "\n",
    "\n"
   ]
  },
  {
   "cell_type": "code",
   "execution_count": 26,
   "metadata": {},
   "outputs": [],
   "source": [
    "// Method to calculate the average pollution, highest level of pollution and water quality using for loop and if conditions.\n",
    "public static void waterSamples ()\n",
    "    {\n",
    "        final int no_of_samples = 5;\n",
    "        int highestLevelOfPollution = 0;\n",
    "        int totalLevelOfPollution = 0;\n",
    "        final int good = 200;\n",
    "        final int sufficient = 400;\n",
    "    \n",
    "        Scanner scanner = new Scanner(System.in);\n",
    "        for (int i=1; i<=no_of_samples; i++)\n",
    "        {\n",
    "            System.out.println(\"Sample \" + i + \": What was the water quality measurement in CFU/ml?\");\n",
    "            int water_sample = scanner.nextInt();\n",
    "            totalLevelOfPollution = totalLevelOfPollution + water_sample;\n",
    "            if (water_sample > highestLevelOfPollution)\n",
    "                {\n",
    "                    highestLevelOfPollution = water_sample;\n",
    "                }\n",
    "        }\n",
    "        int average_pollution = averagePollution (totalLevelOfPollution, no_of_samples);\n",
    "        System.out.println(\"The worst water quality today was \" +  highestLevelOfPollution + \" CFU/ml.\");\n",
    "        System.out.println(\"The average water quality today was \" +  average_pollution + \" CFU/ml.\");\n",
    "        if (highestLevelOfPollution <= good)\n",
    "        {\n",
    "            System.out.println (\"The water quality is GOOD today.\");\n",
    "        \n",
    "        }\n",
    "        else if (highestLevelOfPollution <= sufficient)\n",
    "        {\n",
    "            System.out.println (\"The water quality is SUFFICIENT today.\");\n",
    "        \n",
    "        }\n",
    "        else\n",
    "        {\n",
    "           System.out.println (\"The water quality is POOR today.\"); \n",
    "        }\n",
    "            \n",
    "        \n",
    "       \n",
    "        \n",
    "        return;\n",
    "        \n",
    "    } //END waterSamples\n"
   ]
  },
  {
   "cell_type": "markdown",
   "metadata": {},
   "source": [
    "#### Testing"
   ]
  },
  {
   "cell_type": "code",
   "execution_count": 27,
   "metadata": {},
   "outputs": [
    {
     "name": "stdout",
     "output_type": "stream",
     "text": [
      "Sample 1: What was the water quality measurement in CFU/ml?\n"
     ]
    },
    {
     "name": "stdin",
     "output_type": "stream",
     "text": [
      " 1\n"
     ]
    },
    {
     "name": "stdout",
     "output_type": "stream",
     "text": [
      "Sample 2: What was the water quality measurement in CFU/ml?\n"
     ]
    },
    {
     "name": "stdin",
     "output_type": "stream",
     "text": [
      " 2\n"
     ]
    },
    {
     "name": "stdout",
     "output_type": "stream",
     "text": [
      "Sample 3: What was the water quality measurement in CFU/ml?\n"
     ]
    },
    {
     "name": "stdin",
     "output_type": "stream",
     "text": [
      " 3\n"
     ]
    },
    {
     "name": "stdout",
     "output_type": "stream",
     "text": [
      "Sample 4: What was the water quality measurement in CFU/ml?\n"
     ]
    },
    {
     "name": "stdin",
     "output_type": "stream",
     "text": [
      " 4\n"
     ]
    },
    {
     "name": "stdout",
     "output_type": "stream",
     "text": [
      "Sample 5: What was the water quality measurement in CFU/ml?\n"
     ]
    },
    {
     "name": "stdin",
     "output_type": "stream",
     "text": [
      " 5\n"
     ]
    },
    {
     "name": "stdout",
     "output_type": "stream",
     "text": [
      "The worst water quality today was 5 CFU/ml.\n",
      "The average water quality today was 3 CFU/ml.\n",
      "The water quality is GOOD today.\n"
     ]
    }
   ],
   "source": [
    "waterSamples ();"
   ]
  },
  {
   "cell_type": "markdown",
   "metadata": {},
   "source": [
    "### cmmInInch\n",
    "\n",
    "#### What it does\n",
    "This method always returns the number 2.5 - the number of cm in an inch.\n",
    "\n",
    "#### Implementation (how it works)\n",
    "It just returns the number 2.5 stored in a final as CM_IN_INCH to show what it means. It prints a message just to show it is running.\n",
    "\n",
    "\n",
    "Your methods for the short assessed exercise will do more than just return the same value \n",
    "- e.g., do input to get the value returned.\n"
   ]
  },
  {
   "cell_type": "code",
   "execution_count": 28,
   "metadata": {},
   "outputs": [],
   "source": [
    "// A method to calculate the average pollution and round the number to the nearest integer.\n",
    "\n",
    "public static int averagePollution (int total, int no_of_readings)\n",
    "{\n",
    "   return Math.round (total / no_of_readings);\n",
    "    \n",
    "} //END averagePollution"
   ]
  },
  {
   "cell_type": "markdown",
   "metadata": {},
   "source": [
    "#### Testing"
   ]
  },
  {
   "cell_type": "code",
   "execution_count": 29,
   "metadata": {},
   "outputs": [
    {
     "name": "stdout",
     "output_type": "stream",
     "text": [
      "9\n"
     ]
    }
   ],
   "source": [
    "int test1 = averagePollution (48, 5); \n",
    "System.out.println(test1);"
   ]
  },
  {
   "cell_type": "markdown",
   "metadata": {},
   "source": [
    "### Running the program\n",
    "Run the following call to simulate running the complete program."
   ]
  },
  {
   "cell_type": "code",
   "execution_count": 30,
   "metadata": {},
   "outputs": [
    {
     "name": "stdout",
     "output_type": "stream",
     "text": [
      "Sample 1: What was the water quality measurement in CFU/ml?\n"
     ]
    },
    {
     "name": "stdin",
     "output_type": "stream",
     "text": [
      " 1\n"
     ]
    },
    {
     "name": "stdout",
     "output_type": "stream",
     "text": [
      "Sample 2: What was the water quality measurement in CFU/ml?\n"
     ]
    },
    {
     "name": "stdin",
     "output_type": "stream",
     "text": [
      " 2\n"
     ]
    },
    {
     "name": "stdout",
     "output_type": "stream",
     "text": [
      "Sample 3: What was the water quality measurement in CFU/ml?\n"
     ]
    },
    {
     "name": "stdin",
     "output_type": "stream",
     "text": [
      " 3\n"
     ]
    },
    {
     "name": "stdout",
     "output_type": "stream",
     "text": [
      "Sample 4: What was the water quality measurement in CFU/ml?\n"
     ]
    },
    {
     "name": "stdin",
     "output_type": "stream",
     "text": [
      " 4\n"
     ]
    },
    {
     "name": "stdout",
     "output_type": "stream",
     "text": [
      "Sample 5: What was the water quality measurement in CFU/ml?\n"
     ]
    },
    {
     "name": "stdin",
     "output_type": "stream",
     "text": [
      " 5\n"
     ]
    },
    {
     "name": "stdout",
     "output_type": "stream",
     "text": [
      "The worst water quality today was 5 CFU/ml.\n",
      "The average water quality today was 3 CFU/ml.\n",
      "The water quality is GOOD today.\n"
     ]
    }
   ],
   "source": [
    "waterSamples ();"
   ]
  },
  {
   "cell_type": "markdown",
   "metadata": {},
   "source": [
    "## The complete program \n",
    "This version will only compile here. To run it copy it into a file called initials.java on your local computer and compile and run it there."
   ]
  },
  {
   "cell_type": "code",
   "execution_count": 1,
   "metadata": {},
   "outputs": [],
   "source": [
    "/* **********************\n",
    "  @author    Hansel Rodrigues\n",
    "  @SID       230603866\n",
    "  @date      17 September 2023\n",
    "  @version   1\n",
    "\n",
    "    This is a  program that calculates the level of pollution in rivers.\n",
    "   ********************/\n",
    "\n",
    "class waterPollution\n",
    "{\n",
    "    public static void main (String [] a)\n",
    "    {\n",
    "        waterSamples();\n",
    "        return;\n",
    "    } // END main\n",
    "    // Method to calculate the average pollution, highest level of pollution and water quality using for loop and if conditions.\n",
    "    public static void waterSamples ()\n",
    "    {\n",
    "        final int no_of_samples = 5;\n",
    "        int highestLevelOfPollution = 0;\n",
    "        int totalLevelOfPollution = 0;\n",
    "        final int good = 200;\n",
    "        final int sufficient = 400;\n",
    "    \n",
    "        Scanner scanner = new Scanner(System.in);\n",
    "        for (int i=1; i<=no_of_samples; i++)\n",
    "        {\n",
    "            System.out.println(\"Sample \" + i + \": What was the water quality measurement in CFU/ml?\");\n",
    "            int water_sample = scanner.nextInt();\n",
    "            totalLevelOfPollution = totalLevelOfPollution + water_sample;\n",
    "            if (water_sample > highestLevelOfPollution)\n",
    "                {\n",
    "                    highestLevelOfPollution = water_sample;\n",
    "                }\n",
    "        }\n",
    "        int average_pollution = averagePollution (totalLevelOfPollution, no_of_samples);\n",
    "        System.out.println(\"The worst water quality today was \" +  highestLevelOfPollution + \" CFU/ml.\");\n",
    "        System.out.println(\"The average water quality today was \" +  average_pollution + \" CFU/ml.\");\n",
    "        if (highestLevelOfPollution <= good)\n",
    "        {\n",
    "            System.out.println (\"The water quality is GOOD today.\");\n",
    "        \n",
    "        }\n",
    "        else if (highestLevelOfPollution <= sufficient)\n",
    "        {\n",
    "            System.out.println (\"The water quality is SUFFICIENT today.\");\n",
    "        \n",
    "        }\n",
    "        else\n",
    "        {\n",
    "           System.out.println (\"The water quality is POOR today.\"); \n",
    "        }\n",
    "            \n",
    "        \n",
    "       \n",
    "        \n",
    "        return;\n",
    "        \n",
    "    } //END waterSamples\n",
    "\n",
    "    // A method to calculate the average pollution and round the number to the nearest integer.\n",
    "\n",
    "    public static int averagePollution (int total, int no_of_readings)\n",
    "    {\n",
    "       return Math.round (total / no_of_readings);\n",
    "    \n",
    "    } //END averagePollution\n",
    "\n",
    "\n",
    "    \n",
    "    \n",
    "} // END class waterPollution\n"
   ]
  },
  {
   "cell_type": "code",
   "execution_count": 2,
   "metadata": {},
   "outputs": [
    {
     "name": "stdout",
     "output_type": "stream",
     "text": [
      "Sample 1: What was the water quality measurement in CFU/ml?\n"
     ]
    },
    {
     "name": "stdin",
     "output_type": "stream",
     "text": [
      " 130\n"
     ]
    },
    {
     "name": "stdout",
     "output_type": "stream",
     "text": [
      "Sample 2: What was the water quality measurement in CFU/ml?\n"
     ]
    },
    {
     "name": "stdin",
     "output_type": "stream",
     "text": [
      " 225\n"
     ]
    },
    {
     "name": "stdout",
     "output_type": "stream",
     "text": [
      "Sample 3: What was the water quality measurement in CFU/ml?\n"
     ]
    },
    {
     "name": "stdin",
     "output_type": "stream",
     "text": [
      " 330\n"
     ]
    },
    {
     "name": "stdout",
     "output_type": "stream",
     "text": [
      "Sample 4: What was the water quality measurement in CFU/ml?\n"
     ]
    },
    {
     "name": "stdin",
     "output_type": "stream",
     "text": [
      " 111\n"
     ]
    },
    {
     "name": "stdout",
     "output_type": "stream",
     "text": [
      "Sample 5: What was the water quality measurement in CFU/ml?\n"
     ]
    },
    {
     "name": "stdin",
     "output_type": "stream",
     "text": [
      " 92\n"
     ]
    },
    {
     "name": "stdout",
     "output_type": "stream",
     "text": [
      "The worst water quality today was 330 CFU/ml.\n",
      "The average water quality today was 177 CFU/ml.\n",
      "The water quality is SUFFICIENT today.\n"
     ]
    }
   ],
   "source": [
    "waterPollution.main(null);"
   ]
  },
  {
   "cell_type": "markdown",
   "metadata": {},
   "source": [
    "**END OF LITERATE DOCUMENT**"
   ]
  }
 ],
 "metadata": {
  "kernelspec": {
   "display_name": "Java",
   "language": "java",
   "name": "java"
  },
  "language_info": {
   "codemirror_mode": "java",
   "file_extension": ".jshell",
   "mimetype": "text/x-java-source",
   "name": "Java",
   "pygments_lexer": "java",
   "version": "11.0.8+10-LTS"
  }
 },
 "nbformat": 4,
 "nbformat_minor": 4
}
