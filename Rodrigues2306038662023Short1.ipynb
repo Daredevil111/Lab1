{
 "cells": [
  {
   "cell_type": "markdown",
   "metadata": {},
   "source": [
    "# Short Assessed Exercise\n",
    "# Level  1\n",
    "## Hansel Rodrigues\n",
    "## Student ID: 230603866\n",
    "## Version 4 (26 September 2023)\n",
    "- Added an explanation of what a literate program for a short exercise should look like\n",
    "- Added return to main method in final program\n",
    "- Added justification that it passes\n",
    "- Matched new style guide\n",
    "\n",
    "\n",
    "\n"
   ]
  },
  {
   "cell_type": "markdown",
   "metadata": {},
   "source": [
    "## Summary of the Question \n",
    "\n",
    "Write a program to print out your initials down the page in block letters using the same letter to draw it out of. A blank line should separate the initials. Each initial should be printed by a separate method. For example, my initials are HR. My program should therefore print:\n",
    "```\n",
    "H      H\n",
    "H      H\n",
    "H      H\n",
    "HHHHHHHH\n",
    "H      H\n",
    "H      H\n",
    "H      H\n",
    "\n",
    "\n",
    "RRRRRR\n",
    "R    R\n",
    "RRRRRR \n",
    "R R\n",
    "R   R\n",
    "R     R\n",
    "\n",
    "\n",
    "```"
   ]
  },
  {
   "cell_type": "markdown",
   "metadata": {},
   "source": [
    "## Justification that the program passes this level\n",
    "This is based on tick boxes at start of the question description for short program level 1\n",
    "- I can EXPLAIN HOW MY PROGRAM WORKS\n",
    "- I wrote this program myself\n",
    "- My program compiles and runs in JHUB\n",
    "- My program uses output instructions\n",
    "- My program is split into to methods\n",
    "- My program include simple comments including my name, student number and date\n",
    "- I have written a literate version of the code\n",
    "    - documenting each method\n",
    "    - including a test plan for each method\n",
    "    - included a test plan for the whole program\n",
    "    - included a full version of the program at the end\n",
    "\n"
   ]
  },
  {
   "cell_type": "markdown",
   "metadata": {},
   "source": [
    "## The literate program development"
   ]
  },
  {
   "cell_type": "markdown",
   "metadata": {},
   "source": [
    "### letterH\n",
    "\n",
    "#### What it does\n",
    "This method prints a large letter H made out of small letter H's ending with a blank line.\n",
    "\n",
    "#### Implementation (how it works)\n",
    "It prints each row of small letter Hs in turn. For example, the top of the H is made of 6 H characters in a row as the big letter is 6 characters wide.\n"
   ]
  },
  {
   "cell_type": "code",
   "execution_count": 43,
   "metadata": {
    "scrolled": true
   },
   "outputs": [],
   "source": [
    "//this prints a large letter H using H characters\n",
    "    \n",
    "public static void letterH ()\n",
    "{\n",
    "    System.out.println(\"H       H\");\n",
    "    System.out.println(\"H       H\");\n",
    "    System.out.println(\"H       H\");\n",
    "    System.out.println(\"HHHHHHHHH\");\n",
    "    System.out.println(\"H       H\");\n",
    "    System.out.println(\"H       H\");\n",
    "    System.out.println(\"H       H\");\n",
    "    System.out.println();\n",
    "    return;\n",
    "        \n",
    "} //END letterH"
   ]
  },
  {
   "cell_type": "markdown",
   "metadata": {},
   "source": [
    "#### Testing"
   ]
  },
  {
   "cell_type": "code",
   "execution_count": 44,
   "metadata": {},
   "outputs": [
    {
     "name": "stdout",
     "output_type": "stream",
     "text": [
      "H       H\n",
      "H       H\n",
      "H       H\n",
      "HHHHHHHHH\n",
      "H       H\n",
      "H       H\n",
      "H       H\n",
      "\n"
     ]
    }
   ],
   "source": [
    "letterH ();"
   ]
  },
  {
   "cell_type": "markdown",
   "metadata": {},
   "source": [
    "### letterR\n",
    "\n",
    "#### What it does\n",
    "This method prints a large letter R made out of small letter R's\n",
    "\n",
    "#### Implementation (how it works)\n",
    "It prints each row of small letter Rs in turn. For example, the top of the R is made of 6 R characters in a row as the big letter is 6 characters wide.\n"
   ]
  },
  {
   "cell_type": "code",
   "execution_count": 34,
   "metadata": {},
   "outputs": [],
   "source": [
    "//this prints a large letter R using R characters\n",
    "    \n",
    "public static void letterR ()\n",
    "{\n",
    "    System.out.println(\"RRRRRR\");\n",
    "    System.out.println(\"R    R\");\n",
    "    System.out.println(\"R    R\");\n",
    "    System.out.println(\"RRRRRR\");\n",
    "    System.out.println(\"R R\");\n",
    "    System.out.println(\"R  R\");\n",
    "    System.out.println(\"R   R\");\n",
    "    System.out.println(\"R    R\");\n",
    "    System.out.println(\"R     R\");\n",
    "    \n",
    "    System.out.println();\n",
    "    return;\n",
    "        \n",
    "}  //END letterR"
   ]
  },
  {
   "cell_type": "markdown",
   "metadata": {},
   "source": [
    "#### Testing"
   ]
  },
  {
   "cell_type": "code",
   "execution_count": 45,
   "metadata": {},
   "outputs": [
    {
     "name": "stdout",
     "output_type": "stream",
     "text": [
      "RRRRRR\n",
      "R    R\n",
      "R    R\n",
      "RRRRRR\n",
      "RR\n",
      "R R\n",
      "R  R\n",
      "R   R\n",
      "R    R\n",
      "R     R\n",
      "\n"
     ]
    }
   ],
   "source": [
    "letterR ();"
   ]
  },
  {
   "cell_type": "markdown",
   "metadata": {},
   "source": [
    "### letterHR\n",
    "\n",
    "#### What it does\n",
    "This method prints a large letter H followed by a letter R below it\n",
    "\n",
    "#### Implementation (how it works)\n",
    "This just calls the individual method to print each separate letter in turn, first H then R. As they each finish by printing a blank line they will be separated by a blank line.\n"
   ]
  },
  {
   "cell_type": "code",
   "execution_count": 35,
   "metadata": {},
   "outputs": [],
   "source": [
    "// Print a large letter H followed by a letter R below it\n",
    "//\n",
    "public static void letterHR ()\n",
    "{\n",
    "    letterH ();\n",
    "    letterR ();\n",
    "    \n",
    "    return;\n",
    "\n",
    "} // END letterHR\n"
   ]
  },
  {
   "cell_type": "markdown",
   "metadata": {},
   "source": [
    "#### Testing"
   ]
  },
  {
   "cell_type": "code",
   "execution_count": 46,
   "metadata": {},
   "outputs": [
    {
     "name": "stdout",
     "output_type": "stream",
     "text": [
      "H       H\n",
      "H       H\n",
      "H       H\n",
      "HHHHHHHHH\n",
      "H       H\n",
      "H       H\n",
      "H       H\n",
      "\n",
      "RRRRRR\n",
      "R    R\n",
      "R    R\n",
      "RRRRRR\n",
      "RR\n",
      "R R\n",
      "R  R\n",
      "R   R\n",
      "R    R\n",
      "R     R\n",
      "\n"
     ]
    }
   ],
   "source": [
    "letterHR ();"
   ]
  },
  {
   "cell_type": "markdown",
   "metadata": {},
   "source": [
    "### Running the program\n",
    "Run the following call to simulate running the complete program."
   ]
  },
  {
   "cell_type": "code",
   "execution_count": 47,
   "metadata": {},
   "outputs": [
    {
     "name": "stdout",
     "output_type": "stream",
     "text": [
      "H       H\n",
      "H       H\n",
      "H       H\n",
      "HHHHHHHHH\n",
      "H       H\n",
      "H       H\n",
      "H       H\n",
      "\n",
      "RRRRRR\n",
      "R    R\n",
      "R    R\n",
      "RRRRRR\n",
      "RR\n",
      "R R\n",
      "R  R\n",
      "R   R\n",
      "R    R\n",
      "R     R\n",
      "\n"
     ]
    }
   ],
   "source": [
    "letterHR ();"
   ]
  },
  {
   "cell_type": "markdown",
   "metadata": {},
   "source": [
    "## The complete program \n",
    "This version will only compile here. To run it copy it into a file called initials.java on your local computer and compile and run it there."
   ]
  },
  {
   "cell_type": "code",
   "execution_count": 1,
   "metadata": {},
   "outputs": [],
   "source": [
    "/* **********************\n",
    "  @author    Hansel Rodrigues\n",
    "  @SID       230603866\n",
    "  @date      26 September 2023\n",
    "  @version   1\n",
    "\n",
    "    This is a  program that prints my initials (HR)\n",
    "    in big letters made out of small ones.\n",
    "   ********************/\n",
    "\n",
    "    public static void main ()\n",
    "    {\n",
    "        letterHR();\n",
    "        \n",
    "        return;\n",
    "        \n",
    "    } //END main\n",
    "    \n",
    "    //this prints a large letter H using H characters\n",
    "    \n",
    "    public static void letterH ()\n",
    "    {\n",
    "        System.out.println(\"H       H\");\n",
    "        System.out.println(\"H       H\");\n",
    "        System.out.println(\"H       H\");\n",
    "        System.out.println(\"HHHHHHHHH\");\n",
    "        System.out.println(\"H       H\");\n",
    "        System.out.println(\"H       H\");\n",
    "        System.out.println(\"H       H\");\n",
    "        System.out.println();\n",
    "        return;\n",
    "        \n",
    "    } //END letterH\n",
    "    \n",
    "    //this prints a large letter R using R characters\n",
    "    \n",
    "    public static void letterR ()\n",
    "    {\n",
    "        System.out.println(\"RRRRRR\");\n",
    "        System.out.println(\"R    R\");\n",
    "        System.out.println(\"R    R\");\n",
    "        System.out.println(\"RRRRRR\");\n",
    "        System.out.println(\"RR\");\n",
    "        System.out.println(\"R R\");\n",
    "        System.out.println(\"R  R\");\n",
    "        System.out.println(\"R   R\");\n",
    "        System.out.println(\"R    R\");\n",
    "        System.out.println(\"R     R\");\n",
    "        System.out.println();\n",
    "        return;\n",
    "        \n",
    "    }  //END letterR\n",
    "\n",
    "    public static void letterHR ()\n",
    "    {\n",
    "        letterH();\n",
    "        letterR();\n",
    "        return;\n",
    "        \n",
    "    } //END letterHR\n",
    "    \n",
    "\n",
    "    "
   ]
  },
  {
   "cell_type": "code",
   "execution_count": 2,
   "metadata": {},
   "outputs": [
    {
     "name": "stdout",
     "output_type": "stream",
     "text": [
      "H       H\n",
      "H       H\n",
      "H       H\n",
      "HHHHHHHHH\n",
      "H       H\n",
      "H       H\n",
      "H       H\n",
      "\n",
      "RRRRRR\n",
      "R    R\n",
      "R    R\n",
      "RRRRRR\n",
      "RR\n",
      "R R\n",
      "R  R\n",
      "R   R\n",
      "R    R\n",
      "R     R\n",
      "\n"
     ]
    }
   ],
   "source": [
    "main()"
   ]
  },
  {
   "cell_type": "markdown",
   "metadata": {},
   "source": [
    "**END OF LITERATE DOCUMENT**"
   ]
  }
 ],
 "metadata": {
  "kernelspec": {
   "display_name": "Java",
   "language": "java",
   "name": "java"
  },
  "language_info": {
   "codemirror_mode": "java",
   "file_extension": ".jshell",
   "mimetype": "text/x-java-source",
   "name": "Java",
   "pygments_lexer": "java",
   "version": "11.0.8+10-LTS"
  }
 },
 "nbformat": 4,
 "nbformat_minor": 4
}
