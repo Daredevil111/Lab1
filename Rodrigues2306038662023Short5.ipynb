{
 "cells": [
  {
   "cell_type": "markdown",
   "metadata": {},
   "source": [
    "# Short Assessed Exercise\n",
    "# Level  5\n",
    "## Hansel Rodrigues\n",
    "## Student ID: 230603866\n",
    "## Version 1 (31 October 2023)\n",
    "\n"
   ]
  },
  {
   "cell_type": "markdown",
   "metadata": {},
   "source": [
    "## Summary of the Question \n",
    "\n",
    "Write a program that ...\n",
    "\n",
    "The program MUST be structured as a series of methods where the first method calls a series of others in turn. They will either get values and return results back to the first method, or take arguments and return calculated results or take arguments and print results. \n",
    "\n",
    "The first method uses the returned values to pass arguments to the next method."
   ]
  },
  {
   "cell_type": "markdown",
   "metadata": {},
   "source": [
    "## Justification that the program passes this level\n",
    "This is based on tick boxes at start of the question description for short program level 2\n",
    "I can \n",
    "- Write a literate version of the code.\n",
    "- EXPLAIN HOW YOUR PROGRAM WORKS \n",
    "- Use input instructions\n",
    "- Use assignment and variables\n",
    "- Use final variables to store literal values rather than values appearing through the code.\n",
    "- Define all variables inside methods\n",
    "- Use arithmetic expressions\n",
    "- Split code in to methods at least one of which takes arguments and returns a result\n",
    "- Make simple use of comments – at least the author’s name, student number and date and an explanation of what the program does overall"
   ]
  },
  {
   "cell_type": "markdown",
   "metadata": {},
   "source": [
    "## The literate program development"
   ]
  },
  {
   "cell_type": "markdown",
   "metadata": {},
   "source": [
    "### gradeArray\n",
    "\n",
    "#### What it does\n",
    "This method stores each grade in an array and uses a for loop to calculate the number of grades a student received for each grade category.\n",
    "#### Implementation (how it works)\n",
    "It just stores the grades in an array and uses a for loop to go through each position of the array. It then calls another method to allow the user to enter the number of grades scored for each grade category.\n",
    "\n",
    "\n"
   ]
  },
  {
   "cell_type": "code",
   "execution_count": 10,
   "metadata": {},
   "outputs": [],
   "source": [
    "// A method that uses a for loop to run thorugh each grade and accepts user input on the number of grades they got\n",
    "//\n",
    "public static int gradeArray (Scanner scanner, int[] gradeCount)\n",
    "{\n",
    "    final int gradeLength = 6;\n",
    "    int totalGradeCount = 0;\n",
    "    final String[] grade_array = {\"A+\", \"A\", \"B\", \"C\", \"D\", \"F\", \"G\"};\n",
    "    // iterates through the grade array\n",
    "    for (int i=0; i <= gradeLength; i++)\n",
    "        {\n",
    "           gradeCount[i]= userInput (scanner, grade_array[i]);\n",
    "            totalGradeCount = totalGradeCount + gradeCount[i];\n",
    "        }\n",
    "\n",
    "    \n",
    "    \n",
    "    return totalGradeCount;\n",
    "    \n",
    "    \n",
    "} //END gradeArray \n",
    "\n"
   ]
  },
  {
   "cell_type": "markdown",
   "metadata": {},
   "source": [
    "#### Testing"
   ]
  },
  {
   "cell_type": "code",
   "execution_count": 11,
   "metadata": {},
   "outputs": [
    {
     "name": "stdout",
     "output_type": "stream",
     "text": [
      "How many A+ grades did you get?\n"
     ]
    },
    {
     "name": "stdin",
     "output_type": "stream",
     "text": [
      " 2\n"
     ]
    },
    {
     "name": "stdout",
     "output_type": "stream",
     "text": [
      "How many A grades did you get?\n"
     ]
    },
    {
     "name": "stdin",
     "output_type": "stream",
     "text": [
      " 3\n"
     ]
    },
    {
     "name": "stdout",
     "output_type": "stream",
     "text": [
      "How many B grades did you get?\n"
     ]
    },
    {
     "name": "stdin",
     "output_type": "stream",
     "text": [
      " 1\n"
     ]
    },
    {
     "name": "stdout",
     "output_type": "stream",
     "text": [
      "How many C grades did you get?\n"
     ]
    },
    {
     "name": "stdin",
     "output_type": "stream",
     "text": [
      " 3\n"
     ]
    },
    {
     "name": "stdout",
     "output_type": "stream",
     "text": [
      "How many D grades did you get?\n"
     ]
    },
    {
     "name": "stdin",
     "output_type": "stream",
     "text": [
      " 2\n"
     ]
    },
    {
     "name": "stdout",
     "output_type": "stream",
     "text": [
      "How many F grades did you get?\n"
     ]
    },
    {
     "name": "stdin",
     "output_type": "stream",
     "text": [
      " 1\n"
     ]
    },
    {
     "name": "stdout",
     "output_type": "stream",
     "text": [
      "How many G grades did you get?\n"
     ]
    },
    {
     "name": "stdin",
     "output_type": "stream",
     "text": [
      " 2\n"
     ]
    },
    {
     "data": {
      "text/plain": [
       "14"
      ]
     },
     "execution_count": 11,
     "metadata": {},
     "output_type": "execute_result"
    }
   ],
   "source": [
    "int[] gradeCount = {1,2,3,4,5,6,7};\n",
    "Scanner scanner = new Scanner(System.in);\n",
    "gradeArray(scanner, gradeCount);"
   ]
  },
  {
   "cell_type": "markdown",
   "metadata": {},
   "source": [
    "### userInput\n",
    "\n",
    "#### What it does\n",
    "This method always asks the user how many grades they got for each grade category and returns the value to gradeArray each time.\n",
    "\n",
    "#### Implementation (how it works)\n",
    "It just a simple print statement that asks the user to enter their grade and returns it using scanner.\n",
    "\n",
    "\n"
   ]
  },
  {
   "cell_type": "code",
   "execution_count": 12,
   "metadata": {},
   "outputs": [],
   "source": [
    "// A method that asks the user for input and returns each input (number of grade) to the gradeArray \n",
    "//\n",
    "public static int userInput (Scanner scanner, String grade)\n",
    "{\n",
    "    System.out.println(\"How many \" + grade + \" grades did you get?\");\n",
    "    \n",
    "    return scanner.nextInt();\n",
    "    \n",
    "} //END userInput\n"
   ]
  },
  {
   "cell_type": "markdown",
   "metadata": {},
   "source": [
    "#### Testing"
   ]
  },
  {
   "cell_type": "code",
   "execution_count": 13,
   "metadata": {},
   "outputs": [
    {
     "name": "stdout",
     "output_type": "stream",
     "text": [
      "How many A grades did you get?\n"
     ]
    },
    {
     "name": "stdin",
     "output_type": "stream",
     "text": [
      " 2\n"
     ]
    },
    {
     "data": {
      "text/plain": [
       "2"
      ]
     },
     "execution_count": 13,
     "metadata": {},
     "output_type": "execute_result"
    }
   ],
   "source": [
    "Scanner scanner = new Scanner(System.in);\n",
    "userInput(scanner, \"A\");"
   ]
  },
  {
   "cell_type": "markdown",
   "metadata": {},
   "source": [
    "#### calculateTotalGrades\n",
    "\n",
    "#### What it does\n",
    "This method calculates the final grade by using a series of conditions based on grades entered by the user in previous methods.\n",
    "#### Implementation (how it works)\n",
    "It is uses two for loops (one to keep track of each grade and the other (nested for loop) to add the numerical value of the grade so that it can calculate the final grade of the student based on a series of if conditions and returns the final grade. The reason it adds the grade as the grades can be higher than the condition as well, so it needs to give the correct output.  \n"
   ]
  },
  {
   "cell_type": "code",
   "execution_count": 14,
   "metadata": {},
   "outputs": [],
   "source": [
    "// A method that calculates the total grade by the number of grades for each grade. It then returns the final grade\n",
    "public static String calculateTotalGrades (int[] gradeCount)\n",
    "{\n",
    "     final int eight_grades = 8;\n",
    "     final int seven_grades = 7;\n",
    "     final int six_grades =  6;\n",
    "     int[] totalGrade = new int[7]; \n",
    "     for (int i = 0; i<=6; i++)\n",
    "         {\n",
    "             for (int j=0; j<=i; j++)\n",
    "                 {\n",
    "                     totalGrade[i]=  totalGrade[i] + gradeCount[j]; \n",
    "                     \n",
    "                 }\n",
    "            \n",
    "         }\n",
    "    \n",
    "     if (totalGrade[0] == eight_grades)\n",
    "        {\n",
    "            return \"A*\";\n",
    "        }\n",
    "     else if (totalGrade[0]>= seven_grades && totalGrade[1] == eight_grades )\n",
    "        {\n",
    "            return \"A++\";\n",
    "        }\n",
    "     else if (totalGrade[0]>= six_grades && totalGrade[1] == eight_grades )\n",
    "        {\n",
    "            return \"A+\";\n",
    "        }\n",
    "     else if (totalGrade[1]>= six_grades && totalGrade[2] == eight_grades )\n",
    "        {\n",
    "            return \"A\";\n",
    "        }\n",
    "     else if (totalGrade[2]>= six_grades && totalGrade[3] == eight_grades )\n",
    "        {\n",
    "            return \"B\";\n",
    "        }\n",
    "     else if (totalGrade[3]>= six_grades && totalGrade[4] == eight_grades )\n",
    "        {\n",
    "            return \"C\";\n",
    "        }\n",
    "     else if (totalGrade[4]>= six_grades && totalGrade[5] == eight_grades )\n",
    "        {\n",
    "            return \"D\";\n",
    "        }\n",
    "     else if (totalGrade[4]>= six_grades && totalGrade[6] == eight_grades )\n",
    "        {\n",
    "            return \"F\";\n",
    "        }\n",
    "     else if (totalGrade[6]>= eight_grades )\n",
    "        {\n",
    "            return \"G\";\n",
    "        }\n",
    "     else\n",
    "        {\n",
    "          return \"Q\";\n",
    "        }\n",
    "     \n",
    "    \n",
    "    \n",
    "} //END calculateTotalGrades\n",
    "\n"
   ]
  },
  {
   "cell_type": "markdown",
   "metadata": {},
   "source": [
    "#### Testing"
   ]
  },
  {
   "cell_type": "code",
   "execution_count": 15,
   "metadata": {},
   "outputs": [
    {
     "data": {
      "text/plain": [
       "B"
      ]
     },
     "execution_count": 15,
     "metadata": {},
     "output_type": "execute_result"
    }
   ],
   "source": [
    "int[] gradeCount = {1,4,1,2,0,0,0};\n",
    "calculateTotalGrades(gradeCount);"
   ]
  },
  {
   "cell_type": "markdown",
   "metadata": {},
   "source": [
    "### calculateFinalGrade\n",
    "\n",
    "#### What it does\n",
    "This method simply calls the other methods and produces the output as desired. It also has a condition to check if the user has enter more or less than 8 grades.\n",
    "#### Implementation (how it works)\n",
    "It is just a method that calls other methods and uses print statements to produce the necessary outputs.\n"
   ]
  },
  {
   "cell_type": "code",
   "execution_count": 16,
   "metadata": {},
   "outputs": [],
   "source": [
    "// a method to calls the other methods and print the desired output\n",
    "public static void calculateFinalGrade ()\n",
    "{\n",
    "    Scanner scanner = new Scanner(System.in);\n",
    "    int[] gradeCount = new int[7]; \n",
    "    int totalGradeCount = gradeArray(scanner, gradeCount);\n",
    "    if (totalGradeCount <= 8)\n",
    "    {\n",
    "        String finalGrade = calculateTotalGrades (gradeCount);\n",
    "        System.out.println(\"You consistently gained a \" + finalGrade + \" grade or better.\");\n",
    "        System.out.println(\"Therefore you gained a \" + finalGrade + \" grade overall\");\n",
    "    }\n",
    "    else\n",
    "    {\n",
    "        System.out.println (\"You must enter only 8 digits\");\n",
    "    }\n",
    "   \n",
    "     \n",
    "    \n",
    "     return;\n",
    "} // END calculateFinalGrade\n"
   ]
  },
  {
   "cell_type": "markdown",
   "metadata": {},
   "source": [
    "Testing"
   ]
  },
  {
   "cell_type": "code",
   "execution_count": 17,
   "metadata": {},
   "outputs": [
    {
     "name": "stdout",
     "output_type": "stream",
     "text": [
      "How many A+ grades did you get?\n"
     ]
    },
    {
     "name": "stdin",
     "output_type": "stream",
     "text": [
      " 1\n"
     ]
    },
    {
     "name": "stdout",
     "output_type": "stream",
     "text": [
      "How many A grades did you get?\n"
     ]
    },
    {
     "name": "stdin",
     "output_type": "stream",
     "text": [
      " 4\n"
     ]
    },
    {
     "name": "stdout",
     "output_type": "stream",
     "text": [
      "How many B grades did you get?\n"
     ]
    },
    {
     "name": "stdin",
     "output_type": "stream",
     "text": [
      " 1\n"
     ]
    },
    {
     "name": "stdout",
     "output_type": "stream",
     "text": [
      "How many C grades did you get?\n"
     ]
    },
    {
     "name": "stdin",
     "output_type": "stream",
     "text": [
      " 2\n"
     ]
    },
    {
     "name": "stdout",
     "output_type": "stream",
     "text": [
      "How many D grades did you get?\n"
     ]
    },
    {
     "name": "stdin",
     "output_type": "stream",
     "text": [
      " 0\n"
     ]
    },
    {
     "name": "stdout",
     "output_type": "stream",
     "text": [
      "How many F grades did you get?\n"
     ]
    },
    {
     "name": "stdin",
     "output_type": "stream",
     "text": [
      " 0\n"
     ]
    },
    {
     "name": "stdout",
     "output_type": "stream",
     "text": [
      "How many G grades did you get?\n"
     ]
    },
    {
     "name": "stdin",
     "output_type": "stream",
     "text": [
      " 0\n"
     ]
    },
    {
     "name": "stdout",
     "output_type": "stream",
     "text": [
      "You consistently gained a B grade or better.\n",
      "Therefore you gained a B grade overall\n"
     ]
    }
   ],
   "source": [
    "calculateFinalGrade ();"
   ]
  },
  {
   "cell_type": "markdown",
   "metadata": {},
   "source": [
    "### Running the program\n",
    "Run the following call to simulate running the complete program."
   ]
  },
  {
   "cell_type": "code",
   "execution_count": 116,
   "metadata": {},
   "outputs": [
    {
     "name": "stdout",
     "output_type": "stream",
     "text": [
      "How many A+ grades did you get?\n"
     ]
    },
    {
     "name": "stdin",
     "output_type": "stream",
     "text": [
      " 7\n"
     ]
    },
    {
     "name": "stdout",
     "output_type": "stream",
     "text": [
      "How many A grades did you get?\n"
     ]
    },
    {
     "name": "stdin",
     "output_type": "stream",
     "text": [
      " 1\n"
     ]
    },
    {
     "name": "stdout",
     "output_type": "stream",
     "text": [
      "How many B grades did you get?\n"
     ]
    },
    {
     "name": "stdin",
     "output_type": "stream",
     "text": [
      " 0\n"
     ]
    },
    {
     "name": "stdout",
     "output_type": "stream",
     "text": [
      "How many C grades did you get?\n"
     ]
    },
    {
     "name": "stdin",
     "output_type": "stream",
     "text": [
      " 0\n"
     ]
    },
    {
     "name": "stdout",
     "output_type": "stream",
     "text": [
      "How many D grades did you get?\n"
     ]
    },
    {
     "name": "stdin",
     "output_type": "stream",
     "text": [
      " 0\n"
     ]
    },
    {
     "name": "stdout",
     "output_type": "stream",
     "text": [
      "How many F grades did you get?\n"
     ]
    },
    {
     "name": "stdin",
     "output_type": "stream",
     "text": [
      " 0\n"
     ]
    },
    {
     "name": "stdout",
     "output_type": "stream",
     "text": [
      "How many G grades did you get?\n"
     ]
    },
    {
     "name": "stdin",
     "output_type": "stream",
     "text": [
      " 0\n"
     ]
    },
    {
     "name": "stdout",
     "output_type": "stream",
     "text": [
      "You consistently gained a A++ grade or better.\n",
      "Therefore you gained a A++ grade overall\n"
     ]
    }
   ],
   "source": [
    "calculateFinalGrade ();"
   ]
  },
  {
   "cell_type": "markdown",
   "metadata": {},
   "source": [
    "## The complete program \n",
    "This version will only compile here. To run it copy it into a file called initials.java on your local computer and compile and run it there."
   ]
  },
  {
   "cell_type": "code",
   "execution_count": 1,
   "metadata": {},
   "outputs": [],
   "source": [
    "/* **********************\n",
    "  @author    Hansel Rodrigues\n",
    "  @SID       230603866\n",
    "  @date      31 October 2023\n",
    "  @version   1\n",
    "\n",
    "This is a  program that asks the user for grades and displays student's grades and calculates the final grade..\n",
    "   ********************/\n",
    "\n",
    "class studentGrade\n",
    "{\n",
    "    public static void main (String [] a)\n",
    "    {\n",
    "        calculateFinalGrade ();\n",
    "        return;\n",
    "    } // END main\n",
    "\n",
    "    // a method to calls the other methods and print the desired output\n",
    "    public static void calculateFinalGrade ()\n",
    "    {\n",
    "        Scanner scanner = new Scanner(System.in);\n",
    "        int[] gradeCount = new int[7]; \n",
    "        int totalGradeCount = gradeArray(scanner, gradeCount);\n",
    "        if (totalGradeCount <= 8)\n",
    "        {\n",
    "            String finalGrade = calculateTotalGrades (gradeCount);\n",
    "            System.out.println(\"You consistently gained a \" + finalGrade + \" grade or better.\");\n",
    "            System.out.println(\"Therefore you gained a \" + finalGrade + \" grade overall\");\n",
    "        }\n",
    "        else\n",
    "        {\n",
    "            System.out.println (\"You must enter only 8 digits\");\n",
    "        }\n",
    "   \n",
    "     \n",
    "    \n",
    "        return;\n",
    "    } // END calculateFinalGrade\n",
    "\n",
    "\n",
    "\n",
    "    // A method that uses a for loop to run thorugh each grade and accepts user input on the number of grades they got\n",
    "//\n",
    "    public static int gradeArray (Scanner scanner, int[] gradeCount)\n",
    "    {\n",
    "        final int gradeLength = 6;\n",
    "        int totalGradeCount = 0;\n",
    "        final String[] grade_array = {\"A+\", \"A\", \"B\", \"C\", \"D\", \"F\", \"G\"};\n",
    "        // iterates through the grade array\n",
    "        for (int i=0; i <= gradeLength; i++)\n",
    "            {\n",
    "               gradeCount[i]= userInput (scanner, grade_array[i]);\n",
    "               totalGradeCount = totalGradeCount + gradeCount[i];\n",
    "            }\n",
    "\n",
    "    \n",
    "    \n",
    "        return totalGradeCount;\n",
    "    \n",
    "    \n",
    "    } //END gradeArray\n",
    "\n",
    "    // A method that asks the user for input and returns each input (number of grade) to the gradeArray \n",
    "    //\n",
    "    public static int userInput (Scanner scanner, String grade)\n",
    "    {\n",
    "        System.out.println(\"How many \" + grade + \" grades did you get?\");\n",
    "    \n",
    "        return scanner.nextInt();\n",
    "    \n",
    "    } //END userInput\n",
    "\n",
    "    // A method that calculates the total grade by the number of grades for each grade. It then returns the final grade\n",
    "    public static String calculateTotalGrades (int[] gradeCount)\n",
    "    {\n",
    "         final int eight_grades = 8;\n",
    "         final int seven_grades = 7;\n",
    "         final int six_grades =  6;\n",
    "         int[] totalGrade = new int[7]; \n",
    "         for (int i = 0; i<=6; i++)\n",
    "         {\n",
    "            for (int j=0; j<=i; j++)\n",
    "                {\n",
    "                    totalGrade[i]=  totalGrade[i] + gradeCount[j]; \n",
    "                     \n",
    "                }\n",
    "            \n",
    "         }\n",
    "    \n",
    "         if (totalGrade[0] == eight_grades)\n",
    "            {\n",
    "                return \"A*\";\n",
    "            }\n",
    "         else if (totalGrade[0]>= seven_grades && totalGrade[1] == eight_grades )\n",
    "            {\n",
    "                return \"A++\";\n",
    "            }\n",
    "         else if (totalGrade[0]>= six_grades && totalGrade[1] == eight_grades )\n",
    "            {\n",
    "                return \"A+\";\n",
    "            }\n",
    "         else if (totalGrade[1]>= six_grades && totalGrade[2] == eight_grades )\n",
    "            {\n",
    "                return \"A\";\n",
    "            }\n",
    "         else if (totalGrade[2]>= six_grades && totalGrade[3] == eight_grades )\n",
    "            {\n",
    "                return \"B\";\n",
    "            }\n",
    "         else if (totalGrade[3]>= six_grades && totalGrade[4] == eight_grades )\n",
    "            {\n",
    "                return \"C\";\n",
    "            }\n",
    "         else if (totalGrade[4]>= six_grades && totalGrade[5] == eight_grades )\n",
    "            {\n",
    "                return \"D\";\n",
    "            }\n",
    "         else if (totalGrade[4]>= six_grades && totalGrade[6] == eight_grades )\n",
    "            {\n",
    "                return \"F\";\n",
    "            }\n",
    "         else if (totalGrade[6]>= eight_grades )\n",
    "            {\n",
    "                return \"G\";\n",
    "            }\n",
    "         else\n",
    "            {\n",
    "              return \"Q\";\n",
    "            }\n",
    "     \n",
    "    \n",
    "    \n",
    "} //END calculateTotalGrades\n",
    "\n",
    "\n",
    "    \n",
    "    \n",
    "} // END class studentGrade\n"
   ]
  },
  {
   "cell_type": "code",
   "execution_count": 2,
   "metadata": {},
   "outputs": [
    {
     "name": "stdout",
     "output_type": "stream",
     "text": [
      "How many A+ grades did you get?\n"
     ]
    },
    {
     "name": "stdin",
     "output_type": "stream",
     "text": [
      " 1\n"
     ]
    },
    {
     "name": "stdout",
     "output_type": "stream",
     "text": [
      "How many A grades did you get?\n"
     ]
    },
    {
     "name": "stdin",
     "output_type": "stream",
     "text": [
      " 4\n"
     ]
    },
    {
     "name": "stdout",
     "output_type": "stream",
     "text": [
      "How many B grades did you get?\n"
     ]
    },
    {
     "name": "stdin",
     "output_type": "stream",
     "text": [
      " 1\n"
     ]
    },
    {
     "name": "stdout",
     "output_type": "stream",
     "text": [
      "How many C grades did you get?\n"
     ]
    },
    {
     "name": "stdin",
     "output_type": "stream",
     "text": [
      " 2\n"
     ]
    },
    {
     "name": "stdout",
     "output_type": "stream",
     "text": [
      "How many D grades did you get?\n"
     ]
    },
    {
     "name": "stdin",
     "output_type": "stream",
     "text": [
      " 0\n"
     ]
    },
    {
     "name": "stdout",
     "output_type": "stream",
     "text": [
      "How many F grades did you get?\n"
     ]
    },
    {
     "name": "stdin",
     "output_type": "stream",
     "text": [
      " 0\n"
     ]
    },
    {
     "name": "stdout",
     "output_type": "stream",
     "text": [
      "How many G grades did you get?\n"
     ]
    },
    {
     "name": "stdin",
     "output_type": "stream",
     "text": [
      " 0\n"
     ]
    },
    {
     "name": "stdout",
     "output_type": "stream",
     "text": [
      "You consistently gained a B grade or better.\n",
      "Therefore you gained a B grade overall\n"
     ]
    }
   ],
   "source": [
    "studentGrade.main(null);"
   ]
  },
  {
   "cell_type": "markdown",
   "metadata": {},
   "source": [
    "**END OF LITERATE DOCUMENT**"
   ]
  }
 ],
 "metadata": {
  "kernelspec": {
   "display_name": "Java",
   "language": "java",
   "name": "java"
  },
  "language_info": {
   "codemirror_mode": "java",
   "file_extension": ".jshell",
   "mimetype": "text/x-java-source",
   "name": "Java",
   "pygments_lexer": "java",
   "version": "11.0.8+10-LTS"
  }
 },
 "nbformat": 4,
 "nbformat_minor": 4
}
