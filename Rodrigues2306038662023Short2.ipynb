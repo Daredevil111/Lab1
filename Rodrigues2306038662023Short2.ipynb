{
 "cells": [
  {
   "cell_type": "markdown",
   "metadata": {},
   "source": [
    "# Short Assessed Exercise\n",
    "# Level  2\n",
    "## Hansel Rodrigues\n",
    "## Student ID: 230603866\n",
    "## Version 1 (3 October 2023)\n",
    "\n"
   ]
  },
  {
   "cell_type": "markdown",
   "metadata": {},
   "source": [
    "## Summary of the Question \n",
    "\n",
    "Write a program that works out statistics for the women’s world cup. It \n",
    "should ask for the total matches played so far, the total goals scored so far and then give tw  statistics: the\r\n",
    "goals scored per match and the number of minutes per goal (assuming each match is 90 minutes long).\n",
    "\n",
    "The program MUST be structured as a series of methods where the first method calls a series of others in turn. They will either get values and return results back to the first method, or take arguments and return calculated results or take arguments and print results. \n",
    "\n",
    "The first method uses the returned values to pass arguments to the next method."
   ]
  },
  {
   "cell_type": "markdown",
   "metadata": {},
   "source": [
    "## Justification that the program passes this level\n",
    "This is based on tick boxes at start of the question description for short program level 2\n",
    "I can \n",
    "- Write a literate version of the code.\n",
    "- EXPLAIN HOW YOUR PROGRAM WORKS \n",
    "- Use input instructions\n",
    "- Use assignment and variables\n",
    "- Use final variables to store literal values rather than values appearing through the code.\n",
    "- Define all variables inside methods\n",
    "- Use arithmetic expressions\n",
    "- Split code in to methods at least one of which takes arguments and returns a result\n",
    "- Make simple use of comments – at least the author’s name, student number and date and an explanation of what the program does overall"
   ]
  },
  {
   "cell_type": "markdown",
   "metadata": {},
   "source": [
    "## The literate program development"
   ]
  },
  {
   "cell_type": "markdown",
   "metadata": {},
   "source": [
    "### matchesPlayed\n",
    "\n",
    "#### What it does\n",
    "This method asks the user how many matches they have played.\n",
    "\n",
    "#### Implementation (how it works)\n",
    "It just asks the user how many matches they have played and returns the number stored in a final as matches_Played to show what it means. It prints a message just to show it is running.\n",
    "\n",
    "\n"
   ]
  },
  {
   "cell_type": "code",
   "execution_count": 31,
   "metadata": {},
   "outputs": [],
   "source": [
    "public static int matchesPlayed ()\n",
    "    {\n",
    "        System.out.println(\"How many matches have you played so far? \");\n",
    "        Scanner scanner = new Scanner(System.in);\n",
    "        int matches_Played = scanner.nextInt();\n",
    "        \n",
    "        return matches_Played;\n",
    "    } "
   ]
  },
  {
   "cell_type": "markdown",
   "metadata": {},
   "source": [
    "#### Testing"
   ]
  },
  {
   "cell_type": "code",
   "execution_count": 32,
   "metadata": {},
   "outputs": [
    {
     "name": "stdout",
     "output_type": "stream",
     "text": [
      "How many matches have you played so far? \n"
     ]
    },
    {
     "name": "stdin",
     "output_type": "stream",
     "text": [
      " 10\n"
     ]
    },
    {
     "data": {
      "text/plain": [
       "10"
      ]
     },
     "execution_count": 32,
     "metadata": {},
     "output_type": "execute_result"
    }
   ],
   "source": [
    "matchesPlayed ();"
   ]
  },
  {
   "cell_type": "markdown",
   "metadata": {},
   "source": [
    "### goalsScored\n",
    "\n",
    "#### What it does\n",
    "This method asks the user how many goals they have scored.\n",
    "\n",
    "#### Implementation (how it works)\n",
    "It just asks the user how many goals they have scored and returns the number stored in a final as goals_Scored to show what it means. It prints a message just to show it is running."
   ]
  },
  {
   "cell_type": "code",
   "execution_count": 33,
   "metadata": {},
   "outputs": [],
   "source": [
    "// A method that just returns the number of goals scored.\n",
    "\n",
    "public static int goalsScored ()\n",
    "{\n",
    "    System.out.println(\"How many goals have you scored so far? \");\n",
    "    Scanner scanner = new Scanner(System.in);\n",
    "    int goals_Scored = scanner.nextInt();\n",
    "    \n",
    "    return goals_Scored;\n",
    "    \n",
    "    \n",
    "} // END goalsScored"
   ]
  },
  {
   "cell_type": "markdown",
   "metadata": {},
   "source": [
    "#### Testing"
   ]
  },
  {
   "cell_type": "code",
   "execution_count": 34,
   "metadata": {},
   "outputs": [
    {
     "name": "stdout",
     "output_type": "stream",
     "text": [
      "How many goals have you scored so far? \n"
     ]
    },
    {
     "name": "stdin",
     "output_type": "stream",
     "text": [
      " 10\n"
     ]
    },
    {
     "name": "stdout",
     "output_type": "stream",
     "text": [
      "10\n"
     ]
    }
   ],
   "source": [
    "int answer2 = goalsScored ();\n",
    "System.out.println(answer2);"
   ]
  },
  {
   "cell_type": "markdown",
   "metadata": {},
   "source": [
    "### goalsPerMatch\n",
    "\n",
    "#### What it does\n",
    "This method demonstrates how a method can take arguments and do a simple calculation, returning the result. Here it just multiplies a double and an integer.\n",
    "\n",
    "#### Implementation (how it works)\n",
    "It is given as argument the two numbers to divide and then does the division and returns the result.\n",
    "The aim is just to show how methods can return results that are based on arguments passed to them.\n"
   ]
  },
  {
   "cell_type": "code",
   "execution_count": 6,
   "metadata": {},
   "outputs": [],
   "source": [
    "// A method that calculates goals per match by using arguments.\n",
    "\n",
    "public static int goalsPerMatch (int matches_Played , int goals_Scored)\n",
    "{\n",
    "     final int resultOfCalculation = goals_Scored / matches_Played;\n",
    "    \n",
    "     return resultOfCalculation;\n",
    "\n",
    "} // END goalsPerMatch"
   ]
  },
  {
   "cell_type": "markdown",
   "metadata": {},
   "source": [
    "#### Testing"
   ]
  },
  {
   "cell_type": "code",
   "execution_count": 7,
   "metadata": {},
   "outputs": [
    {
     "name": "stdout",
     "output_type": "stream",
     "text": [
      "3.0\n",
      "2.0\n"
     ]
    }
   ],
   "source": [
    "// We test with a range of numbers\n",
    "double answer3 = goalsPerMatch (6, 19); \n",
    "System.out.println(answer3);\n",
    "double answer4 = goalsPerMatch (3, 6); \n",
    "System.out.println(answer4);"
   ]
  },
  {
   "cell_type": "markdown",
   "metadata": {},
   "source": [
    "### calculateMinutesPerGoal\n",
    "\n",
    "#### What it does\n",
    "It works out how many minutes have passed per goal and returns the answer.\n",
    "\n",
    "#### Implementation (how it works)\n",
    "\n",
    "The total minutes in all matches is first calculated by multiplying the matches played and minutes per match and then the minutes per goal is calculated by dividing the total minutes in all matches and total goals scored. Lastly the result is multiplied by 10 and then rounded using math round and then divided by 10 so that the minutes per goal is rounded to the nearest decimal.\n"
   ]
  },
  {
   "cell_type": "code",
   "execution_count": 8,
   "metadata": {},
   "outputs": [],
   "source": [
    "// A method that just calculates the minutes per goal by using arguments\n",
    "//\n",
    "public static double calculateMinutesPerGoal (int matches_Played , int goals_Scored)\n",
    "{\n",
    "    final int minutesPerMatch = 90;\n",
    "    double totalMinutesOfAllMatches = matches_Played * minutesPerMatch;\n",
    "    double minutesPerGoal = (totalMinutesOfAllMatches / goals_Scored) * 10;\n",
    "    minutesPerGoal = Math.round (minutesPerGoal);\n",
    "    minutesPerGoal = minutesPerGoal / 10;\n",
    "    return minutesPerGoal;\n",
    "\n",
    "} // END calculateMinutesPerGoal"
   ]
  },
  {
   "cell_type": "code",
   "execution_count": 9,
   "metadata": {},
   "outputs": [
    {
     "name": "stdout",
     "output_type": "stream",
     "text": [
      "28.4\n",
      "34.6\n"
     ]
    }
   ],
   "source": [
    "// We test with a range of numbers\n",
    "double answer3 = calculateMinutesPerGoal (6, 19);\n",
    "System.out.println(answer3);\n",
    "double answer4 = calculateMinutesPerGoal (63, 164);\n",
    "System.out.println(answer4);"
   ]
  },
  {
   "cell_type": "markdown",
   "metadata": {},
   "source": [
    "### Statistics\n",
    "\n",
    "#### What it does\n",
    "Method just calls other methods and prints output as required.\n",
    "\n",
    "#### Implementation (how it works)\n",
    "This is the method refered to as the \"first\" method so the most important method in the sense that it is the one called to do the overall job - it does the job asked by calling methods to get values before passing them on to the next method as arguments which uses them to get a new result and passes that on to a final method to print the result. \n",
    "\n",
    "By passing values to methods and storing the returned results in this way we avoid any need to have variables that all methods can see (global variables). Such global variables are bad. By not using them we can test each method works in isolation.\n"
   ]
  },
  {
   "cell_type": "code",
   "execution_count": null,
   "metadata": {},
   "outputs": [],
   "source": [
    "// A method that just calls all the required methods in order to achieve the necessary output.\n",
    "//\n",
    "public static void Statistics ()\n",
    "{   \n",
    "     final int matches_Played = matchesPlayed();\n",
    "     final int goals_Scored = goalsScored();\n",
    "     int goals_Per_Match = goalsPerMatch(matches_Played, goals_Scored);\n",
    "     double minutes_Per_Goal = calculateMinutesPerGoal(matches_Played, goals_Scored); \n",
    "     System.out.println (\"Goals Per Match = \" + goals_Per_Match);\n",
    "     System.out.println (\"Minutes Per Goal = \" + minutes_Per_Goal);\n",
    "     return;\n",
    "} // END Statistics"
   ]
  },
  {
   "cell_type": "markdown",
   "metadata": {},
   "source": [
    "#### Testing"
   ]
  },
  {
   "cell_type": "code",
   "execution_count": null,
   "metadata": {},
   "outputs": [],
   "source": [
    "Statistics ();"
   ]
  },
  {
   "cell_type": "markdown",
   "metadata": {},
   "source": [
    "### Running the program\n",
    "Run the following call to simulate running the complete program."
   ]
  },
  {
   "cell_type": "code",
   "execution_count": null,
   "metadata": {},
   "outputs": [],
   "source": [
    "Statistics ();"
   ]
  },
  {
   "cell_type": "markdown",
   "metadata": {},
   "source": [
    "## The complete program \n",
    "This version will only compile here. To run it copy it into a file called initials.java on your local computer and compile and run it there."
   ]
  },
  {
   "cell_type": "code",
   "execution_count": 1,
   "metadata": {},
   "outputs": [],
   "source": [
    "/* **********************\n",
    "  @author    Hansel Rodrigues\n",
    "  @SID       230603866\n",
    "  @date      3 September 2023\n",
    "  @version   1\n",
    "\n",
    "    This is a  program that accepts inputs such as macthes played and goals scored and displays statistics of the matches.\n",
    "   ********************/\n",
    "class statisticsOfMatch\n",
    "{\n",
    "    public static void main (String [] a)\n",
    "    {\n",
    "        Statistics ();\n",
    "        return;\n",
    "    } // END main\n",
    "\n",
    "\n",
    "    // A method that just calls all the required methods in order to achieve the necessary output.\n",
    "\n",
    "    public static void Statistics ()\n",
    "    {   \n",
    "         final int matches_Played = matchesPlayed();\n",
    "         final int goals_Scored = goalsScored();\n",
    "         int goals_Per_Match = goalsPerMatch(matches_Played, goals_Scored);\n",
    "         double minutes_Per_Goal = calculateMinutesPerGoal(matches_Played, goals_Scored); \n",
    "         System.out.println (\"Goals Per Match = \" + goals_Per_Match);\n",
    "         System.out.println (\"Minutes Per Goal = \" + minutes_Per_Goal);\n",
    "         return;\n",
    "    } // END Statistics\n",
    "\n",
    "\n",
    "    // A method that just returns the number of matches played.\n",
    "\n",
    "\n",
    "    public static int matchesPlayed ()\n",
    "    {\n",
    "        System.out.println(\"How many matches have you played so far? \");\n",
    "        Scanner scanner = new Scanner(System.in);\n",
    "        int matches_Played = scanner.nextInt();\n",
    "        \n",
    "        return matches_Played;\n",
    "    } // END mathcesPlayed\n",
    "\n",
    "\n",
    "    \n",
    "    // A method that just returns the number of goals scored.\n",
    "\n",
    "    public static int goalsScored ()\n",
    "    {\n",
    "        System.out.println(\"How many goals have you scored so far? \");\n",
    "        Scanner scanner = new Scanner(System.in);\n",
    "        int goals_Scored = scanner.nextInt();\n",
    "    \n",
    "    return goals_Scored;\n",
    "    \n",
    "    } // END goalsScored\n",
    "   \n",
    "    \n",
    "    // A method that calculates goals per match by using arguments.\n",
    "\n",
    "    public static int goalsPerMatch (int matches_Played , int goals_Scored)\n",
    "    {\n",
    "        final int resultOfCalculation = goals_Scored / matches_Played;\n",
    "    \n",
    "        return resultOfCalculation;\n",
    "\n",
    "    } // END goalsPerMatch\n",
    "\n",
    "    \n",
    "    // A method that just calculates the minutes per goal by using arguments\n",
    "    \n",
    "    public static double calculateMinutesPerGoal (int matches_Played , int goals_Scored)\n",
    "    {\n",
    "        final int minutesPerMatch = 90;\n",
    "        double totalMinutesOfAllMatches = matches_Played * minutesPerMatch;\n",
    "        double minutesPerGoal = (totalMinutesOfAllMatches / goals_Scored) * 10;\n",
    "        minutesPerGoal = Math.round (minutesPerGoal);\n",
    "        minutesPerGoal = minutesPerGoal / 10;\n",
    "        return minutesPerGoal;\n",
    "\n",
    "    } // END calculateMinutesPerGoal\n",
    "\n",
    "    \n",
    "    \n",
    "    \n",
    "} // END class statisticsOfMatch\n"
   ]
  },
  {
   "cell_type": "code",
   "execution_count": 2,
   "metadata": {},
   "outputs": [
    {
     "name": "stdout",
     "output_type": "stream",
     "text": [
      "How many matches have you played so far? \n"
     ]
    },
    {
     "name": "stdin",
     "output_type": "stream",
     "text": [
      " 6\n"
     ]
    },
    {
     "name": "stdout",
     "output_type": "stream",
     "text": [
      "How many goals have you scored so far? \n"
     ]
    },
    {
     "name": "stdin",
     "output_type": "stream",
     "text": [
      " 19\n"
     ]
    },
    {
     "name": "stdout",
     "output_type": "stream",
     "text": [
      "Goals Per Match = 3\n",
      "Minutes Per Goal = 28.4\n"
     ]
    }
   ],
   "source": [
    "statisticsOfMatch.main(null);"
   ]
  },
  {
   "cell_type": "markdown",
   "metadata": {},
   "source": [
    "**END OF LITERATE DOCUMENT**"
   ]
  }
 ],
 "metadata": {
  "kernelspec": {
   "display_name": "Java",
   "language": "java",
   "name": "java"
  },
  "language_info": {
   "codemirror_mode": "java",
   "file_extension": ".jshell",
   "mimetype": "text/x-java-source",
   "name": "Java",
   "pygments_lexer": "java",
   "version": "11.0.8+10-LTS"
  }
 },
 "nbformat": 4,
 "nbformat_minor": 4
}
