{
 "cells": [
  {
   "cell_type": "markdown",
   "metadata": {},
   "source": [
    "# Short Assessed Exercise\n",
    "# Level  3\n",
    "## Hansel Rodrigues\n",
    "## Student ID: 230603866\n",
    "## Version 1 (17 October 2023)\n",
    "\n"
   ]
  },
  {
   "cell_type": "markdown",
   "metadata": {},
   "source": [
    "## Summary of the Question \n",
    "\n",
    "Write a program that ...\n",
    "\n",
    "The program MUST be structured as a series of methods where the first method calls a series of others in turn. They will either get values and return results back to the first method, or take arguments and return calculated results or take arguments and print results. \n",
    "\n",
    "The first method uses the returned values to pass arguments to the next method."
   ]
  },
  {
   "cell_type": "markdown",
   "metadata": {},
   "source": [
    "## Justification that the program passes this level\n",
    "This is based on tick boxes at start of the question description for short program level 2\n",
    "I can \n",
    "- Write a literate version of the code.\n",
    "- EXPLAIN HOW YOUR PROGRAM WORKS \n",
    "- Use input instructions\n",
    "- Use assignment and variables\n",
    "- Use final variables to store literal values rather than values appearing through the code.\n",
    "- Define all variables inside methods\n",
    "- Use arithmetic expressions\n",
    "- Split code in to methods at least one of which takes arguments and returns a result\n",
    "- Make simple use of comments – at least the author’s name, student number and date and an explanation of what the program does overall"
   ]
  },
  {
   "cell_type": "markdown",
   "metadata": {},
   "source": [
    "## The literate program development"
   ]
  },
  {
   "cell_type": "markdown",
   "metadata": {},
   "source": [
    "### theoryGrade\n",
    "\n",
    "#### What it does\n",
    "This method asks the user for input and then returns the theory grade to be displayed later.\n",
    "\n",
    "#### Implementation (how it works)\n",
    "It is just a series of if conditions for each student grade and returns the theory grade depending on user input.\n",
    "\n",
    "\n",
    "\n"
   ]
  },
  {
   "cell_type": "code",
   "execution_count": 43,
   "metadata": {},
   "outputs": [],
   "source": [
    "// a method that asks the user for input and returns the theory grade\n",
    "public static String theoryGrade (Scanner scanner)\n",
    "{\n",
    "    \n",
    "    int theorySelectionGrade = scanner.nextInt();\n",
    "    \n",
    "    if (theorySelectionGrade == 1)\n",
    "    {\n",
    "        return \"A+\";\n",
    "    }\n",
    "    else  if (theorySelectionGrade == 2)\n",
    "    {\n",
    "        return \"A\";\n",
    "    }\n",
    "    else if (theorySelectionGrade == 3)\n",
    "    {\n",
    "        return \"B\";\n",
    "    }\n",
    "     else if (theorySelectionGrade == 4)\n",
    "    {\n",
    "        return \"C\";\n",
    "    }\n",
    "     else if (theorySelectionGrade == 5)\n",
    "    {\n",
    "        return \"D\";\n",
    "    }\n",
    "     else if (theorySelectionGrade == 6)\n",
    "    {\n",
    "        return \"F\";\n",
    "    }\n",
    "    else if (theorySelectionGrade == 7)\n",
    "    {\n",
    "        return \"G\";\n",
    "    }\n",
    "    else\n",
    "    {\n",
    "        System.out.println (\"Re-enter grade selection \");\n",
    "        return theoryGrade(scanner);\n",
    "    }\n",
    "    \n",
    "    \n",
    "\n",
    "}// END theoryGrade \n"
   ]
  },
  {
   "cell_type": "markdown",
   "metadata": {},
   "source": [
    "#### Testing"
   ]
  },
  {
   "cell_type": "code",
   "execution_count": 44,
   "metadata": {},
   "outputs": [
    {
     "name": "stdin",
     "output_type": "stream",
     "text": [
      " 2\n"
     ]
    }
   ],
   "source": [
    "Scanner scanner = new Scanner(System.in);\n",
    "String test1 = theoryGrade (scanner)"
   ]
  },
  {
   "cell_type": "markdown",
   "metadata": {},
   "source": [
    "### dryRunGrade\n",
    "\n",
    "#### What it does\n",
    "This method asks the user for input and then returns the dry run grade to be displayed later.\n",
    "\n",
    "#### Implementation (how it works)\n",
    "It is just a series of if conditions for each student grade and returns the dry run grade depending on user input.\n",
    "\n"
   ]
  },
  {
   "cell_type": "code",
   "execution_count": 45,
   "metadata": {},
   "outputs": [],
   "source": [
    "// a method that asks the user for input and returns the dry run grade\n",
    "public static String dryRunGrade (Scanner scanner)\n",
    "{\n",
    "    \n",
    "    int dryRunSelection = scanner.nextInt();\n",
    "    \n",
    "    if (dryRunSelection == 1)\n",
    "    {\n",
    "        return \"A+\";\n",
    "    }\n",
    "    else  if (dryRunSelection == 2)\n",
    "    {\n",
    "         return \"A\";\n",
    "    }\n",
    "    else if (dryRunSelection == 3)\n",
    "    {\n",
    "         return \"B\";\n",
    "    }\n",
    "     else if (dryRunSelection == 4)\n",
    "    {\n",
    "         return \"C\";\n",
    "    }\n",
    "     else if (dryRunSelection == 5)\n",
    "    {\n",
    "         return \"D\";\n",
    "    }\n",
    "     else if (dryRunSelection == 6)\n",
    "    {\n",
    "         return \"F\";\n",
    "    }\n",
    "    else if (dryRunSelection == 7)\n",
    "    {\n",
    "         return \"G\";\n",
    "    }\n",
    "    else\n",
    "    {\n",
    "        System.out.println (\"Re-enter grade selection\" + dryRunSelection);\n",
    "        return dryRunGrade(scanner);\n",
    "    }\n",
    "    \n",
    "   \n",
    "} // END dryRunGrade\n"
   ]
  },
  {
   "cell_type": "markdown",
   "metadata": {},
   "source": [
    "#### Testing"
   ]
  },
  {
   "cell_type": "code",
   "execution_count": 46,
   "metadata": {},
   "outputs": [
    {
     "name": "stdin",
     "output_type": "stream",
     "text": [
      " 3\n"
     ]
    }
   ],
   "source": [
    "Scanner scanner = new Scanner(System.in);\n",
    "String test2= dryRunGrade (scanner)"
   ]
  },
  {
   "cell_type": "markdown",
   "metadata": {},
   "source": [
    "### programGrade\n",
    "\n",
    "#### What it does\n",
    "This method asks the user for input and then returns the programGrade to be displayed later.\n",
    "\n",
    "#### Implementation (how it works)\n",
    "It is just a series of if conditions for each student grade and returns the programGrade depending on user input.\n"
   ]
  },
  {
   "cell_type": "code",
   "execution_count": 47,
   "metadata": {},
   "outputs": [],
   "source": [
    "// a method that asks the user for input and returns the program grade\n",
    "public static String programGrade (Scanner scanner)\n",
    "{\n",
    "    \n",
    "    int programSelection = scanner.nextInt();\n",
    "    \n",
    "    if (programSelection == 1)\n",
    "    {\n",
    "        return \"A+\";\n",
    "    }\n",
    "    else  if (programSelection == 2)\n",
    "    {\n",
    "        return \"A\";\n",
    "    }\n",
    "    else if (programSelection == 3)\n",
    "    {\n",
    "        return \"B\";\n",
    "    }\n",
    "     else if (programSelection == 4)\n",
    "    {\n",
    "        return \"C\";\n",
    "    }\n",
    "     else if (programSelection == 5)\n",
    "    {\n",
    "        return \"D\";\n",
    "    }\n",
    "     else if (programSelection == 6)\n",
    "    {\n",
    "        return \"F\";\n",
    "    }\n",
    "    else if (programSelection == 7)\n",
    "    {\n",
    "        return \"G\";\n",
    "    }\n",
    "    else\n",
    "    {\n",
    "        System.out.println (\"Re-enter grade selection\" + programSelection);\n",
    "        return programGrade(scanner);\n",
    "        \n",
    "    }\n",
    "    \n",
    "    \n",
    "}// END programGrade \n"
   ]
  },
  {
   "cell_type": "markdown",
   "metadata": {},
   "source": [
    "#### Testing"
   ]
  },
  {
   "cell_type": "code",
   "execution_count": 48,
   "metadata": {},
   "outputs": [
    {
     "name": "stdin",
     "output_type": "stream",
     "text": [
      " 4\n"
     ]
    }
   ],
   "source": [
    "Scanner scanner = new Scanner(System.in);\n",
    "String test3= programGrade (scanner)"
   ]
  },
  {
   "cell_type": "markdown",
   "metadata": {},
   "source": [
    "### bestGrade\n",
    "\n",
    "#### What it does\n",
    "It accepts the grades and checks which grade is higher.\n",
    "\n",
    "#### Implementation (how it works)\n",
    "\n",
    "It stores the grade Values in integer variables and then compares and returns the highest grade.\n"
   ]
  },
  {
   "cell_type": "code",
   "execution_count": 52,
   "metadata": {},
   "outputs": [],
   "source": [
    "// a method that helps check the highest grade\n",
    "public static String bestGrade (String grade1, String grade2)\n",
    "{\n",
    "    int grade1Value = gradeValue(grade1);\n",
    "    int grade2Value = gradeValue(grade2);\n",
    "    if (grade1Value < grade2Value) \n",
    "    {\n",
    "        return grade1;\n",
    "    }\n",
    "    else\n",
    "    {\n",
    "        return grade2;\n",
    "    }\n",
    "}// bestGrade\n"
   ]
  },
  {
   "cell_type": "code",
   "execution_count": 51,
   "metadata": {},
   "outputs": [
    {
     "data": {
      "text/plain": [
       "A"
      ]
     },
     "execution_count": 51,
     "metadata": {},
     "output_type": "execute_result"
    }
   ],
   "source": [
    "bestGrade (\"A\", \"B\")"
   ]
  },
  {
   "cell_type": "markdown",
   "metadata": {},
   "source": [
    "### gradeValue\n",
    "\n",
    "#### What it does\n",
    "It returns the numbers corresponding to the grades so that the grade value can be calculated.\n",
    "\n",
    "#### Implementation (how it works)\n",
    "It is just a series of if conditions that check if the grade equals a certain grade and then returns the numerical value corresponding to the grade."
   ]
  },
  {
   "cell_type": "code",
   "execution_count": 53,
   "metadata": {},
   "outputs": [],
   "source": [
    "// a method that returns the numerical value corresponing to the grade.\n",
    "public static int gradeValue(String grade)\n",
    "{\n",
    "    if (grade.equals(\"A+\"))\n",
    "    {\n",
    "        return 1;\n",
    "    }\n",
    "    else if (grade.equals(\"A\"))\n",
    "    {\n",
    "        return 2;\n",
    "    }\n",
    "    else if (grade.equals(\"B\"))\n",
    "    {\n",
    "        return 3;\n",
    "    }\n",
    "    else if (grade.equals(\"C\"))\n",
    "    {\n",
    "        return 4;\n",
    "    }\n",
    "    else if (grade.equals(\"D\"))\n",
    "    {\n",
    "        return 5;\n",
    "    }\n",
    "    else if (grade.equals(\"F\"))\n",
    "    {\n",
    "        return 6;\n",
    "    }\n",
    "    else if (grade.equals(\"G\"))\n",
    "    {\n",
    "        return 7;\n",
    "    }\n",
    "    else\n",
    "    {\n",
    "        return 8;\n",
    "    }\n",
    "\n",
    "\n",
    "\n",
    "}// END gradeValue\n",
    "    "
   ]
  },
  {
   "cell_type": "markdown",
   "metadata": {},
   "source": [
    "#### Testing"
   ]
  },
  {
   "cell_type": "code",
   "execution_count": 54,
   "metadata": {},
   "outputs": [
    {
     "data": {
      "text/plain": [
       "1"
      ]
     },
     "execution_count": 54,
     "metadata": {},
     "output_type": "execute_result"
    }
   ],
   "source": [
    "gradeValue(\"A+\")"
   ]
  },
  {
   "cell_type": "markdown",
   "metadata": {},
   "source": [
    "### studentGrade\n",
    "\n",
    "#### What it does\n",
    "It asks the user for all the grades of each test and outputs all the grades for theory, dry run and program of both tests. It also displays the highest grade for each test.\n",
    "\n",
    "#### Implementation (how it works)\n",
    "It just calls other methods to ask the user to input their test grades and displays them accordingly. The highest grades are calculated and displayed as well."
   ]
  },
  {
   "cell_type": "code",
   "execution_count": 55,
   "metadata": {},
   "outputs": [],
   "source": [
    "// a method that calls all the other methods to display the student's test results.\n",
    "public static void studentGrade()\n",
    "    {\n",
    "        Scanner scanner = new Scanner(System.in);\n",
    "        System.out.println (\"Test 1: What is your 1st theory grade? 1)A+  2)A  3)B  4)C  5)D  6)F  7)G \");\n",
    "        String Test1TheoryGrade = theoryGrade (scanner);\n",
    "        System.out.println (\"Test 1:  What is your 1st dry run grade? 1)A+  2)A  3)B  4)C  5)D  6)F  7)G \" );\n",
    "        String Test1DryRunGrade = dryRunGrade (scanner);\n",
    "        System.out.println (\"Test 1:  What is your 1st program grade? 1)A+  2)A  3)B  4)C  5)D  6)F  7)G \" );\n",
    "        String Test1ProgramGrade = programGrade (scanner);\n",
    "\n",
    "        System.out.println (\"Your grades were \" + Test1TheoryGrade + \" \" + Test1DryRunGrade + \" \" + Test1ProgramGrade);\n",
    "\n",
    "        String Test2TheoryGrade = theoryGrade (scanner);\n",
    "        System.out.println (\"Test 2: What is your 2nd theory grade? 1)A+  2)A  3)B  4)C  5)D  6)F  7)G \");\n",
    "        String Test2DryRunGrade = dryRunGrade (scanner);\n",
    "        System.out.println (\"Test 2:  What is your 2nd dry run grade? 1)A+  2)A  3)B  4)C  5)D  6)F  7)G \" );\n",
    "        String Test2ProgramGrade = programGrade (scanner);\n",
    "        System.out.println (\"Test 2:  What is your 2nd program grade? 1)A+  2)A  3)B  4)C  5)D  6)F  7)G \" );\n",
    "        \n",
    "        System.out.println (\"Your grades were \" + Test2TheoryGrade + \" \" + Test2DryRunGrade + \" \" + Test2ProgramGrade);\n",
    "\n",
    "        String bestTheoryGrade = bestGrade(Test1TheoryGrade, Test2TheoryGrade);\n",
    "        String bestDryRunGrade = bestGrade(Test1DryRunGrade, Test2DryRunGrade);\n",
    "        String bestProgramGrade = bestGrade(Test1ProgramGrade, Test2ProgramGrade);\n",
    "\n",
    "        System.out.println (\"Your final grades are Theory: \" + bestTheoryGrade + \" Dry Run: \" + bestDryRunGrade + \" Program: \" + bestProgramGrade );\n",
    "        return;\n",
    "    } //END studentGrade"
   ]
  },
  {
   "cell_type": "code",
   "execution_count": 56,
   "metadata": {},
   "outputs": [
    {
     "name": "stdout",
     "output_type": "stream",
     "text": [
      "Test 1: What is your 1st theory grade? 1)A+  2)A  3)B  4)C  5)D  6)F  7)G \n"
     ]
    },
    {
     "name": "stdin",
     "output_type": "stream",
     "text": [
      " 1\n"
     ]
    },
    {
     "name": "stdout",
     "output_type": "stream",
     "text": [
      "Test 1:  What is your 1st dry run grade? 1)A+  2)A  3)B  4)C  5)D  6)F  7)G \n"
     ]
    },
    {
     "name": "stdin",
     "output_type": "stream",
     "text": [
      " 2\n"
     ]
    },
    {
     "name": "stdout",
     "output_type": "stream",
     "text": [
      "Test 1:  What is your 1st program grade? 1)A+  2)A  3)B  4)C  5)D  6)F  7)G \n"
     ]
    },
    {
     "name": "stdin",
     "output_type": "stream",
     "text": [
      " 3\n"
     ]
    },
    {
     "name": "stdout",
     "output_type": "stream",
     "text": [
      "Your grades were A+ A B\n"
     ]
    },
    {
     "name": "stdin",
     "output_type": "stream",
     "text": [
      " 1\n"
     ]
    },
    {
     "name": "stdout",
     "output_type": "stream",
     "text": [
      "Test 2: What is your 2nd theory grade? 1)A+  2)A  3)B  4)C  5)D  6)F  7)G \n"
     ]
    },
    {
     "name": "stdin",
     "output_type": "stream",
     "text": [
      " 2\n"
     ]
    },
    {
     "name": "stdout",
     "output_type": "stream",
     "text": [
      "Test 2:  What is your 2nd dry run grade? 1)A+  2)A  3)B  4)C  5)D  6)F  7)G \n"
     ]
    },
    {
     "name": "stdin",
     "output_type": "stream",
     "text": [
      " 3\n"
     ]
    },
    {
     "name": "stdout",
     "output_type": "stream",
     "text": [
      "Test 2:  What is your 2nd program grade? 1)A+  2)A  3)B  4)C  5)D  6)F  7)G \n",
      "Your grades were A+ A B\n",
      "Your final grades are Theory: A+ Dry Run: A Program: B\n"
     ]
    }
   ],
   "source": [
    "studentGrade();"
   ]
  },
  {
   "cell_type": "markdown",
   "metadata": {},
   "source": [
    "### Running the program\n",
    "Run the following call to simulate running the complete program."
   ]
  },
  {
   "cell_type": "code",
   "execution_count": 57,
   "metadata": {},
   "outputs": [
    {
     "name": "stdout",
     "output_type": "stream",
     "text": [
      "Test 1: What is your 1st theory grade? 1)A+  2)A  3)B  4)C  5)D  6)F  7)G \n"
     ]
    },
    {
     "name": "stdin",
     "output_type": "stream",
     "text": [
      " 1\n"
     ]
    },
    {
     "name": "stdout",
     "output_type": "stream",
     "text": [
      "Test 1:  What is your 1st dry run grade? 1)A+  2)A  3)B  4)C  5)D  6)F  7)G \n"
     ]
    },
    {
     "name": "stdin",
     "output_type": "stream",
     "text": [
      " 2\n"
     ]
    },
    {
     "name": "stdout",
     "output_type": "stream",
     "text": [
      "Test 1:  What is your 1st program grade? 1)A+  2)A  3)B  4)C  5)D  6)F  7)G \n"
     ]
    },
    {
     "name": "stdin",
     "output_type": "stream",
     "text": [
      " 3\n"
     ]
    },
    {
     "name": "stdout",
     "output_type": "stream",
     "text": [
      "Your grades were A+ A B\n"
     ]
    },
    {
     "name": "stdin",
     "output_type": "stream",
     "text": [
      " 4\n"
     ]
    },
    {
     "name": "stdout",
     "output_type": "stream",
     "text": [
      "Test 2: What is your 2nd theory grade? 1)A+  2)A  3)B  4)C  5)D  6)F  7)G \n"
     ]
    },
    {
     "name": "stdin",
     "output_type": "stream",
     "text": [
      " 5\n"
     ]
    },
    {
     "name": "stdout",
     "output_type": "stream",
     "text": [
      "Test 2:  What is your 2nd dry run grade? 1)A+  2)A  3)B  4)C  5)D  6)F  7)G \n"
     ]
    },
    {
     "name": "stdin",
     "output_type": "stream",
     "text": [
      " 6\n"
     ]
    },
    {
     "name": "stdout",
     "output_type": "stream",
     "text": [
      "Test 2:  What is your 2nd program grade? 1)A+  2)A  3)B  4)C  5)D  6)F  7)G \n",
      "Your grades were C D F\n",
      "Your final grades are Theory: A+ Dry Run: A Program: B\n"
     ]
    }
   ],
   "source": [
    "studentGrade();"
   ]
  },
  {
   "cell_type": "markdown",
   "metadata": {},
   "source": [
    "## The complete program \n",
    "This version will only compile here. To run it copy it into a file called initials.java on your local computer and compile and run it there."
   ]
  },
  {
   "cell_type": "code",
   "execution_count": 1,
   "metadata": {},
   "outputs": [],
   "source": [
    "/* **********************\n",
    "  @author    Hansel Rodrigues\n",
    "  @SID       230603866\n",
    "  @date      17 September 2023\n",
    "  @version   1\n",
    "\n",
    "    This is a  program that displays a student's grade in various tests and also outputs the highest grade.\n",
    "   ********************/\n",
    "\n",
    "class studentGrades\n",
    "{\n",
    "    public static void main (String [] a)\n",
    "    {\n",
    "        studentGrade();\n",
    "        return;\n",
    "    } // END main\n",
    "    \n",
    "    // a method that calls all the other methods to display the student's test results.\n",
    "    public static void studentGrade()\n",
    "    {\n",
    "        Scanner scanner = new Scanner(System.in);\n",
    "        System.out.println (\"Test 1: What is your 1st theory grade? 1)A+  2)A  3)B  4)C  5)D  6)F  7)G \");\n",
    "        String Test1TheoryGrade = theoryGrade (scanner);\n",
    "        System.out.println (\"Test 1:  What is your 1st dry run grade? 1)A+  2)A  3)B  4)C  5)D  6)F  7)G \" );\n",
    "        String Test1DryRunGrade = dryRunGrade (scanner);\n",
    "        System.out.println (\"Test 1:  What is your 1st program grade? 1)A+  2)A  3)B  4)C  5)D  6)F  7)G \" );\n",
    "        String Test1ProgramGrade = programGrade (scanner);\n",
    "\n",
    "        System.out.println (\"Your grades were \" + Test1TheoryGrade + \" \" + Test1DryRunGrade + \" \" + Test1ProgramGrade);\n",
    "\n",
    "        String Test2TheoryGrade = theoryGrade (scanner);\n",
    "        System.out.println (\"Test 2: What is your 2nd theory grade? 1)A+  2)A  3)B  4)C  5)D  6)F  7)G \");\n",
    "        String Test2DryRunGrade = dryRunGrade (scanner);\n",
    "        System.out.println (\"Test 2:  What is your 2nd dry run grade? 1)A+  2)A  3)B  4)C  5)D  6)F  7)G \" );\n",
    "        String Test2ProgramGrade = programGrade (scanner);\n",
    "        System.out.println (\"Test 2:  What is your 2nd program grade? 1)A+  2)A  3)B  4)C  5)D  6)F  7)G \" );\n",
    "        \n",
    "        System.out.println (\"Your grades were \" + Test2TheoryGrade + \" \" + Test2DryRunGrade + \" \" + Test2ProgramGrade);\n",
    "\n",
    "        final String bestTheoryGrade = bestGrade(Test1TheoryGrade, Test2TheoryGrade);\n",
    "        final String bestDryRunGrade = bestGrade(Test1DryRunGrade, Test2DryRunGrade);\n",
    "        final String bestProgramGrade = bestGrade(Test1ProgramGrade, Test2ProgramGrade);\n",
    "\n",
    "        System.out.println (\"Your final grades are Theory: \" + bestTheoryGrade + \" Dry Run: \" + bestDryRunGrade + \" Program: \" + bestProgramGrade );\n",
    "        return;\n",
    "    } //END studentGrade\n",
    "\n",
    "    // a method that asks the user for input and returns the theory grade\n",
    "    public static String theoryGrade (Scanner scanner)\n",
    "    {\n",
    "    \n",
    "        int theorySelectionGrade = scanner.nextInt();\n",
    "    \n",
    "        if (theorySelectionGrade == 1)\n",
    "        {\n",
    "            return \"A+\";\n",
    "        }\n",
    "        else  if (theorySelectionGrade == 2)\n",
    "        {\n",
    "            return \"A\";\n",
    "        }\n",
    "        else if (theorySelectionGrade == 3)\n",
    "        {\n",
    "            return \"B\";\n",
    "        }\n",
    "         else if (theorySelectionGrade == 4)\n",
    "        {\n",
    "            return \"C\";\n",
    "        }\n",
    "         else if (theorySelectionGrade == 5)\n",
    "        {\n",
    "            return \"D\";\n",
    "        }\n",
    "        else if (theorySelectionGrade == 6)\n",
    "        {\n",
    "            return \"F\";\n",
    "        }\n",
    "        else if (theorySelectionGrade == 7)\n",
    "        {\n",
    "            return \"G\";\n",
    "        }\n",
    "        else\n",
    "        {\n",
    "            System.out.println (\"Re-enter grade selection \");\n",
    "            return theoryGrade(scanner);\n",
    "        }\n",
    "    } //END theoryGrade\n",
    "\n",
    "    // a method that asks the user for input and returns the dry run grade\n",
    "    public static String dryRunGrade (Scanner scanner)\n",
    "{\n",
    "    \n",
    "    int dryRunSelection = scanner.nextInt();\n",
    "    \n",
    "    if (dryRunSelection == 1)\n",
    "    {\n",
    "        return \"A+\";\n",
    "    }\n",
    "    else  if (dryRunSelection == 2)\n",
    "    {\n",
    "         return \"A\";\n",
    "    }\n",
    "    else if (dryRunSelection == 3)\n",
    "    {\n",
    "         return \"B\";\n",
    "    }\n",
    "     else if (dryRunSelection == 4)\n",
    "    {\n",
    "         return \"C\";\n",
    "    }\n",
    "     else if (dryRunSelection == 5)\n",
    "    {\n",
    "         return \"D\";\n",
    "    }\n",
    "     else if (dryRunSelection == 6)\n",
    "    {\n",
    "         return \"F\";\n",
    "    }\n",
    "    else if (dryRunSelection == 7)\n",
    "    {\n",
    "         return \"G\";\n",
    "    }\n",
    "    else\n",
    "    {\n",
    "        System.out.println (\"Re-enter grade selection\" + dryRunSelection);\n",
    "        return dryRunGrade(scanner);\n",
    "    } \n",
    "    \n",
    "   \n",
    "} //END dryRunGrade\n",
    "\n",
    "    // a method that asks the user for input and returns the program grade\n",
    "    public static String programGrade (Scanner scanner)\n",
    "{\n",
    "    \n",
    "    int programSelection = scanner.nextInt();\n",
    "    \n",
    "    if (programSelection == 1)\n",
    "    {\n",
    "        return \"A+\";\n",
    "    }\n",
    "    else  if (programSelection == 2)\n",
    "    {\n",
    "        return \"A\";\n",
    "    }\n",
    "    else if (programSelection == 3)\n",
    "    {\n",
    "        return \"B\";\n",
    "    }\n",
    "     else if (programSelection == 4)\n",
    "    {\n",
    "        return \"C\";\n",
    "    }\n",
    "     else if (programSelection == 5)\n",
    "    {\n",
    "        return \"D\";\n",
    "    }\n",
    "     else if (programSelection == 6)\n",
    "    {\n",
    "        return \"F\";\n",
    "    }\n",
    "    else if (programSelection == 7)\n",
    "    {\n",
    "        return \"G\";\n",
    "    }\n",
    "    else\n",
    "    {\n",
    "        System.out.println (\"Re-enter grade selection\" + programSelection);\n",
    "        return programGrade(scanner);\n",
    "        \n",
    "    }\n",
    "    \n",
    "    \n",
    "} //END programGrade\n",
    "\n",
    "    // a method that helps check the highest grade\n",
    "    public static String bestGrade (String grade1, String grade2)\n",
    "{\n",
    "    int grade1Value = gradeValue (grade1);\n",
    "    int grade2Value = gradeValue (grade2);\n",
    "    if (grade1Value < grade2Value) \n",
    "    {\n",
    "        return grade1;\n",
    "    }\n",
    "    else\n",
    "    {\n",
    "        return grade2;\n",
    "    }\n",
    "} //END bestGrade\n",
    "\n",
    "    // a method that returns the numerical value corresponing to the grade.\n",
    "    public static int gradeValue(String grade)\n",
    "{\n",
    "        if (grade.equals(\"A+\"))\n",
    "        {\n",
    "            return 1;\n",
    "        }\n",
    "        else if (grade.equals(\"A\"))\n",
    "        {\n",
    "            return 2;\n",
    "        }\n",
    "        else if (grade.equals(\"B\"))\n",
    "        {\n",
    "            return 3;\n",
    "        }\n",
    "        else if (grade.equals(\"C\"))\n",
    "        {\n",
    "            return 4;\n",
    "        }\n",
    "        else if (grade.equals(\"D\"))\n",
    "        {\n",
    "            return 5;\n",
    "        }\n",
    "        else if (grade.equals(\"F\"))\n",
    "        {\n",
    "            return 6;\n",
    "        }\n",
    "        else if (grade.equals(\"G\"))\n",
    "        {\n",
    "            return 7;\n",
    "        }\n",
    "        else\n",
    "        {\n",
    "            return 8;\n",
    "        }\n",
    "\n",
    "\n",
    "\n",
    "} // END gradeValue\n",
    "\n",
    "} \n",
    "\n",
    "\n"
   ]
  },
  {
   "cell_type": "code",
   "execution_count": 2,
   "metadata": {},
   "outputs": [
    {
     "name": "stdout",
     "output_type": "stream",
     "text": [
      "Test 1: What is your 1st theory grade? 1)A+  2)A  3)B  4)C  5)D  6)F  7)G \n"
     ]
    },
    {
     "name": "stdin",
     "output_type": "stream",
     "text": [
      " 4\n"
     ]
    },
    {
     "name": "stdout",
     "output_type": "stream",
     "text": [
      "Test 1:  What is your 1st dry run grade? 1)A+  2)A  3)B  4)C  5)D  6)F  7)G \n"
     ]
    },
    {
     "name": "stdin",
     "output_type": "stream",
     "text": [
      " 2\n"
     ]
    },
    {
     "name": "stdout",
     "output_type": "stream",
     "text": [
      "Test 1:  What is your 1st program grade? 1)A+  2)A  3)B  4)C  5)D  6)F  7)G \n"
     ]
    },
    {
     "name": "stdin",
     "output_type": "stream",
     "text": [
      " 6\n"
     ]
    },
    {
     "name": "stdout",
     "output_type": "stream",
     "text": [
      "Your grades were C A F\n"
     ]
    },
    {
     "name": "stdin",
     "output_type": "stream",
     "text": [
      " 4\n"
     ]
    },
    {
     "name": "stdout",
     "output_type": "stream",
     "text": [
      "Test 2: What is your 2nd theory grade? 1)A+  2)A  3)B  4)C  5)D  6)F  7)G \n"
     ]
    },
    {
     "name": "stdin",
     "output_type": "stream",
     "text": [
      " 3\n"
     ]
    },
    {
     "name": "stdout",
     "output_type": "stream",
     "text": [
      "Test 2:  What is your 2nd dry run grade? 1)A+  2)A  3)B  4)C  5)D  6)F  7)G \n"
     ]
    },
    {
     "name": "stdin",
     "output_type": "stream",
     "text": [
      " 5\n"
     ]
    },
    {
     "name": "stdout",
     "output_type": "stream",
     "text": [
      "Test 2:  What is your 2nd program grade? 1)A+  2)A  3)B  4)C  5)D  6)F  7)G \n",
      "Your grades were C B D\n",
      "Your final grades are Theory: C Dry Run: A Program: D\n"
     ]
    }
   ],
   "source": [
    "studentGrades.main(null);"
   ]
  },
  {
   "cell_type": "markdown",
   "metadata": {},
   "source": [
    "**END OF LITERATE DOCUMENT**"
   ]
  }
 ],
 "metadata": {
  "kernelspec": {
   "display_name": "Java",
   "language": "java",
   "name": "java"
  },
  "language_info": {
   "codemirror_mode": "java",
   "file_extension": ".jshell",
   "mimetype": "text/x-java-source",
   "name": "Java",
   "pygments_lexer": "java",
   "version": "11.0.8+10-LTS"
  }
 },
 "nbformat": 4,
 "nbformat_minor": 4
}
