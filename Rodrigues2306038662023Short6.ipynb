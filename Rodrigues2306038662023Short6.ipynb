{
 "cells": [
  {
   "cell_type": "markdown",
   "metadata": {},
   "source": [
    "# Short Assessed Exercise\n",
    "# Level  6\n",
    "## Hansel Rodrigues\n",
    "## Student ID: 230603866\n",
    "## Version 1 (7 November 2023)\n",
    "\n"
   ]
  },
  {
   "cell_type": "markdown",
   "metadata": {},
   "source": [
    "## Summary of the Question \n",
    "\n",
    "Write a program that ...\n",
    "\n",
    "The program MUST be structured as a series of methods where the first method calls a series of others in turn. They will either get values and return results back to the first method, or take arguments and return calculated results or take arguments and print results. \n",
    "\n",
    "The first method uses the returned values to pass arguments to the next method."
   ]
  },
  {
   "cell_type": "markdown",
   "metadata": {},
   "source": [
    "## Justification that the program passes this level\n",
    "This is based on tick boxes at start of the question description for short program level 2\n",
    "I can \n",
    "- Write a literate version of the code.\n",
    "- EXPLAIN HOW YOUR PROGRAM WORKS \n",
    "- Use input instructions\n",
    "- Use assignment and variables\n",
    "- Use final variables to store literal values rather than values appearing through the code.\n",
    "- Define all variables inside methods\n",
    "- Use arithmetic expressions\n",
    "- Split code in to methods at least one of which takes arguments and returns a result\n",
    "- Make simple use of comments – at least the author’s name, student number and date and an explanation of what the program does overall"
   ]
  },
  {
   "cell_type": "markdown",
   "metadata": {},
   "source": [
    "## The literate program development"
   ]
  },
  {
   "cell_type": "markdown",
   "metadata": {},
   "source": [
    "### lapTimesRecordings\n",
    "\n",
    "#### What it does\n",
    "This method accepts user input (lap times) and uses it to calculate the difference between 2 laps and returns the values to the allLapMethod.\n",
    "#### Implementation (how it works)\n",
    "It just asks the user their lap times and adds their lap times to an array. There are if conditions in place to ensure that lap times entered are valid and that the summary is displayed when the special code is entered. There is also a condition to ensure that more than one lap has been entered to calculate the difference between laps.\n",
    "\n",
    "\n"
   ]
  },
  {
   "cell_type": "code",
   "execution_count": 11,
   "metadata": {},
   "outputs": [],
   "source": [
    "// A method that accepts user input (lap times) and uses it to calculate the difference between 2 laps and returns the values to the allLapMethod.\n",
    "//\n",
    "public static int lapTimesRecordings (Scanner scanner, int lapNumber, int[] lapTimes, int lapCount)\n",
    "{\n",
    "    System.out.println(\"What was the lap time \" + lapNumber + \"(in s)? \");\n",
    "    String userInput = scanner.nextLine();\n",
    "    if (userInput.equals (\"XXX\"))\n",
    "    {\n",
    "        return -1;\n",
    "    }\n",
    "    else\n",
    "    {\n",
    "        int lapTime = userInputStrToInt (userInput);\n",
    "        if (lapTime >= 0) \n",
    "        {\n",
    "            lapTimes[lapCount] = lapTime; //adds each lap time to the lapTimes array \n",
    "        \n",
    "            if (lapCount > 0) //checks that more than 1 lap has been entered so that difference can be calculated\n",
    "            {\n",
    "                int difference = timeDifference (lapTimes, lapCount); // calculates difference\n",
    "                System.out.println(\"Difference \" + difference + \" seconds\");\n",
    "            }\n",
    "            return lapTime;\n",
    "        }\n",
    "        else\n",
    "        {\n",
    "            System.out.println(\"Please enter a valid number or enter the special code XXX to stop the program.\");\n",
    "            return lapTimesRecordings (scanner, lapNumber, lapTimes, lapCount);\n",
    "        }\n",
    "        \n",
    "    }\n",
    "} //END lapTimeRecordings\n",
    "\n"
   ]
  },
  {
   "cell_type": "markdown",
   "metadata": {},
   "source": [
    "#### Testing"
   ]
  },
  {
   "cell_type": "code",
   "execution_count": 12,
   "metadata": {},
   "outputs": [
    {
     "name": "stdout",
     "output_type": "stream",
     "text": [
      "What was the lap time 2(in s)? \n"
     ]
    },
    {
     "name": "stdin",
     "output_type": "stream",
     "text": [
      " 2\n"
     ]
    },
    {
     "name": "stdout",
     "output_type": "stream",
     "text": [
      "Difference 119 seconds\n"
     ]
    },
    {
     "data": {
      "text/plain": [
       "2"
      ]
     },
     "execution_count": 12,
     "metadata": {},
     "output_type": "execute_result"
    }
   ],
   "source": [
    "Scanner scanner = new Scanner(System.in);\n",
    "int[] lapTimes = {121,123,124};\n",
    "lapTimesRecordings (scanner, 2, lapTimes, 1)"
   ]
  },
  {
   "cell_type": "markdown",
   "metadata": {},
   "source": [
    "### userInputStrToInt\n",
    "\n",
    "#### What it does\n",
    "This method just converts the user's input from string to integer.\n",
    "\n",
    "#### Implementation (how it works)\n",
    "It just converts the value stored in lap time from string to integer and stores it in lap time and returns it.\n",
    "\n",
    "\n"
   ]
  },
  {
   "cell_type": "code",
   "execution_count": 3,
   "metadata": {},
   "outputs": [],
   "source": [
    "// A method that converts the string input to integer input\n",
    "//\n",
    "public static int userInputStrToInt (String userInput)\n",
    "{\n",
    "    int lapTime = -1;\n",
    "    lapTime = Integer.parseInt(userInput);\n",
    "    \n",
    "    return lapTime;\n",
    "    \n",
    "} //END userInputStrToInt\n"
   ]
  },
  {
   "cell_type": "markdown",
   "metadata": {},
   "source": [
    "#### Testing"
   ]
  },
  {
   "cell_type": "code",
   "execution_count": 4,
   "metadata": {
    "jp-MarkdownHeadingCollapsed": true
   },
   "outputs": [
    {
     "data": {
      "text/plain": [
       "1234"
      ]
     },
     "execution_count": 4,
     "metadata": {},
     "output_type": "execute_result"
    }
   ],
   "source": [
    "userInputStrToInt (\"1234\");"
   ]
  },
  {
   "cell_type": "markdown",
   "metadata": {},
   "source": [
    "#### timeDifference\n",
    "\n",
    "#### What it does\n",
    "This method calculates the difference between two laps and returns it.\n",
    "#### Implementation (how it works)\n",
    "This method calculates the difference between two laps, and makes sure that only positive number can be returned.\n"
   ]
  },
  {
   "cell_type": "code",
   "execution_count": 5,
   "metadata": {},
   "outputs": [],
   "source": [
    "// A method that calculates the difference between two laps and returns the difference\n",
    "public static int timeDifference (int[] lapTimes, int lapCount)\n",
    "{\n",
    "    return Math.abs(lapTimes[lapCount]-lapTimes[lapCount-1]);\n",
    "    \n",
    "    \n",
    "} //END timeDifference\n",
    "\n"
   ]
  },
  {
   "cell_type": "markdown",
   "metadata": {},
   "source": [
    "#### Testing"
   ]
  },
  {
   "cell_type": "code",
   "execution_count": 6,
   "metadata": {},
   "outputs": [
    {
     "data": {
      "text/plain": [
       "2"
      ]
     },
     "execution_count": 6,
     "metadata": {},
     "output_type": "execute_result"
    }
   ],
   "source": [
    "int[] lapTimes = {123,121,124};\n",
    "timeDifference(lapTimes, 1);"
   ]
  },
  {
   "cell_type": "markdown",
   "metadata": {},
   "source": [
    "### lapTotalTime\n",
    "\n",
    "#### What it does\n",
    "This method uses calculates the total time and returns it.\n",
    "#### Implementation (how it works)\n",
    "It just uses a for loop to go through each lap time stores in the lapTimes array and adds it to the totalTime variable and returns it after the loop condition fails.\n"
   ]
  },
  {
   "cell_type": "code",
   "execution_count": 7,
   "metadata": {},
   "outputs": [],
   "source": [
    "// a method that calculates the total time\n",
    "public static int lapTotalTime (int[] lapTimes, int lapCount)\n",
    "{\n",
    "    int totalTime = 0;\n",
    "    for (int i = 0; i < lapCount; i++) // loops through each lap's time and adds it to totalTime below\n",
    "    {\n",
    "        totalTime = totalTime + lapTimes[i];\n",
    "            \n",
    "    }\n",
    "    return totalTime;\n",
    "    \n",
    "} // END lapTotalTime\n"
   ]
  },
  {
   "cell_type": "markdown",
   "metadata": {},
   "source": [
    "Testing"
   ]
  },
  {
   "cell_type": "code",
   "execution_count": 8,
   "metadata": {},
   "outputs": [
    {
     "data": {
      "text/plain": [
       "244"
      ]
     },
     "execution_count": 8,
     "metadata": {},
     "output_type": "execute_result"
    }
   ],
   "source": [
    "int[] lapTimes = {121,123,124};\n",
    "lapTotalTime (lapTimes, 2)"
   ]
  },
  {
   "cell_type": "markdown",
   "metadata": {},
   "source": [
    "### summary\n",
    "\n",
    "#### What it does\n",
    "This method just prints the summary (total laps and total time taken for the laps).\n",
    "#### Implementation (how it works)\n",
    "It just calls the lapTotalTime method and stores the value in totalTime and displays it using print statements."
   ]
  },
  {
   "cell_type": "code",
   "execution_count": 4,
   "metadata": {},
   "outputs": [],
   "source": [
    "// a method that outputs the number of laps and the total time ran today\n",
    "public static void summary (int[] lapTimes, int lapCount)\n",
    "{\n",
    "    int totalTime = lapTotalTime (lapTimes, lapCount);\n",
    "    System.out.println(\"You did \" + lapCount + \" laps. Your total time today was \" + totalTime + \"s\");\n",
    "    return;\n",
    "} //END summary"
   ]
  },
  {
   "cell_type": "code",
   "execution_count": 10,
   "metadata": {},
   "outputs": [
    {
     "name": "stdout",
     "output_type": "stream",
     "text": [
      "You did 2 laps. Your total time today was 244 s\n"
     ]
    }
   ],
   "source": [
    "int[] lapTimes = {121,123,124};\n",
    "summary (lapTimes, 2);"
   ]
  },
  {
   "cell_type": "markdown",
   "metadata": {},
   "source": [
    "### AllLapTimes\n",
    "\n",
    "#### What it does\n",
    "This method just prints the required output (lap time for each lap) and calculates the difference and outputs the total laps and total time.\n",
    "#### Implementation (how it works)\n",
    "It just uses a while loop to go through each lap and stores the value returned from the lapTimesRecordings method in the lapTime variable. It then uses the value stored in lapTime to check if the special code should be applied and continues asking for more lap times otherwise. Lastly it outputs the total laps and total time."
   ]
  },
  {
   "cell_type": "code",
   "execution_count": 23,
   "metadata": {},
   "outputs": [],
   "source": [
    "// a method that outputs all the lap times and also checks for the special code (XXX)\n",
    "public static void AllLapTimes ()\n",
    "{\n",
    "    Scanner scanner = new Scanner (System.in);\n",
    "    int[] lapTimes = new int[50];\n",
    "    int lapCount = 0;\n",
    "    boolean specialCode = false;\n",
    "    System.out.println(\"Training Run Data\");\n",
    "    System.out.println(\"-----------------\");\n",
    "\n",
    "    while (lapCount < lapTimes.length && !specialCode)\n",
    "    {\n",
    "        int lapTime = lapTimesRecordings (scanner, lapCount+1, lapTimes, lapCount);\n",
    "        if (lapTime == -1)\n",
    "        {\n",
    "            specialCode = true;\n",
    "         \n",
    "        }\n",
    "        else\n",
    "        {\n",
    "            lapCount = lapCount + 1;\n",
    "        }\n",
    "        \n",
    "    }\n",
    "    summary (lapTimes, lapCount);\n",
    "    return;\n",
    "    \n",
    "    \n",
    "    \n",
    "} //AllLapTimes"
   ]
  },
  {
   "cell_type": "code",
   "execution_count": 22,
   "metadata": {},
   "outputs": [
    {
     "name": "stdout",
     "output_type": "stream",
     "text": [
      "Training Run Data\n",
      "-----------------\n",
      "What was the lap time 1(in s)? \n"
     ]
    },
    {
     "name": "stdin",
     "output_type": "stream",
     "text": [
      " 1243\n"
     ]
    },
    {
     "name": "stdout",
     "output_type": "stream",
     "text": [
      "What was the lap time 2(in s)? \n"
     ]
    },
    {
     "name": "stdin",
     "output_type": "stream",
     "text": [
      " 1245\n"
     ]
    },
    {
     "name": "stdout",
     "output_type": "stream",
     "text": [
      "Difference 2 seconds\n",
      "What was the lap time 3(in s)? \n"
     ]
    },
    {
     "name": "stdin",
     "output_type": "stream",
     "text": [
      " 1220\n"
     ]
    },
    {
     "name": "stdout",
     "output_type": "stream",
     "text": [
      "Difference 25 seconds\n",
      "What was the lap time 4(in s)? \n"
     ]
    },
    {
     "name": "stdin",
     "output_type": "stream",
     "text": [
      " 1227\n"
     ]
    },
    {
     "name": "stdout",
     "output_type": "stream",
     "text": [
      "Difference 7 seconds\n",
      "What was the lap time 5(in s)? \n"
     ]
    },
    {
     "name": "stdin",
     "output_type": "stream",
     "text": [
      " XXX\n"
     ]
    },
    {
     "name": "stdout",
     "output_type": "stream",
     "text": [
      "You did 4 laps. Your total time today was 4935 s\n"
     ]
    }
   ],
   "source": [
    "AllLapTimes ();"
   ]
  },
  {
   "cell_type": "markdown",
   "metadata": {},
   "source": [
    "### Running the program\n",
    "Run the following call to simulate running the complete program."
   ]
  },
  {
   "cell_type": "code",
   "execution_count": 24,
   "metadata": {},
   "outputs": [
    {
     "name": "stdout",
     "output_type": "stream",
     "text": [
      "Training Run Data\n",
      "-----------------\n",
      "What was the lap time 1(in s)? \n"
     ]
    },
    {
     "name": "stdin",
     "output_type": "stream",
     "text": [
      " 123\n"
     ]
    },
    {
     "name": "stdout",
     "output_type": "stream",
     "text": [
      "What was the lap time 2(in s)? \n"
     ]
    },
    {
     "name": "stdin",
     "output_type": "stream",
     "text": [
      " 121\n"
     ]
    },
    {
     "name": "stdout",
     "output_type": "stream",
     "text": [
      "Difference 2 seconds\n",
      "What was the lap time 3(in s)? \n"
     ]
    },
    {
     "name": "stdin",
     "output_type": "stream",
     "text": [
      " 2\n"
     ]
    },
    {
     "name": "stdout",
     "output_type": "stream",
     "text": [
      "Difference 119 seconds\n",
      "What was the lap time 4(in s)? \n"
     ]
    },
    {
     "name": "stdin",
     "output_type": "stream",
     "text": [
      " XXX\n"
     ]
    },
    {
     "name": "stdout",
     "output_type": "stream",
     "text": [
      "You did 3 laps. Your total time today was 246 s\n"
     ]
    }
   ],
   "source": [
    "AllLapTimes ();"
   ]
  },
  {
   "cell_type": "markdown",
   "metadata": {},
   "source": [
    "## The complete program \n",
    "This version will only compile here. To run it copy it into a file called initials.java on your local computer and compile and run it there."
   ]
  },
  {
   "cell_type": "code",
   "execution_count": 12,
   "metadata": {},
   "outputs": [],
   "source": [
    "/* **********************\n",
    "  @author    Hansel Rodrigues\n",
    "  @SID       230603866\n",
    "  @date      7 November 2023\n",
    "  @version   1\n",
    "\n",
    "This is a  program that asks the user for their lap times and calculates the difference and show a summary of their lap times when a special code is entered.\n",
    "   ********************/\n",
    "\n",
    "class trainingRun\n",
    "{\n",
    "    public static void main (String [] a)\n",
    "    {\n",
    "        AllLapTimes ();\n",
    "        return;\n",
    "    } // END main\n",
    "    \n",
    "    // a method that outputs all the lap times and also checks for the special code (XXX)\n",
    "    public static void AllLapTimes ()\n",
    "    {\n",
    "        Scanner scanner = new Scanner (System.in);\n",
    "        int[] lapTimes = new int[50];\n",
    "        int lapCount = 0;\n",
    "        boolean specialCode = false;\n",
    "        System.out.println(\"Training Run Data\");\n",
    "        System.out.println(\"-----------------\");\n",
    "\n",
    "        while (lapCount < lapTimes.length && !specialCode)\n",
    "        {\n",
    "            int lapTime = lapTimesRecordings (scanner, lapCount+1, lapTimes, lapCount);\n",
    "            if (lapTime == -1)\n",
    "            {\n",
    "                specialCode = true;\n",
    "         \n",
    "            }\n",
    "            else\n",
    "            {\n",
    "                lapCount = lapCount + 1;\n",
    "            }\n",
    "        \n",
    "        }\n",
    "        summary (lapTimes, lapCount);\n",
    "        return;\n",
    "    \n",
    "    \n",
    "    \n",
    "    } //END AllLapTimes\n",
    "\n",
    "    // A method that accepts user input (lap times) and uses it to calculate the difference between 2 laps and returns the values to the allLapMethod.\n",
    "    //\n",
    "    public static int lapTimesRecordings (Scanner scanner, int lapNumber, int[] lapTimes, int lapCount)\n",
    "    {\n",
    "        System.out.println(\"What was the lap time \" + lapNumber + \"(in s)? \");\n",
    "        String userInput = scanner.nextLine();\n",
    "        final String code = \"XXX\";\n",
    "        if (userInput.equals (code))\n",
    "        {\n",
    "            return -1;\n",
    "        }\n",
    "        else\n",
    "        {\n",
    "            int lapTime = userInputStrToInt (userInput);\n",
    "            if (lapTime >= 0) \n",
    "            {\n",
    "                lapTimes[lapCount] = lapTime; //adds each lap time to the lapTimes array \n",
    "        \n",
    "                if (lapCount > 0) //checks that more than 1 lap has been entered so that difference can be calculated\n",
    "                {\n",
    "                    int difference = timeDifference (lapTimes, lapCount); // calculates difference\n",
    "                    System.out.println(\"Difference \" + difference + \" seconds\");\n",
    "                }\n",
    "                return lapTime;\n",
    "            }\n",
    "            else\n",
    "            {\n",
    "                System.out.println(\"Please enter a valid number or enter the special code XXX to stop the program.\");\n",
    "                return lapTimesRecordings (scanner, lapNumber, lapTimes, lapCount);\n",
    "            }\n",
    "        \n",
    "        }\n",
    "    } //END lapTimeRecordings\n",
    "\n",
    "    // A method that converts the string input to integer input\n",
    "    //\n",
    "    public static int userInputStrToInt (String userInput)\n",
    "    {\n",
    "        int lapTime = -1;\n",
    "        lapTime = Integer.parseInt(userInput);\n",
    "    \n",
    "        return lapTime;\n",
    "    \n",
    "    } //END userInputStrToInt\n",
    "\n",
    "    // A method that calculates the difference between two laps and returns the difference\n",
    "    public static int timeDifference (int[] lapTimes, int lapCount)\n",
    "    {\n",
    "        return Math.abs(lapTimes[lapCount]-lapTimes[lapCount-1]);\n",
    "    \n",
    "    \n",
    "    } //END timeDifference\n",
    "\n",
    "    // a method that calculates the total time\n",
    "    public static int lapTotalTime (int[] lapTimes, int lapCount)\n",
    "    {\n",
    "        int totalTime = 0;\n",
    "        for (int i = 0; i < lapCount; i++) // loops through each lap's time and adds it to totalTime below\n",
    "        {\n",
    "            totalTime = totalTime + lapTimes[i];\n",
    "            \n",
    "        }\n",
    "        return totalTime;\n",
    "    \n",
    "    } // END lapTotalTime\n",
    "\n",
    "    // a method that outputs the number of laps and the total time ran today\n",
    "    public static void summary (int[] lapTimes, int lapCount)\n",
    "    {\n",
    "        int totalTime = lapTotalTime (lapTimes, lapCount);\n",
    "        System.out.println(\"You did \" + lapCount + \" laps. Your total time today was \" + totalTime + \"s\");\n",
    "        return;\n",
    "    } //END summary\n",
    "     \n",
    "    \n",
    "    \n",
    "\n",
    "\n",
    "\n",
    "    \n",
    "    \n",
    "} // END class trainingRun\n"
   ]
  },
  {
   "cell_type": "code",
   "execution_count": 13,
   "metadata": {},
   "outputs": [
    {
     "name": "stdout",
     "output_type": "stream",
     "text": [
      "Training Run Data\n",
      "-----------------\n",
      "What was the lap time 1(in s)? \n"
     ]
    },
    {
     "name": "stdin",
     "output_type": "stream",
     "text": [
      " 1243\n"
     ]
    },
    {
     "name": "stdout",
     "output_type": "stream",
     "text": [
      "What was the lap time 2(in s)? \n"
     ]
    },
    {
     "name": "stdin",
     "output_type": "stream",
     "text": [
      " 1245\n"
     ]
    },
    {
     "name": "stdout",
     "output_type": "stream",
     "text": [
      "Difference 2 seconds\n",
      "What was the lap time 3(in s)? \n"
     ]
    },
    {
     "name": "stdin",
     "output_type": "stream",
     "text": [
      " 1220\n"
     ]
    },
    {
     "name": "stdout",
     "output_type": "stream",
     "text": [
      "Difference 25 seconds\n",
      "What was the lap time 4(in s)? \n"
     ]
    },
    {
     "name": "stdin",
     "output_type": "stream",
     "text": [
      " 1227\n"
     ]
    },
    {
     "name": "stdout",
     "output_type": "stream",
     "text": [
      "Difference 7 seconds\n",
      "What was the lap time 5(in s)? \n"
     ]
    },
    {
     "name": "stdin",
     "output_type": "stream",
     "text": [
      " XXX\n"
     ]
    },
    {
     "name": "stdout",
     "output_type": "stream",
     "text": [
      "You did 4 laps. Your total time today was 4935s\n"
     ]
    }
   ],
   "source": [
    "trainingRun.main(null);"
   ]
  },
  {
   "cell_type": "markdown",
   "metadata": {},
   "source": [
    "**END OF LITERATE DOCUMENT**"
   ]
  }
 ],
 "metadata": {
  "kernelspec": {
   "display_name": "Java",
   "language": "java",
   "name": "java"
  },
  "language_info": {
   "codemirror_mode": "java",
   "file_extension": ".jshell",
   "mimetype": "text/x-java-source",
   "name": "Java",
   "pygments_lexer": "java",
   "version": "11.0.8+10-LTS"
  }
 },
 "nbformat": 4,
 "nbformat_minor": 4
}
