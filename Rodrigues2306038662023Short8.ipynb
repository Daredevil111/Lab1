{
 "cells": [
  {
   "cell_type": "markdown",
   "metadata": {},
   "source": [
    "# Short Assessed Exercise\n",
    "# Level  8\n",
    "## Hansel Rodrigues\n",
    "## Student ID: 230603866\n",
    "## Version 1 (20 November 2023)\n",
    "\n"
   ]
  },
  {
   "cell_type": "markdown",
   "metadata": {},
   "source": [
    "## Summary of the Question \n",
    "\n",
    "Write a program that ...\n",
    "\n",
    "The program MUST be structured as a series of methods where the first method calls a series of others in turn. They will either get values and return results back to the first method, or take arguments and return calculated results or take arguments and print results. \n",
    "\n",
    "The first method uses the returned values to pass arguments to the next method."
   ]
  },
  {
   "cell_type": "markdown",
   "metadata": {},
   "source": [
    "## Justification that the program passes this level\n",
    "This is based on tick boxes at start of the question description for short program level 2\n",
    "I can \n",
    "- Write a literate version of the code.\n",
    "- EXPLAIN HOW YOUR PROGRAM WORKS \n",
    "- Use input instructions\n",
    "- Use assignment and variables\n",
    "- Use final variables to store literal values rather than values appearing through the code.\n",
    "- Define all variables inside methods\n",
    "- Use arithmetic expressions\n",
    "- Split code in to methods at least one of which takes arguments and returns a result\n",
    "- Make simple use of comments – at least the author’s name, student number and date and an explanation of what the program does overall"
   ]
  },
  {
   "cell_type": "markdown",
   "metadata": {},
   "source": [
    "## The literate program development"
   ]
  },
  {
   "cell_type": "markdown",
   "metadata": {},
   "source": [
    "### createRestaurantRecords\n",
    "\n",
    "#### What it does\n",
    "This method just helps create the record for the disability rating.\n",
    "#### Implementation (how it works)\n",
    "It just initializes all the variables and asks the name of the restaurant and uses a return statement to store the information.\n",
    "\n",
    "\n"
   ]
  },
  {
   "cell_type": "code",
   "execution_count": 1,
   "metadata": {},
   "outputs": [],
   "source": [
    "// record to store information about disability rating\n",
    "class RestaurantRecord \n",
    "{\n",
    "    String restaurant_name;\n",
    "    int stepFreeAccessScore;\n",
    "    int toiletScore;\n",
    "    int parkingScore;\n",
    "    int totalScore;\n",
    "    String rating;\n",
    "        \n",
    "} // END class RestaurantRecord\n",
    "\n",
    "// A method that helps create a record for disability rating\n",
    "//\n",
    "public static RestaurantRecord createRestaurantRecords (Scanner scanner)\n",
    "{\n",
    "    RestaurantRecord restaurantRecord = new RestaurantRecord ();\n",
    "    System.out.println(\"What is the name of the restaurant ?\");\n",
    "    restaurantRecord.restaurant_name = scanner.nextLine();\n",
    "    restaurantRecord.stepFreeAccessScore = 0;\n",
    "    restaurantRecord.toiletScore = 0;\n",
    "    restaurantRecord.parkingScore = 0;\n",
    "    restaurantRecord.totalScore = 0;\n",
    "    restaurantRecord.rating = \"UNRATED\";\n",
    "    return restaurantRecord;\n",
    "    \n",
    "} //END createRestaurantRecords\n",
    "\n"
   ]
  },
  {
   "cell_type": "markdown",
   "metadata": {},
   "source": [
    "#### Testing"
   ]
  },
  {
   "cell_type": "code",
   "execution_count": 2,
   "metadata": {},
   "outputs": [
    {
     "name": "stdout",
     "output_type": "stream",
     "text": [
      "What is the name of the restaurant ?\n"
     ]
    },
    {
     "name": "stdin",
     "output_type": "stream",
     "text": [
      " wew\n"
     ]
    },
    {
     "data": {
      "text/plain": [
       "REPL.$JShell$12$RestaurantRecord@77652ee6"
      ]
     },
     "execution_count": 2,
     "metadata": {},
     "output_type": "execute_result"
    }
   ],
   "source": [
    "Scanner scanner = new Scanner(System.in);\n",
    "createRestaurantRecords (scanner);"
   ]
  },
  {
   "cell_type": "markdown",
   "metadata": {},
   "source": [
    "### getScore\n",
    "#### What it does\n",
    "This method just asks the user for the score for each category and checks if it is valid.\n",
    "\n",
    "#### Implementation (how it works)\n",
    "It just uses scanner to ask the user for input and uses if conditions to check if the score is valid. If the score is not valid, it is set up to keep repeating until the user enters a valid number.\n",
    "\n"
   ]
  },
  {
   "cell_type": "code",
   "execution_count": 21,
   "metadata": {},
   "outputs": [],
   "source": [
    "// a method to accept the score for each category and checks if it is valid.\n",
    "public static int getScore (Scanner scanner, String category)\n",
    "{\n",
    "    System.out.println(\"What is the score for \" + category + \"? \");\n",
    "    String input = scanner.nextLine ();\n",
    "    int score = Integer.parseInt(input);\n",
    "    if (isValidScore(score))\n",
    "    {\n",
    "        return score;\n",
    "    }\n",
    "    else\n",
    "    {\n",
    "        System.out.println(\"Invalid score. Score must be between 1 and 3\");\n",
    "        return getScore (scanner, category);\n",
    "    }\n",
    "    \n",
    "    \n",
    "} //END getScore\n"
   ]
  },
  {
   "cell_type": "markdown",
   "metadata": {},
   "source": [
    "#### Testing"
   ]
  },
  {
   "cell_type": "code",
   "execution_count": 22,
   "metadata": {},
   "outputs": [
    {
     "name": "stdout",
     "output_type": "stream",
     "text": [
      "What is the score for toiletScore? \n"
     ]
    },
    {
     "name": "stdin",
     "output_type": "stream",
     "text": [
      " 12\n"
     ]
    },
    {
     "name": "stdout",
     "output_type": "stream",
     "text": [
      "Invalid score. Score must be between 1 and 3\n",
      "What is the score for toiletScore? \n"
     ]
    },
    {
     "name": "stdin",
     "output_type": "stream",
     "text": [
      " 13\n"
     ]
    },
    {
     "name": "stdout",
     "output_type": "stream",
     "text": [
      "Invalid score. Score must be between 1 and 3\n",
      "What is the score for toiletScore? \n"
     ]
    },
    {
     "name": "stdin",
     "output_type": "stream",
     "text": [
      " 2\n"
     ]
    },
    {
     "data": {
      "text/plain": [
       "2"
      ]
     },
     "execution_count": 22,
     "metadata": {},
     "output_type": "execute_result"
    }
   ],
   "source": [
    "Scanner scanner = new Scanner(System.in);\n",
    "String category = \"toiletScore\";\n",
    "getScore (scanner, category);"
   ]
  },
  {
   "cell_type": "markdown",
   "metadata": {},
   "source": [
    "#### setScores\n",
    "\n",
    "#### What it does\n",
    "This method just stores the score calculated in the variables for each record category.\n",
    "#### Implementation (how it works)\n",
    "This method just stores the score calculated in the variables for each record category.It then calls the calculate total score and set rating method to calculate total score and rating.\n"
   ]
  },
  {
   "cell_type": "code",
   "execution_count": 30,
   "metadata": {},
   "outputs": [],
   "source": [
    "// A method that sets the rating for each category\n",
    "public static void setScores (RestaurantRecord restaurantRecord, int stepFreeAccessScore, int toiletScore, int parkingScore)\n",
    "{\n",
    "    \n",
    "    restaurantRecord.stepFreeAccessScore = stepFreeAccessScore;\n",
    "    restaurantRecord.toiletScore = toiletScore;\n",
    "    restaurantRecord.parkingScore =  parkingScore;\n",
    "    calculatetotalScore (restaurantRecord);\n",
    "    setRating (restaurantRecord);\n",
    "    return;\n",
    "    \n",
    "    \n",
    "} //END setScores\n",
    "\n"
   ]
  },
  {
   "cell_type": "markdown",
   "metadata": {},
   "source": [
    "#### Testing"
   ]
  },
  {
   "cell_type": "code",
   "execution_count": 31,
   "metadata": {},
   "outputs": [],
   "source": [
    "RestaurantRecord restaurantRecord = new RestaurantRecord();\n",
    "int stepFreeAccessScore = 1;\n",
    "int toiletScore = 0;\n",
    "int parkingScore = 1;\n",
    "setScores (restaurantRecord, stepFreeAccessScore, toiletScore, parkingScore);"
   ]
  },
  {
   "cell_type": "markdown",
   "metadata": {},
   "source": [
    "### isValidScore \n",
    "\n",
    "#### What it does\n",
    "This method just checks if the score entered is valid.\n",
    "#### Implementation (how it works)\n",
    "It just uses boolean logic where if the score entered is valid is true it will return true and vice versa.\n"
   ]
  },
  {
   "cell_type": "code",
   "execution_count": 9,
   "metadata": {},
   "outputs": [],
   "source": [
    "// a method that returns true or false depeding on the score\n",
    "public static boolean isValidScore (int score)\n",
    "{\n",
    "    return score >= 1 && score <=3;\n",
    "} // END isValidScore\n"
   ]
  },
  {
   "cell_type": "markdown",
   "metadata": {},
   "source": [
    "Testing"
   ]
  },
  {
   "cell_type": "code",
   "execution_count": 10,
   "metadata": {},
   "outputs": [
    {
     "data": {
      "text/plain": [
       "true"
      ]
     },
     "execution_count": 10,
     "metadata": {},
     "output_type": "execute_result"
    }
   ],
   "source": [
    "int score = 2;\n",
    "isValidScore (score);"
   ]
  },
  {
   "cell_type": "markdown",
   "metadata": {},
   "source": [
    "### calculatetotalScore\n",
    "\n",
    "#### What it does\n",
    "This method just calculates the total score for the restaurant by adding all the score.\n",
    "#### Implementation (how it works)\n",
    "It just calculates the total score through addition."
   ]
  },
  {
   "cell_type": "code",
   "execution_count": 11,
   "metadata": {},
   "outputs": [],
   "source": [
    "// a method that calculates the total score by adding each score\n",
    "public static void calculatetotalScore (RestaurantRecord restaurantRecord)\n",
    "{\n",
    "    restaurantRecord.totalScore = restaurantRecord.stepFreeAccessScore + restaurantRecord.toiletScore + restaurantRecord.parkingScore;\n",
    "    return;\n",
    "} //END calculatetotalScore"
   ]
  },
  {
   "cell_type": "code",
   "execution_count": 12,
   "metadata": {},
   "outputs": [],
   "source": [
    "RestaurantRecord restaurantRecord = new RestaurantRecord();\n",
    "calculatetotalScore (restaurantRecord);"
   ]
  },
  {
   "cell_type": "markdown",
   "metadata": {},
   "source": [
    "#### setRating\n",
    "\n",
    "#### What it does\n",
    "This method just calculates the rating for the restaurant.\n",
    "#### Implementation (how it works)\n",
    "It just uses a series of if conditions to assign the rating based on the total score."
   ]
  },
  {
   "cell_type": "code",
   "execution_count": 13,
   "metadata": {},
   "outputs": [],
   "source": [
    "// a method that sets the rating depending on the total score\n",
    "public static void setRating (RestaurantRecord restaurantRecord)\n",
    "{\n",
    "    final int OUTSTANDING = 9;\n",
    "    final int GOOD = 5;\n",
    "    \n",
    "    if (restaurantRecord.totalScore >= OUTSTANDING)\n",
    "    {\n",
    "        restaurantRecord.rating = \"OUTSTANDING\";\n",
    "    }\n",
    "    else if (restaurantRecord.totalScore > GOOD)\n",
    "    {\n",
    "        restaurantRecord.rating = \"GOOD\";\n",
    "    }\n",
    "    else\n",
    "    {\n",
    "        restaurantRecord.rating = \"POOR\";\n",
    "    }\n",
    "    return;\n",
    "} //END setRating"
   ]
  },
  {
   "cell_type": "code",
   "execution_count": 14,
   "metadata": {},
   "outputs": [],
   "source": [
    "RestaurantRecord restaurantRecord = new RestaurantRecord();\n",
    "setRating (restaurantRecord);"
   ]
  },
  {
   "cell_type": "markdown",
   "metadata": {},
   "source": [
    "#### convertToString\n",
    "\n",
    "#### What it does\n",
    "This method just converts the final statement to string data type.\n",
    "#### Implementation (how it works)\n",
    "It just returns statement as string."
   ]
  },
  {
   "cell_type": "code",
   "execution_count": 15,
   "metadata": {},
   "outputs": [],
   "source": [
    "// a method that converts the record to string and retrurns it\n",
    "public static String convertToString(RestaurantRecord restaurantRecord)\n",
    "{\n",
    "    return restaurantRecord.restaurant_name + \" has a disability rating of \" + restaurantRecord.rating + \".\";\n",
    "    \n",
    "} //END convertToString"
   ]
  },
  {
   "cell_type": "code",
   "execution_count": 16,
   "metadata": {},
   "outputs": [
    {
     "data": {
      "text/plain": [
       "null has a disability rating of null."
      ]
     },
     "execution_count": 16,
     "metadata": {},
     "output_type": "execute_result"
    }
   ],
   "source": [
    "RestaurantRecord restaurantRecord = new RestaurantRecord();\n",
    "convertToString(restaurantRecord);"
   ]
  },
  {
   "cell_type": "markdown",
   "metadata": {},
   "source": [
    "#### printRating\n",
    "\n",
    "#### What it does\n",
    "This method just prints the final statement.\n",
    "#### Implementation (how it works)\n",
    "It just calls the convert to string methods and prints the final statement with a line space below it."
   ]
  },
  {
   "cell_type": "code",
   "execution_count": 25,
   "metadata": {},
   "outputs": [],
   "source": [
    "// a method that outputs the converted string \n",
    "public static void printRating(RestaurantRecord restaurantRecord)\n",
    "{\n",
    "    System.out.println(convertToString(restaurantRecord));\n",
    "    System.out.println(\"\\n \");\n",
    "    return;\n",
    "    \n",
    "} //END printRating"
   ]
  },
  {
   "cell_type": "code",
   "execution_count": 26,
   "metadata": {},
   "outputs": [
    {
     "name": "stdout",
     "output_type": "stream",
     "text": [
      "null has a disability rating of null.\n",
      "\n",
      " \n"
     ]
    }
   ],
   "source": [
    "RestaurantRecord restaurantRecord = new RestaurantRecord();\n",
    "printRating(restaurantRecord);"
   ]
  },
  {
   "cell_type": "markdown",
   "metadata": {},
   "source": [
    "#### askAnotherRestaurant \n",
    "\n",
    "#### What it does\n",
    "This method just asks the user if they want to calculates the rating for another restaurant.\n",
    "#### Implementation (how it works)\n",
    "It just asks the user if they want to calculates the rating for another restaurant by checking the input given by the user."
   ]
  },
  {
   "cell_type": "code",
   "execution_count": 19,
   "metadata": {},
   "outputs": [],
   "source": [
    "// a method that asks the user if they want to check another restaurant's disability rating\n",
    "public static char askAnotherRestaurant (Scanner scanner)\n",
    "{\n",
    "    System.out.println(\"Another (y/n)? \");\n",
    "    String userInput = scanner.nextLine();\n",
    "    return userInput.charAt(0);\n",
    "} //END askAnotherRestaurant "
   ]
  },
  {
   "cell_type": "code",
   "execution_count": 20,
   "metadata": {},
   "outputs": [
    {
     "name": "stdout",
     "output_type": "stream",
     "text": [
      "Another (y/n)? \n"
     ]
    },
    {
     "name": "stdin",
     "output_type": "stream",
     "text": [
      " y\n"
     ]
    },
    {
     "data": {
      "text/plain": [
       "y"
      ]
     },
     "execution_count": 20,
     "metadata": {},
     "output_type": "execute_result"
    }
   ],
   "source": [
    "Scanner scanner = new Scanner(System.in);\n",
    "askAnotherRestaurant (scanner);"
   ]
  },
  {
   "cell_type": "markdown",
   "metadata": {},
   "source": [
    "### summary\n",
    "\n",
    "#### What it does\n",
    "This method just prints the required output by calling all the other methods.\n",
    "#### Implementation (how it works)\n",
    "It just calculates the rating for a restaurant by calling the required methods and uses a while loop to loop the block of code again if the user wants to calculate the rating of another restaurant."
   ]
  },
  {
   "cell_type": "code",
   "execution_count": 27,
   "metadata": {},
   "outputs": [],
   "source": [
    "// a method that calls all the required methods to produce the necessary output\n",
    "public static void summary ()\n",
    "{\n",
    "    Scanner scanner = new Scanner (System.in);\n",
    "    char anotherRestaurant = 'y';\n",
    "\n",
    "    while (anotherRestaurant == 'y')\n",
    "    {\n",
    "        RestaurantRecord restaurantRecord = createRestaurantRecords(scanner);\n",
    "        int stepFreeAccessScore = getScore (scanner, \"step-free access\");\n",
    "        int toiletScore = getScore (scanner, \"disabled toilets\");\n",
    "        int parkingScore = getScore (scanner, \"disabled parking\");\n",
    "        System.out.println(\"\\n\");\n",
    "        setScores (restaurantRecord, stepFreeAccessScore, toiletScore, parkingScore);\n",
    "        printRating (restaurantRecord);\n",
    "        anotherRestaurant = askAnotherRestaurant(scanner);\n",
    "    }\n",
    "    \n",
    "    return;\n",
    "    \n",
    "    \n",
    "    \n",
    "} //END summary"
   ]
  },
  {
   "cell_type": "code",
   "execution_count": 28,
   "metadata": {},
   "outputs": [
    {
     "name": "stdout",
     "output_type": "stream",
     "text": [
      "What is the name of the restaurant ?\n"
     ]
    },
    {
     "name": "stdin",
     "output_type": "stream",
     "text": [
      " Posh Nash\n"
     ]
    },
    {
     "name": "stdout",
     "output_type": "stream",
     "text": [
      "What is the score for step-free access? \n"
     ]
    },
    {
     "name": "stdin",
     "output_type": "stream",
     "text": [
      " 2\n"
     ]
    },
    {
     "name": "stdout",
     "output_type": "stream",
     "text": [
      "What is the score for disabled toilets? \n"
     ]
    },
    {
     "name": "stdin",
     "output_type": "stream",
     "text": [
      " 3\n"
     ]
    },
    {
     "name": "stdout",
     "output_type": "stream",
     "text": [
      "What is the score for disabled parking? \n"
     ]
    },
    {
     "name": "stdin",
     "output_type": "stream",
     "text": [
      " 1\n"
     ]
    },
    {
     "name": "stdout",
     "output_type": "stream",
     "text": [
      "\n",
      "\n",
      "Posh Nash has a disability rating of GOOD.\n",
      "\n",
      " \n",
      "Another (y/n)? \n"
     ]
    },
    {
     "name": "stdin",
     "output_type": "stream",
     "text": [
      " n\n"
     ]
    }
   ],
   "source": [
    "summary ();"
   ]
  },
  {
   "cell_type": "markdown",
   "metadata": {},
   "source": [
    "### Running the program\n",
    "Run the following call to simulate running the complete program."
   ]
  },
  {
   "cell_type": "code",
   "execution_count": 29,
   "metadata": {},
   "outputs": [
    {
     "name": "stdout",
     "output_type": "stream",
     "text": [
      "What is the name of the restaurant ?\n"
     ]
    },
    {
     "name": "stdin",
     "output_type": "stream",
     "text": [
      " Posh Nash\n"
     ]
    },
    {
     "name": "stdout",
     "output_type": "stream",
     "text": [
      "What is the score for step-free access? \n"
     ]
    },
    {
     "name": "stdin",
     "output_type": "stream",
     "text": [
      " 2\n"
     ]
    },
    {
     "name": "stdout",
     "output_type": "stream",
     "text": [
      "What is the score for disabled toilets? \n"
     ]
    },
    {
     "name": "stdin",
     "output_type": "stream",
     "text": [
      " 3\n"
     ]
    },
    {
     "name": "stdout",
     "output_type": "stream",
     "text": [
      "What is the score for disabled parking? \n"
     ]
    },
    {
     "name": "stdin",
     "output_type": "stream",
     "text": [
      " 1\n"
     ]
    },
    {
     "name": "stdout",
     "output_type": "stream",
     "text": [
      "\n",
      "\n",
      "Posh Nash has a disability rating of GOOD.\n",
      "\n",
      " \n",
      "Another (y/n)? \n"
     ]
    },
    {
     "name": "stdin",
     "output_type": "stream",
     "text": [
      " n\n"
     ]
    }
   ],
   "source": [
    "summary ();"
   ]
  },
  {
   "cell_type": "markdown",
   "metadata": {},
   "source": [
    "## The complete program \n",
    "This version will only compile here. To run it copy it into a file called initials.java on your local computer and compile and run it there."
   ]
  },
  {
   "cell_type": "code",
   "execution_count": 3,
   "metadata": {},
   "outputs": [],
   "source": [
    "/* **********************\n",
    "  @author    Hansel Rodrigues\n",
    "  @SID       230603866\n",
    "  @date      20 November 2023\n",
    "  @version   1\n",
    "\n",
    "This is a  program that  rates the disability access rating of restaurants.\n",
    "   ********************/\n",
    "\n",
    "// record to store information about disability rating\n",
    "class RestaurantRecord \n",
    "{\n",
    "    String restaurant_name;\n",
    "    int stepFreeAccessScore;\n",
    "    int toiletScore;\n",
    "    int parkingScore;\n",
    "    int totalScore;\n",
    "    String rating;\n",
    "        \n",
    "} // END class RestaurantRecord\n",
    "\n",
    "class DisabilityRatingForRestaurants\n",
    "{\n",
    "    public static void main (String [] a)\n",
    "    {\n",
    "        summary ();\n",
    "        return;\n",
    "    } // END main\n",
    "    \n",
    "    // a method that calls all the required methods to produce the necessary output\n",
    "    public static void summary ()\n",
    "    {\n",
    "        Scanner scanner = new Scanner (System.in);\n",
    "        char anotherRestaurant = 'y';\n",
    "\n",
    "        while (anotherRestaurant == 'y')\n",
    "        {\n",
    "            RestaurantRecord restaurantRecord = createRestaurantRecords(scanner);\n",
    "            int stepFreeAccessScore = getScore (scanner, \"step-free access\");\n",
    "            int toiletScore = getScore (scanner, \"disabled toilets\");\n",
    "            int parkingScore = getScore (scanner, \"disabled parking\");\n",
    "            System.out.println(\"\\n\");\n",
    "            setScores (restaurantRecord, stepFreeAccessScore, toiletScore, parkingScore);\n",
    "            printRating (restaurantRecord);\n",
    "            anotherRestaurant = askAnotherRestaurant(scanner);\n",
    "        }\n",
    "    \n",
    "        return;\n",
    "\n",
    "    } //END summary\n",
    "\n",
    "    // A method that helps create a record for disability rating\n",
    "\n",
    "    public static RestaurantRecord createRestaurantRecords (Scanner scanner)\n",
    "    {\n",
    "        RestaurantRecord restaurantRecord = new RestaurantRecord ();\n",
    "        System.out.println(\"What is the name of the restaurant ?\");\n",
    "        restaurantRecord.restaurant_name = scanner.nextLine();\n",
    "        restaurantRecord.stepFreeAccessScore = 0;\n",
    "        restaurantRecord.toiletScore = 0;\n",
    "        restaurantRecord.parkingScore = 0;\n",
    "        restaurantRecord.totalScore = 0;\n",
    "        restaurantRecord.rating = \"UNRATED\";\n",
    "        return restaurantRecord;\n",
    "    \n",
    "    } //END createRestaurantRecords\n",
    "\n",
    "    // a method to accept the score for each category and checks if it is valid.\n",
    "    public static int getScore (Scanner scanner, String category)\n",
    "    {\n",
    "        System.out.println(\"What is the score for \" + category + \"? \");\n",
    "        String input = scanner.nextLine ();\n",
    "        int score = Integer.parseInt(input);\n",
    "        if (isValidScore(score))\n",
    "        {\n",
    "            return score;\n",
    "        }\n",
    "        else\n",
    "        {\n",
    "            System.out.println(\"Invalid score. Score must be between 1 and 3\");\n",
    "            return getScore (scanner, category);\n",
    "        }\n",
    "    \n",
    "    \n",
    "    } //END getScore\n",
    "\n",
    "    // A method that sets the rating for each category\n",
    "    public static void setScores (RestaurantRecord restaurantRecord, int stepFreeAccessScore, int toiletScore, int parkingScore)\n",
    "    {\n",
    "    \n",
    "        restaurantRecord.stepFreeAccessScore = stepFreeAccessScore;\n",
    "        restaurantRecord.toiletScore = toiletScore;\n",
    "        restaurantRecord.parkingScore =  parkingScore;\n",
    "        calculatetotalScore (restaurantRecord);\n",
    "        setRating (restaurantRecord);\n",
    "        return;\n",
    "    \n",
    "    \n",
    "    } //END setScores\n",
    "\n",
    "    // a method that returns true or false depeding on the score\n",
    "    public static boolean isValidScore (int score)\n",
    "    {\n",
    "        return score >= 1 && score <=3;\n",
    "    } // END isValidScore\n",
    "\n",
    "    // a method that calculates the total score by adding each score\n",
    "    public static void calculatetotalScore (RestaurantRecord restaurantRecord)\n",
    "    {\n",
    "        restaurantRecord.totalScore = restaurantRecord.stepFreeAccessScore + restaurantRecord.toiletScore + restaurantRecord.parkingScore;\n",
    "        return;\n",
    "    } //END calculatetotalScore\n",
    "\n",
    "    // a method that sets the rating depending on the total score\n",
    "    public static void setRating (RestaurantRecord restaurantRecord)\n",
    "    {\n",
    "        final int OUTSTANDING = 9;\n",
    "        final int GOOD = 5;\n",
    "    \n",
    "        if (restaurantRecord.totalScore >= OUTSTANDING)\n",
    "        {\n",
    "            restaurantRecord.rating = \"OUTSTANDING\";\n",
    "        }\n",
    "        else if (restaurantRecord.totalScore > GOOD)\n",
    "        {\n",
    "            restaurantRecord.rating = \"GOOD\";\n",
    "        }\n",
    "        else\n",
    "        {\n",
    "            restaurantRecord.rating = \"POOR\";\n",
    "        }\n",
    "        return;\n",
    "    } //END setRating\n",
    "\n",
    "    // a method that converts the record to string and retrurns it\n",
    "    public static String convertToString(RestaurantRecord restaurantRecord)\n",
    "    {\n",
    "        return restaurantRecord.restaurant_name + \" has a disability rating of \" + restaurantRecord.rating + \".\";\n",
    "    \n",
    "    } //END convertToString\n",
    "\n",
    "    // a method that outputs the converted string \n",
    "    public static void printRating(RestaurantRecord restaurantRecord)\n",
    "    {\n",
    "        System.out.println(convertToString(restaurantRecord));\n",
    "        System.out.println(\"\\n \");\n",
    "        return;\n",
    "    \n",
    "    } //END printRating\n",
    "\n",
    "    // a method that asks the user if they want to check another restaurant's disability rating\n",
    "    public static char askAnotherRestaurant (Scanner scanner)\n",
    "    {\n",
    "        System.out.println(\"Another (y/n)? \");\n",
    "        String userInput = scanner.nextLine();\n",
    "        return userInput.charAt(0);\n",
    "    } //END askAnotherRestaurant \n",
    "\n",
    "\n",
    "} // END class DisabilityRatingForRestaurants\n"
   ]
  },
  {
   "cell_type": "code",
   "execution_count": 4,
   "metadata": {},
   "outputs": [
    {
     "name": "stdout",
     "output_type": "stream",
     "text": [
      "What is the name of the restaurant ?\n"
     ]
    },
    {
     "name": "stdin",
     "output_type": "stream",
     "text": [
      " Posh Nash\n"
     ]
    },
    {
     "name": "stdout",
     "output_type": "stream",
     "text": [
      "What is the score for step-free access? \n"
     ]
    },
    {
     "name": "stdin",
     "output_type": "stream",
     "text": [
      " 2\n"
     ]
    },
    {
     "name": "stdout",
     "output_type": "stream",
     "text": [
      "What is the score for disabled toilets? \n"
     ]
    },
    {
     "name": "stdin",
     "output_type": "stream",
     "text": [
      " 3\n"
     ]
    },
    {
     "name": "stdout",
     "output_type": "stream",
     "text": [
      "What is the score for disabled parking? \n"
     ]
    },
    {
     "name": "stdin",
     "output_type": "stream",
     "text": [
      " 1\n"
     ]
    },
    {
     "name": "stdout",
     "output_type": "stream",
     "text": [
      "\n",
      "\n",
      "Posh Nash has a disability rating of GOOD.\n",
      "\n",
      " \n",
      "Another (y/n)? \n"
     ]
    },
    {
     "name": "stdin",
     "output_type": "stream",
     "text": [
      " n\n"
     ]
    }
   ],
   "source": [
    "DisabilityRatingForRestaurants.main(null);"
   ]
  },
  {
   "cell_type": "markdown",
   "metadata": {},
   "source": [
    "**END OF LITERATE DOCUMENT**"
   ]
  }
 ],
 "metadata": {
  "kernelspec": {
   "display_name": "Java",
   "language": "java",
   "name": "java"
  },
  "language_info": {
   "codemirror_mode": "java",
   "file_extension": ".jshell",
   "mimetype": "text/x-java-source",
   "name": "Java",
   "pygments_lexer": "java",
   "version": "11.0.8+10-LTS"
  }
 },
 "nbformat": 4,
 "nbformat_minor": 4
}
